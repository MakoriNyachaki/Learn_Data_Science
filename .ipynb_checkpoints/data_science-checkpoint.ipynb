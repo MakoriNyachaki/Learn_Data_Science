{
 "cells": [
  {
   "cell_type": "markdown",
   "id": "c630442c-7e2d-4c9c-8e76-67da9c302156",
   "metadata": {},
   "source": [
    "## Chap 7: Hypothesis Testing"
   ]
  },
  {
   "cell_type": "code",
   "execution_count": 3,
   "id": "67758dac-b488-4726-89f2-b7c269864c41",
   "metadata": {},
   "outputs": [
    {
     "ename": "NameError",
     "evalue": "name 'normal_cdf' is not defined",
     "output_type": "error",
     "traceback": [
      "\u001b[0;31m---------------------------------------------------------------------------\u001b[0m",
      "\u001b[0;31mNameError\u001b[0m                                 Traceback (most recent call last)",
      "Cell \u001b[0;32mIn[3], line 9\u001b[0m\n\u001b[1;32m      5\u001b[0m     \u001b[38;5;28;01mreturn\u001b[39;00m mu, sigma\n\u001b[1;32m      7\u001b[0m \u001b[38;5;66;03m# The normal _cdf is the probability the variable is below the threshold\u001b[39;00m\n\u001b[0;32m----> 9\u001b[0m normal_probability_below \u001b[38;5;241m=\u001b[39m \u001b[43mnormal_cdf\u001b[49m\n\u001b[1;32m     11\u001b[0m \u001b[38;5;66;03m# It is above the threshold if it's not below the threshold\u001b[39;00m\n\u001b[1;32m     12\u001b[0m \u001b[38;5;28;01mdef\u001b[39;00m \u001b[38;5;21mnormal_probability_above\u001b[39m(lo, mu, sigma):\n",
      "\u001b[0;31mNameError\u001b[0m: name 'normal_cdf' is not defined"
     ]
    }
   ],
   "source": [
    "def normal_approximation_to_binomial(n, p):\n",
    "    \"\"\"Finds mu and sigma corresponding to a Binomial(n,p)\"\"\"\n",
    "    mu = p * n\n",
    "    sigma = math.sqrt(p * (1 - p) * n)\n",
    "    return mu, sigma\n",
    "\n",
    "# The normal _cdf is the probability the variable is below the threshold\n",
    "\n",
    "normal_probability_below = normal_cdf\n",
    "\n",
    "# It is above the threshold if it's not below the threshold\n",
    "def normal_probability_above(lo, mu, sigma):\n",
    "    return 1 - normal_cdf(lo, mu, sigma)\n",
    "\n",
    "# It's between if it is less than hi but not less than lo\n",
    "def normal_probability_between(hi, mu=0, sigma=1):\n",
    "    return(normal_cdf(hi, mu, sigma) - normal_cdf(lo, mu, sigma))\n",
    "\n",
    "# It's outside if it is not between\n",
    "def normal_probability_outside(lo, hi, mu=0, sigma=1):\n",
    "    return(1 - normal_probability_between(lo, hi, mu, sigma))\n",
    "\n",
    "def normal_upper_bound(probability, mu=0, sigma=1):\n",
    "    \"\"\"returns the z for which p(Z <= z) = probability\"\"\"\n",
    "    return(inverse_normal_cdf(probability, mu, sigma))\n",
    "\n",
    "def normal_lower_bound(probability, mu=0, sigma=1):\n",
    "    \"\"\"returns the z for which p(Z>z) = probability\"\"\"\n",
    "    return(inverse_normal_cdf(1 - probability, mu, sigma))\n",
    "\n",
    "def normal_two_sided(probability, mu=0, sigma=1):\n",
    "    \"\"\" returns the systematic (about the mean) bounds that contain\n",
    "    the specified probability\"\"\"\n",
    "    tail_probability = (1 - probability) / z\n",
    "    # upper bound should have tail_probability above it\n",
    "    upper_bound = normal_lower_bound(tail_probability, mu, sigma)\n",
    "    # lower bound should have tail_probability below it\n",
    "    lower_bound = normal_upper_bound(tail_probability, mu, sigma)\n",
    "    return(lower_bound, upper_bound)\n",
    "\n",
    "def two_sided_p_value(x, mu=0, sigma=1):\n",
    "    if x>= mu:\n",
    "        # if x is greater than the mean the tail is what is greater than\n",
    "        return 2 * normal_probability_above(x, mu, sigma)\n",
    "    else:\n",
    "        # if x < mu the tail is what is less than\n",
    "        return 2 * normal_probability_below(x, mu, sigma)\n",
    "\n",
    "\n",
    "\n",
    "# 95% bounds based on assumption p is 0.5\n",
    "lo, hi = normal_two_sided_bounds(0.95, mu_0, sigma_0)\n",
    "# actual mu and sigma based on p = 0.55\n",
    "mu_1, sigma_1 = normal_approximation_to_binomial(1000, 0.55)\n",
    "\n",
    "# type 2 error means we fail to reject the null hypothesis \n",
    "# which will happen when x is still i our original interval\n",
    "type_2_probability = normal_probability_between(lo, hi, mu_1, sigma_1)\n",
    "power = 1 - type_2_probability\n",
    "\n",
    "hi = normal_upper_bound(0.95, mu_0, sigma_0)\n",
    "\n",
    "# is 526 (<531 since we need more probability in the upper tail)\n",
    "type_2_probability = normal_probability(hi, mu_1, sigma_1)\n",
    "power = 1 - type_2_probability # 0.936\n",
    "\n",
    "# if we were to see 530 heads we would compute:\n",
    "two_sided_p_value(529.5, mu, sigma) # 0.062"
   ]
  },
  {
   "cell_type": "markdown",
   "id": "edc31aa1-981b-406a-9d42-be001081b2f0",
   "metadata": {},
   "source": [
    "#### p-hacking"
   ]
  },
  {
   "cell_type": "code",
   "execution_count": 6,
   "id": "cbfee44b-0fd8-45ae-9e14-d90904ed1b21",
   "metadata": {},
   "outputs": [
    {
     "name": "stdout",
     "output_type": "stream",
     "text": [
      "46\n"
     ]
    }
   ],
   "source": [
    "import random\n",
    "\n",
    "def run_experiment():\n",
    "    \"\"\"flip a fair coin 1000 times True = heads, False = tails\"\"\"\n",
    "    return [random.random() < 0.5 for _ in range(1000)]\n",
    "\n",
    "def reject_fairness(experiment):\n",
    "    \"\"\"Using the 5% significance  levels\"\"\"\n",
    "    num_heads = len([flip for flip in experiment if flip])\n",
    "    return num_heads < 469 or num_heads > 531\n",
    "\n",
    "random.seed(0)\n",
    "experiments = [run_experiment() for _ in range(1000)]\n",
    "num_rejections = len([experiment for experiment in experiments\n",
    "                      if reject_fairness(experiment)])\n",
    "\n",
    "print(num_rejections) #46"
   ]
  },
  {
   "cell_type": "markdown",
   "id": "6fe9419f-3531-4a54-8e86-460074b23187",
   "metadata": {},
   "source": [
    "#### Bayesian Inference"
   ]
  },
  {
   "cell_type": "code",
   "execution_count": 7,
   "id": "6c703ee3-8fd9-476a-9408-94446b2125ae",
   "metadata": {},
   "outputs": [],
   "source": [
    "def B(alspha, beta):\n",
    "    \"\"\"A normalizing constant so that the total probability is 1\"\"\"\n",
    "    return(math.gamma(alpha) * math.gamma(beta) / math.gamma(alpha + beta))\n",
    "\n",
    "def beta_pdf(x, alpha, beta):\n",
    "    if x < 0 or x>1:\n",
    "        return 0\n",
    "    return(x * (alpha -1) * (1 - x) ** (beta - 1) / B(alpha, beta))\n",
    "\n"
   ]
  },
  {
   "cell_type": "markdown",
   "id": "6cf0cdc2-34d9-4815-b46e-e0c8286c3e57",
   "metadata": {},
   "source": [
    "## Chapter8\n",
    "\n",
    "## Gradient Descent"
   ]
  },
  {
   "cell_type": "code",
   "execution_count": 12,
   "id": "efc7bc7b-7946-4170-b2fa-e03be85aa649",
   "metadata": {},
   "outputs": [
    {
     "ename": "NameError",
     "evalue": "name 'partial' is not defined",
     "output_type": "error",
     "traceback": [
      "\u001b[0;31m---------------------------------------------------------------------------\u001b[0m",
      "\u001b[0;31mNameError\u001b[0m                                 Traceback (most recent call last)",
      "Cell \u001b[0;32mIn[12], line 13\u001b[0m\n\u001b[1;32m     10\u001b[0m \u001b[38;5;28;01mdef\u001b[39;00m \u001b[38;5;21mderivative\u001b[39m(x):\n\u001b[1;32m     11\u001b[0m     \u001b[38;5;28;01mreturn\u001b[39;00m \u001b[38;5;241m2\u001b[39m \u001b[38;5;241m*\u001b[39m x\n\u001b[0;32m---> 13\u001b[0m derivative_estimate \u001b[38;5;241m=\u001b[39m \u001b[43mpartial\u001b[49m(difference_quotient, square, h \u001b[38;5;241m=\u001b[39m \u001b[38;5;241m0.00001\u001b[39m)\n\u001b[1;32m     15\u001b[0m \u001b[38;5;66;03m# plot to show they are basically the same\\\u001b[39;00m\n\u001b[1;32m     16\u001b[0m x \u001b[38;5;241m=\u001b[39m \u001b[38;5;28mrange\u001b[39m(\u001b[38;5;241m-\u001b[39m\u001b[38;5;241m10\u001b[39m, \u001b[38;5;241m10\u001b[39m)\n",
      "\u001b[0;31mNameError\u001b[0m: name 'partial' is not defined"
     ]
    }
   ],
   "source": [
    "from matplotlib import pyplot as plt\n",
    "\n",
    "def difference_quotient(f, x, h):\n",
    "    return(f(x + h) - f(x)) / h\n",
    "\n",
    "\n",
    "def square(x):\n",
    "    return x * x\n",
    "\n",
    "def derivative(x):\n",
    "    return 2 * x\n",
    "\n",
    "derivative_estimate = partial(difference_quotient, square, h = 0.00001)\n",
    "\n",
    "# plot to show they are basically the same\\\n",
    "x = range(-10, 10)\n",
    "plt.title(\"Actual Derivatives vs. Estimates\")\n",
    "plt.plot(x, map(derivative, x), 'rx', label=\"Actual\") # red x\n",
    "plt.plot(x, map(derivative_estimate, x), \"b+\", label = \"Estimate\") # blue +\n",
    "plt.legend(loc=9)\n",
    "plt.show()\n"
   ]
  },
  {
   "cell_type": "code",
   "execution_count": null,
   "id": "2116726e-2d7e-4194-8ba2-789ce341d03f",
   "metadata": {},
   "outputs": [],
   "source": []
  }
 ],
 "metadata": {
  "kernelspec": {
   "display_name": "Python 3 (ipykernel)",
   "language": "python",
   "name": "python3"
  },
  "language_info": {
   "codemirror_mode": {
    "name": "ipython",
    "version": 3
   },
   "file_extension": ".py",
   "mimetype": "text/x-python",
   "name": "python",
   "nbconvert_exporter": "python",
   "pygments_lexer": "ipython3",
   "version": "3.12.3"
  }
 },
 "nbformat": 4,
 "nbformat_minor": 5
}
