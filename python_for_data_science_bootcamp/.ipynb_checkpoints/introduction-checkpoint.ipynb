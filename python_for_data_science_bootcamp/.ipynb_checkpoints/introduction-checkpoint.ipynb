{
 "cells": [
  {
   "cell_type": "markdown",
   "id": "d19f07ab-a711-4136-8c50-77ee9b7df5af",
   "metadata": {},
   "source": [
    "# First Level"
   ]
  },
  {
   "cell_type": "markdown",
   "id": "97bcaa28-158a-4dc2-b390-c00fc85c7ae2",
   "metadata": {},
   "source": [
    "## Second Level"
   ]
  },
  {
   "cell_type": "markdown",
   "id": "7dd0c8cb-8d2d-4389-9bb0-5a2408ad0f28",
   "metadata": {},
   "source": [
    "This is our first text as you can see"
   ]
  },
  {
   "cell_type": "markdown",
   "id": "f2d84823-0b48-49f4-b6e8-2c1034e75d10",
   "metadata": {},
   "source": [
    "First List\n",
    "* First\n",
    "* Second "
   ]
  },
  {
   "cell_type": "markdown",
   "id": "14c0fa11-ba8e-47f2-b17b-45395ccbcd1c",
   "metadata": {},
   "source": [
    "Second List\n",
    "1. One\n",
    "2. Two"
   ]
  },
  {
   "cell_type": "markdown",
   "id": "b7a686aa-5d3d-4c5f-82bd-de86c13c4616",
   "metadata": {},
   "source": [
    "Links\n",
    "\n",
    "[https://x.com/start_a_way]"
   ]
  }
 ],
 "metadata": {
  "kernelspec": {
   "display_name": "Python 3 (ipykernel)",
   "language": "python",
   "name": "python3"
  },
  "language_info": {
   "codemirror_mode": {
    "name": "ipython",
    "version": 3
   },
   "file_extension": ".py",
   "mimetype": "text/x-python",
   "name": "python",
   "nbconvert_exporter": "python",
   "pygments_lexer": "ipython3",
   "version": "3.12.3"
  }
 },
 "nbformat": 4,
 "nbformat_minor": 5
}
