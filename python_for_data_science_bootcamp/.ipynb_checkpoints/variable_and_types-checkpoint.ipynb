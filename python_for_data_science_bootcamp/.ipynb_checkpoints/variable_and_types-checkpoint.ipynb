{
 "cells": [
  {
   "cell_type": "code",
   "execution_count": 1,
   "id": "6e9369f9-0c84-4922-b5c6-6c748210c7cc",
   "metadata": {},
   "outputs": [],
   "source": [
    "message = \"This is a comprehensive course!\" # String"
   ]
  },
  {
   "cell_type": "code",
   "execution_count": 2,
   "id": "6edc5f91-2096-4171-bf4a-7510fd70a9cb",
   "metadata": {},
   "outputs": [
    {
     "name": "stdout",
     "output_type": "stream",
     "text": [
      "This is a comprehensive course!\n"
     ]
    }
   ],
   "source": [
    "print(message) # print the variable message"
   ]
  },
  {
   "cell_type": "code",
   "execution_count": 3,
   "id": "38598a7a-8957-406c-b2c4-ff038c0747bd",
   "metadata": {},
   "outputs": [],
   "source": [
    "x = 10 # integer\n",
    "y=20.3  # float\n",
    "z = 20 + 5j # Complex number"
   ]
  },
  {
   "cell_type": "code",
   "execution_count": 4,
   "id": "81b60a82-4d60-4512-8e25-e39bda469a36",
   "metadata": {},
   "outputs": [
    {
     "data": {
      "text/plain": [
       "10"
      ]
     },
     "execution_count": 4,
     "metadata": {},
     "output_type": "execute_result"
    }
   ],
   "source": [
    "x"
   ]
  },
  {
   "cell_type": "code",
   "execution_count": 5,
   "id": "96496d4f-0744-4df3-b4f6-adcaa1a80b12",
   "metadata": {},
   "outputs": [
    {
     "data": {
      "text/plain": [
       "20.3"
      ]
     },
     "execution_count": 5,
     "metadata": {},
     "output_type": "execute_result"
    }
   ],
   "source": [
    "y"
   ]
  },
  {
   "cell_type": "code",
   "execution_count": 6,
   "id": "da57183d-c3eb-4a37-bd7d-340df5e6a421",
   "metadata": {},
   "outputs": [
    {
     "data": {
      "text/plain": [
       "(20+5j)"
      ]
     },
     "execution_count": 6,
     "metadata": {},
     "output_type": "execute_result"
    }
   ],
   "source": [
    "z"
   ]
  },
  {
   "cell_type": "code",
   "execution_count": 7,
   "id": "9b3e235f-7674-4280-ba69-c8ac53052036",
   "metadata": {},
   "outputs": [],
   "source": [
    "test = True # bool"
   ]
  },
  {
   "cell_type": "code",
   "execution_count": 8,
   "id": "993fd7b8-7734-4126-bb5a-bd36a30f2e3d",
   "metadata": {},
   "outputs": [
    {
     "data": {
      "text/plain": [
       "bool"
      ]
     },
     "execution_count": 8,
     "metadata": {},
     "output_type": "execute_result"
    }
   ],
   "source": [
    "type(test) # Shows the type of test"
   ]
  },
  {
   "cell_type": "code",
   "execution_count": 10,
   "id": "be09218a-cfdf-4448-929e-bb579badd498",
   "metadata": {},
   "outputs": [
    {
     "data": {
      "text/plain": [
       "int"
      ]
     },
     "execution_count": 10,
     "metadata": {},
     "output_type": "execute_result"
    }
   ],
   "source": [
    "type(x) # type of x"
   ]
  },
  {
   "cell_type": "code",
   "execution_count": 11,
   "id": "2e9add2f-7d56-448b-8a38-a5a50ae306bf",
   "metadata": {},
   "outputs": [
    {
     "data": {
      "text/plain": [
       "complex"
      ]
     },
     "execution_count": 11,
     "metadata": {},
     "output_type": "execute_result"
    }
   ],
   "source": [
    "type(z) # type of z"
   ]
  },
  {
   "cell_type": "markdown",
   "id": "f401f9d0-fd65-478a-853a-8971fc0286e3",
   "metadata": {},
   "source": [
    "Type can test any type of data"
   ]
  },
  {
   "cell_type": "markdown",
   "id": "3567f67a-3676-44ca-931d-cbbe93298643",
   "metadata": {},
   "source": [
    "## Comments in Python"
   ]
  },
  {
   "cell_type": "code",
   "execution_count": 12,
   "id": "9927cf55-453d-44c7-8bff-02758e345a2d",
   "metadata": {},
   "outputs": [],
   "source": [
    "# Block single line comment\n",
    "# Comments are not executed, they are discarded during execution.\n",
    "# Comments make your code more readable and understandable.\n",
    "# You can create multiple line comments by using the '#' symbol"
   ]
  },
  {
   "cell_type": "markdown",
   "id": "1353bf60-dc70-4fbf-92d9-10de2708ea57",
   "metadata": {},
   "source": [
    "## Indentation and Whitespace"
   ]
  },
  {
   "cell_type": "code",
   "execution_count": 15,
   "id": "ad7752d0-ef30-4aef-b1df-94a2046fa4ae",
   "metadata": {},
   "outputs": [],
   "source": [
    "# Python uses indention instead of curly brackets\n",
    "# Wrong indentation result to an error\n",
    "# Indentation is implemented using the same number of whitespaces in the same code body"
   ]
  },
  {
   "cell_type": "markdown",
   "id": "bb9d2d67-3c50-4edf-a69a-1545ec004bd6",
   "metadata": {},
   "source": [
    "Block"
   ]
  },
  {
   "cell_type": "code",
   "execution_count": 14,
   "id": "079b9a44-9f16-4158-820a-19b2d3c51322",
   "metadata": {},
   "outputs": [
    {
     "name": "stdout",
     "output_type": "stream",
     "text": [
      "Hello, Makori.\n"
     ]
    }
   ],
   "source": [
    "# Code block impelemntating indentation\n",
    "if True:\n",
    "    print(\"Hello, Makori.\") # Indented code"
   ]
  },
  {
   "cell_type": "markdown",
   "id": "576871e3-24a9-4dc7-b83f-809aaf7cb369",
   "metadata": {},
   "source": [
    "## String Data Type"
   ]
  },
  {
   "cell_type": "code",
   "execution_count": 16,
   "id": "4e86f071-7c54-4ecc-8583-330cf70d3924",
   "metadata": {},
   "outputs": [
    {
     "data": {
      "text/plain": [
       "str"
      ]
     },
     "execution_count": 16,
     "metadata": {},
     "output_type": "execute_result"
    }
   ],
   "source": [
    "type(\"Welcome\")"
   ]
  },
  {
   "cell_type": "code",
   "execution_count": 18,
   "id": "ce579e9c-1b9a-4427-b21b-d3acf8937f55",
   "metadata": {},
   "outputs": [],
   "source": [
    "name = \"Python Data Analysis and Visualization\""
   ]
  },
  {
   "cell_type": "code",
   "execution_count": 19,
   "id": "b761ade9-ef4f-43a3-a617-f11f08328b28",
   "metadata": {},
   "outputs": [
    {
     "data": {
      "text/plain": [
       "str"
      ]
     },
     "execution_count": 19,
     "metadata": {},
     "output_type": "execute_result"
    }
   ],
   "source": [
    "type(name)"
   ]
  },
  {
   "cell_type": "code",
   "execution_count": 20,
   "id": "5ed1a1e5-37b1-4c19-afdd-76b30a8e051b",
   "metadata": {},
   "outputs": [],
   "source": [
    "mix = \"High number 1243\""
   ]
  },
  {
   "cell_type": "code",
   "execution_count": 21,
   "id": "09d82902-d863-45f5-aea0-b47b0d09553e",
   "metadata": {},
   "outputs": [
    {
     "data": {
      "text/plain": [
       "str"
      ]
     },
     "execution_count": 21,
     "metadata": {},
     "output_type": "execute_result"
    }
   ],
   "source": [
    "type(mix)"
   ]
  },
  {
   "cell_type": "code",
   "execution_count": 22,
   "id": "27d7abcd-c048-477d-b18a-f6daa0af5c58",
   "metadata": {},
   "outputs": [
    {
     "data": {
      "text/plain": [
       "'Python Data Analysis and Visualization'"
      ]
     },
     "execution_count": 22,
     "metadata": {},
     "output_type": "execute_result"
    }
   ],
   "source": [
    "name # Gets the value of name"
   ]
  },
  {
   "cell_type": "code",
   "execution_count": 23,
   "id": "17d50b54-f9c6-4551-9552-450f2e488c81",
   "metadata": {},
   "outputs": [
    {
     "data": {
      "text/plain": [
       "38"
      ]
     },
     "execution_count": 23,
     "metadata": {},
     "output_type": "execute_result"
    }
   ],
   "source": [
    "len(name) # Get the length of name variable"
   ]
  },
  {
   "cell_type": "code",
   "execution_count": 24,
   "id": "a9862e94-ccdc-4cdd-9031-89800f717eff",
   "metadata": {},
   "outputs": [],
   "source": [
    "new_multiple = \"This is a multiple line string data \\\n",
    "in Pyhton programmin. \\\n",
    "It is very easy as you can see!\""
   ]
  },
  {
   "cell_type": "code",
   "execution_count": 25,
   "id": "b216df30-9ffa-43b0-8b73-1b9578119649",
   "metadata": {},
   "outputs": [
    {
     "data": {
      "text/plain": [
       "'This is a multiple line string data in Pyhton programmin. It is very easy as you can see!'"
      ]
     },
     "execution_count": 25,
     "metadata": {},
     "output_type": "execute_result"
    }
   ],
   "source": [
    "new_multiple"
   ]
  },
  {
   "cell_type": "code",
   "execution_count": 26,
   "id": "c3dbcf84-b4c6-4def-bdbf-325650fdd682",
   "metadata": {},
   "outputs": [],
   "source": [
    "new_multiple1 = \"\"\"This is another way to create multiple line\n",
    "without the need of a backslash.\n",
    "For multiple line text paragraph.\n",
    "It is easy also!\"\"\""
   ]
  },
  {
   "cell_type": "code",
   "execution_count": 27,
   "id": "b454e8b3-4317-48be-8b78-4f8c3e910af7",
   "metadata": {},
   "outputs": [
    {
     "data": {
      "text/plain": [
       "'This is another way to create multiple line\\nwithout the need of a backslash.\\nFor multiple line text paragraph.\\nIt is easy also!'"
      ]
     },
     "execution_count": 27,
     "metadata": {},
     "output_type": "execute_result"
    }
   ],
   "source": [
    "new_multiple1"
   ]
  },
  {
   "cell_type": "markdown",
   "id": "83ee23b3-00b5-4329-a2be-3f297cb62f57",
   "metadata": {},
   "source": [
    "## Concatination of strings\n",
    "\n",
    "We use the + sign to concatenate strings"
   ]
  },
  {
   "cell_type": "code",
   "execution_count": 32,
   "id": "1d10ea76-f17c-411c-9ba4-04bde7ac3739",
   "metadata": {},
   "outputs": [],
   "source": [
    "word1 = \"Pyhton\"\n",
    "word2 = \"Programming\"\n",
    "fullText = word1 + \" \" + word2"
   ]
  },
  {
   "cell_type": "code",
   "execution_count": 33,
   "id": "a3cb5d92-b9e0-4b1f-b2ea-eb7cc3bd71f5",
   "metadata": {},
   "outputs": [
    {
     "data": {
      "text/plain": [
       "'Pyhton Programming'"
      ]
     },
     "execution_count": 33,
     "metadata": {},
     "output_type": "execute_result"
    }
   ],
   "source": [
    "fullText"
   ]
  },
  {
   "cell_type": "markdown",
   "id": "5bca907f-2784-4925-9f41-673f01e06fe3",
   "metadata": {},
   "source": [
    "## Displatying a range of characters"
   ]
  },
  {
   "cell_type": "code",
   "execution_count": 35,
   "id": "bdb4557c-7583-4cf3-a396-9369373926ba",
   "metadata": {},
   "outputs": [
    {
     "data": {
      "text/plain": [
       "'Pyht'"
      ]
     },
     "execution_count": 35,
     "metadata": {},
     "output_type": "execute_result"
    }
   ],
   "source": [
    "fullText[0:4] # Displays characters upto the fourth characater excludinf the fifth on(4)"
   ]
  },
  {
   "cell_type": "markdown",
   "id": "c3c7dfe7-e088-472d-9689-274bc7ad6651",
   "metadata": {},
   "source": [
    "### String methods"
   ]
  },
  {
   "cell_type": "code",
   "execution_count": 37,
   "id": "0ba1155d-4df5-4c1e-8a32-68c30db1787e",
   "metadata": {},
   "outputs": [
    {
     "data": {
      "text/plain": [
       "'PYHTON PROGRAMMING'"
      ]
     },
     "execution_count": 37,
     "metadata": {},
     "output_type": "execute_result"
    }
   ],
   "source": [
    "fullText.upper() # Displays text in upper case"
   ]
  },
  {
   "cell_type": "code",
   "execution_count": 38,
   "id": "12170b6a-18e9-4974-a6e4-c30d1b3be1c1",
   "metadata": {},
   "outputs": [
    {
     "data": {
      "text/plain": [
       "'pyhton programming'"
      ]
     },
     "execution_count": 38,
     "metadata": {},
     "output_type": "execute_result"
    }
   ],
   "source": [
    "\n",
    "fullText.lower() # Displays text in lower case"
   ]
  },
  {
   "cell_type": "code",
   "execution_count": 39,
   "id": "198e147a-3987-493c-8351-d1073d16955e",
   "metadata": {},
   "outputs": [
    {
     "data": {
      "text/plain": [
       "18"
      ]
     },
     "execution_count": 39,
     "metadata": {},
     "output_type": "execute_result"
    }
   ],
   "source": [
    "len(fullText) # Displays the length of the text"
   ]
  },
  {
   "cell_type": "code",
   "execution_count": 40,
   "id": "e1bc556e-9073-4b52-a80e-bcd2780b1f75",
   "metadata": {},
   "outputs": [
    {
     "data": {
      "text/plain": [
       "'Pyhton Programming'"
      ]
     },
     "execution_count": 40,
     "metadata": {},
     "output_type": "execute_result"
    }
   ],
   "source": [
    "fullText.strip() # removes any whitespace sfrom the beginning and end of thestring"
   ]
  },
  {
   "cell_type": "markdown",
   "id": "261e74a8-a3d6-422b-9ce2-d4295759eea9",
   "metadata": {},
   "source": [
    "## Numbers and Math Operations"
   ]
  },
  {
   "cell_type": "code",
   "execution_count": 41,
   "id": "9d1f7157-bdcb-43d7-8df3-2dcc3915df1a",
   "metadata": {},
   "outputs": [],
   "source": [
    "x = 10"
   ]
  },
  {
   "cell_type": "code",
   "execution_count": 42,
   "id": "32e4487c-59c9-4e81-ae67-dda846fea2a4",
   "metadata": {},
   "outputs": [
    {
     "data": {
      "text/plain": [
       "int"
      ]
     },
     "execution_count": 42,
     "metadata": {},
     "output_type": "execute_result"
    }
   ],
   "source": [
    "type(x)"
   ]
  },
  {
   "cell_type": "code",
   "execution_count": 43,
   "id": "e2aa36dd-2f49-45d5-865e-895e140bbb2b",
   "metadata": {},
   "outputs": [
    {
     "data": {
      "text/plain": [
       "10"
      ]
     },
     "execution_count": 43,
     "metadata": {},
     "output_type": "execute_result"
    }
   ],
   "source": [
    "int(x)"
   ]
  },
  {
   "cell_type": "code",
   "execution_count": 44,
   "id": "c80936c8-28d5-48f1-b94d-92ca69e7ba1f",
   "metadata": {},
   "outputs": [],
   "source": [
    "y = '11'"
   ]
  },
  {
   "cell_type": "code",
   "execution_count": 45,
   "id": "24feda29-149c-4eb6-baa9-483b90f14a19",
   "metadata": {},
   "outputs": [
    {
     "data": {
      "text/plain": [
       "str"
      ]
     },
     "execution_count": 45,
     "metadata": {},
     "output_type": "execute_result"
    }
   ],
   "source": [
    "type(y)"
   ]
  },
  {
   "cell_type": "code",
   "execution_count": 48,
   "id": "50277122-a375-46f1-8601-d713ce766fac",
   "metadata": {},
   "outputs": [
    {
     "data": {
      "text/plain": [
       "11"
      ]
     },
     "execution_count": 48,
     "metadata": {},
     "output_type": "execute_result"
    }
   ],
   "source": [
    "int(y) # Convert a string y into an int data type"
   ]
  },
  {
   "cell_type": "code",
   "execution_count": 49,
   "id": "c5831ba5-f59e-41e7-aa60-ccb66e4d0e8d",
   "metadata": {},
   "outputs": [
    {
     "data": {
      "text/plain": [
       "str"
      ]
     },
     "execution_count": 49,
     "metadata": {},
     "output_type": "execute_result"
    }
   ],
   "source": [
    "type(y)"
   ]
  },
  {
   "cell_type": "code",
   "execution_count": 50,
   "id": "adc9a44b-5a5a-49e7-b306-d9158ff5bf3e",
   "metadata": {},
   "outputs": [],
   "source": [
    "m = 3.5"
   ]
  },
  {
   "cell_type": "code",
   "execution_count": 51,
   "id": "de5a67a0-9986-45c0-a8ee-60af5a2cf3b0",
   "metadata": {},
   "outputs": [
    {
     "data": {
      "text/plain": [
       "float"
      ]
     },
     "execution_count": 51,
     "metadata": {},
     "output_type": "execute_result"
    }
   ],
   "source": [
    "type(m)"
   ]
  },
  {
   "cell_type": "code",
   "execution_count": 52,
   "id": "31273cc5-8752-4514-be44-bc6554434354",
   "metadata": {},
   "outputs": [],
   "source": [
    "m1 = int(m) # Convert float to integer data type"
   ]
  },
  {
   "cell_type": "code",
   "execution_count": 53,
   "id": "32ccb164-02d7-4aa6-ad62-7f2f1f03cdbe",
   "metadata": {},
   "outputs": [
    {
     "data": {
      "text/plain": [
       "int"
      ]
     },
     "execution_count": 53,
     "metadata": {},
     "output_type": "execute_result"
    }
   ],
   "source": [
    "type(m1)"
   ]
  },
  {
   "cell_type": "code",
   "execution_count": 54,
   "id": "86e13164-487f-45c1-a584-9117948b76e4",
   "metadata": {},
   "outputs": [
    {
     "data": {
      "text/plain": [
       "3"
      ]
     },
     "execution_count": 54,
     "metadata": {},
     "output_type": "execute_result"
    }
   ],
   "source": [
    "m1"
   ]
  },
  {
   "cell_type": "code",
   "execution_count": 55,
   "id": "8f77eb3c-cc2e-44eb-9e0e-2845dedcfbe4",
   "metadata": {},
   "outputs": [],
   "source": [
    "z = 3e+19"
   ]
  },
  {
   "cell_type": "code",
   "execution_count": 56,
   "id": "8bd03018-195a-46d0-8a20-dfd15784f018",
   "metadata": {},
   "outputs": [
    {
     "data": {
      "text/plain": [
       "3e+19"
      ]
     },
     "execution_count": 56,
     "metadata": {},
     "output_type": "execute_result"
    }
   ],
   "source": [
    "float(z)"
   ]
  },
  {
   "cell_type": "code",
   "execution_count": 57,
   "id": "c6894d11-a12b-471e-9257-6fcd705458f2",
   "metadata": {},
   "outputs": [
    {
     "data": {
      "text/plain": [
       "float"
      ]
     },
     "execution_count": 57,
     "metadata": {},
     "output_type": "execute_result"
    }
   ],
   "source": [
    "type(z)"
   ]
  },
  {
   "cell_type": "code",
   "execution_count": 58,
   "id": "597f1f25-456e-45d6-81e6-640819c21566",
   "metadata": {},
   "outputs": [],
   "source": [
    "w = 9 - 9j"
   ]
  },
  {
   "cell_type": "code",
   "execution_count": 59,
   "id": "0d09030a-dbe4-43b9-a522-42701581d912",
   "metadata": {},
   "outputs": [
    {
     "data": {
      "text/plain": [
       "complex"
      ]
     },
     "execution_count": 59,
     "metadata": {},
     "output_type": "execute_result"
    }
   ],
   "source": [
    "type(w)"
   ]
  },
  {
   "cell_type": "code",
   "execution_count": 60,
   "id": "8820e3be-b081-4ece-a4b4-0ef45a48fa97",
   "metadata": {},
   "outputs": [
    {
     "data": {
      "text/plain": [
       "(9-9j)"
      ]
     },
     "execution_count": 60,
     "metadata": {},
     "output_type": "execute_result"
    }
   ],
   "source": [
    "complex(w)"
   ]
  },
  {
   "cell_type": "code",
   "execution_count": 62,
   "id": "34e69124-d8cd-448f-bb33-80b268fded96",
   "metadata": {},
   "outputs": [
    {
     "data": {
      "text/plain": [
       "(78+0j)"
      ]
     },
     "execution_count": 62,
     "metadata": {},
     "output_type": "execute_result"
    }
   ],
   "source": [
    "complex(78) # Converting a number into a complex equivalent"
   ]
  },
  {
   "cell_type": "code",
   "execution_count": 67,
   "id": "949d093e-e4c3-4950-a461-fa74ee9077ea",
   "metadata": {},
   "outputs": [
    {
     "data": {
      "text/plain": [
       "-110.16326530612244"
      ]
     },
     "execution_count": 67,
     "metadata": {},
     "output_type": "execute_result"
    }
   ],
   "source": [
    "10 - 23 * ((16 / 7) ** 2)"
   ]
  },
  {
   "cell_type": "code",
   "execution_count": 65,
   "id": "e211159a-19db-4777-b7b0-56c202d07e7a",
   "metadata": {},
   "outputs": [],
   "source": [
    "q = (16 / 7) ** 2"
   ]
  },
  {
   "cell_type": "code",
   "execution_count": 68,
   "id": "885b8a8e-2512-4271-b642-6a519f2cbf0c",
   "metadata": {},
   "outputs": [
    {
     "data": {
      "text/plain": [
       "-120.16326530612244"
      ]
     },
     "execution_count": 68,
     "metadata": {},
     "output_type": "execute_result"
    }
   ],
   "source": [
    "q * -23"
   ]
  },
  {
   "cell_type": "code",
   "execution_count": 69,
   "id": "f76e0424-2574-4db2-81f0-80a06145f73c",
   "metadata": {},
   "outputs": [
    {
     "data": {
      "text/plain": [
       "16"
      ]
     },
     "execution_count": 69,
     "metadata": {},
     "output_type": "execute_result"
    }
   ],
   "source": [
    "pow(2, 4)"
   ]
  },
  {
   "cell_type": "code",
   "execution_count": 70,
   "id": "44b9dff4-7138-433a-bec3-ae0aae162fa4",
   "metadata": {},
   "outputs": [
    {
     "data": {
      "text/plain": [
       "4"
      ]
     },
     "execution_count": 70,
     "metadata": {},
     "output_type": "execute_result"
    }
   ],
   "source": [
    "round(4.5)"
   ]
  },
  {
   "cell_type": "code",
   "execution_count": 71,
   "id": "214a22d1-06a0-4533-84d2-8c1ede0b9f6b",
   "metadata": {},
   "outputs": [
    {
     "data": {
      "text/plain": [
       "5"
      ]
     },
     "execution_count": 71,
     "metadata": {},
     "output_type": "execute_result"
    }
   ],
   "source": [
    "round(4.55)"
   ]
  },
  {
   "cell_type": "code",
   "execution_count": 72,
   "id": "0bc33415-dd6f-4c3b-8da4-c2c264caf9e3",
   "metadata": {},
   "outputs": [
    {
     "data": {
      "text/plain": [
       "4"
      ]
     },
     "execution_count": 72,
     "metadata": {},
     "output_type": "execute_result"
    }
   ],
   "source": [
    "round(4.2)"
   ]
  },
  {
   "cell_type": "code",
   "execution_count": 73,
   "id": "deebfbfa-0470-4453-b264-84cf3e2b0942",
   "metadata": {},
   "outputs": [],
   "source": [
    "x = 9.21"
   ]
  },
  {
   "cell_type": "code",
   "execution_count": 74,
   "id": "ca90bfe9-27ed-4422-93ab-8e7efb001c68",
   "metadata": {},
   "outputs": [
    {
     "name": "stdout",
     "output_type": "stream",
     "text": [
      "We are printing the value of x which is 9.2\n"
     ]
    }
   ],
   "source": [
    "print(f'We are printing the value of x which is {x:.1f}')"
   ]
  },
  {
   "cell_type": "code",
   "execution_count": null,
   "id": "35dee631-13ce-4f76-8f1c-c0aba8999db6",
   "metadata": {},
   "outputs": [],
   "source": []
  }
 ],
 "metadata": {
  "kernelspec": {
   "display_name": "Python 3 (ipykernel)",
   "language": "python",
   "name": "python3"
  },
  "language_info": {
   "codemirror_mode": {
    "name": "ipython",
    "version": 3
   },
   "file_extension": ".py",
   "mimetype": "text/x-python",
   "name": "python",
   "nbconvert_exporter": "python",
   "pygments_lexer": "ipython3",
   "version": "3.12.3"
  }
 },
 "nbformat": 4,
 "nbformat_minor": 5
}
