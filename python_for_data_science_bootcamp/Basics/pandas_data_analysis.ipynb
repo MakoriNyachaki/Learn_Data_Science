{
 "cells": [
  {
   "cell_type": "markdown",
   "id": "b220021a-db85-42a4-aa3f-23c97ab16d80",
   "metadata": {},
   "source": [
    "## Pandas\n",
    "\n",
    "### Pandas fo Data Analysis"
   ]
  },
  {
   "cell_type": "code",
   "execution_count": 1,
   "id": "d1dd731e-4fea-4770-b022-d58391c0f6e1",
   "metadata": {},
   "outputs": [],
   "source": [
    "# First import pandas\n",
    "import pandas as pd"
   ]
  },
  {
   "cell_type": "code",
   "execution_count": 2,
   "id": "d099f8f9-7945-4e07-b4d3-9c0ab81b1785",
   "metadata": {},
   "outputs": [],
   "source": [
    "# Creating a series\n",
    "new_s = pd.Series([10, 20, 30, 40])"
   ]
  },
  {
   "cell_type": "code",
   "execution_count": 3,
   "id": "a1f17537-984d-4b91-9252-b6a3bfa8b8c1",
   "metadata": {},
   "outputs": [
    {
     "data": {
      "text/plain": [
       "0    10\n",
       "1    20\n",
       "2    30\n",
       "3    40\n",
       "dtype: int64"
      ]
     },
     "execution_count": 3,
     "metadata": {},
     "output_type": "execute_result"
    }
   ],
   "source": [
    "new_s"
   ]
  },
  {
   "cell_type": "code",
   "execution_count": 5,
   "id": "297f0e34-ad35-4cb5-8521-541cc86922b4",
   "metadata": {},
   "outputs": [],
   "source": [
    "# Another series with a set index instead of the defaukt\n",
    "put_index = pd.Series([50, 60, 70, 80], index = ['a', 'b', 'c', 'd'])"
   ]
  },
  {
   "cell_type": "code",
   "execution_count": 6,
   "id": "f712abd6-318f-4fb9-bc8b-bea149753a7e",
   "metadata": {},
   "outputs": [
    {
     "data": {
      "text/plain": [
       "a    50\n",
       "b    60\n",
       "c    70\n",
       "d    80\n",
       "dtype: int64"
      ]
     },
     "execution_count": 6,
     "metadata": {},
     "output_type": "execute_result"
    }
   ],
   "source": [
    "put_index"
   ]
  },
  {
   "cell_type": "code",
   "execution_count": 8,
   "id": "eddb1e1f-ff69-4fa7-8a90-cca6b145fdca",
   "metadata": {},
   "outputs": [],
   "source": [
    "# Pandas Data Frame\n",
    "# Data frame has two dimensions that is  it has rows and columns\n",
    "# Example a data frame with three lists\n",
    "\n",
    "colors = [\"red\", \"green\", \"black\", \"yellow\"]\n",
    "degrees = [100, 120, 60, 75]\n",
    "numbers = [24, 26, 28, 30]\n",
    "\n",
    "# Create a dataframe\n",
    "new_df = pd.DataFrame({\"colors\": colors, \"degrees\":degrees, \"numbers\": numbers},\n",
    "                       columns =[\"colors\", \"degrees\", \"numbers\"],\n",
    "                              index = range(1, 5))"
   ]
  },
  {
   "cell_type": "code",
   "execution_count": 9,
   "id": "8900a069-ee02-40ad-9356-cd602b3515bb",
   "metadata": {},
   "outputs": [
    {
     "data": {
      "text/html": [
       "<div>\n",
       "<style scoped>\n",
       "    .dataframe tbody tr th:only-of-type {\n",
       "        vertical-align: middle;\n",
       "    }\n",
       "\n",
       "    .dataframe tbody tr th {\n",
       "        vertical-align: top;\n",
       "    }\n",
       "\n",
       "    .dataframe thead th {\n",
       "        text-align: right;\n",
       "    }\n",
       "</style>\n",
       "<table border=\"1\" class=\"dataframe\">\n",
       "  <thead>\n",
       "    <tr style=\"text-align: right;\">\n",
       "      <th></th>\n",
       "      <th>colors</th>\n",
       "      <th>degrees</th>\n",
       "      <th>numbers</th>\n",
       "    </tr>\n",
       "  </thead>\n",
       "  <tbody>\n",
       "    <tr>\n",
       "      <th>1</th>\n",
       "      <td>red</td>\n",
       "      <td>100</td>\n",
       "      <td>24</td>\n",
       "    </tr>\n",
       "    <tr>\n",
       "      <th>2</th>\n",
       "      <td>green</td>\n",
       "      <td>120</td>\n",
       "      <td>26</td>\n",
       "    </tr>\n",
       "    <tr>\n",
       "      <th>3</th>\n",
       "      <td>black</td>\n",
       "      <td>60</td>\n",
       "      <td>28</td>\n",
       "    </tr>\n",
       "    <tr>\n",
       "      <th>4</th>\n",
       "      <td>yellow</td>\n",
       "      <td>75</td>\n",
       "      <td>30</td>\n",
       "    </tr>\n",
       "  </tbody>\n",
       "</table>\n",
       "</div>"
      ],
      "text/plain": [
       "   colors  degrees  numbers\n",
       "1     red      100       24\n",
       "2   green      120       26\n",
       "3   black       60       28\n",
       "4  yellow       75       30"
      ]
     },
     "execution_count": 9,
     "metadata": {},
     "output_type": "execute_result"
    }
   ],
   "source": [
    "new_df"
   ]
  },
  {
   "cell_type": "code",
   "execution_count": null,
   "id": "0de74d03-6e74-48ce-973d-51b1c7230656",
   "metadata": {},
   "outputs": [],
   "source": []
  }
 ],
 "metadata": {
  "kernelspec": {
   "display_name": "Python 3 (ipykernel)",
   "language": "python",
   "name": "python3"
  },
  "language_info": {
   "codemirror_mode": {
    "name": "ipython",
    "version": 3
   },
   "file_extension": ".py",
   "mimetype": "text/x-python",
   "name": "python",
   "nbconvert_exporter": "python",
   "pygments_lexer": "ipython3",
   "version": "3.12.3"
  }
 },
 "nbformat": 4,
 "nbformat_minor": 5
}
