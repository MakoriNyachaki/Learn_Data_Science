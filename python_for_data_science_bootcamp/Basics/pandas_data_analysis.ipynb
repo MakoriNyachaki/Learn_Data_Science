{
 "cells": [
  {
   "cell_type": "markdown",
   "id": "b220021a-db85-42a4-aa3f-23c97ab16d80",
   "metadata": {},
   "source": [
    "## Pandas\n",
    "\n",
    "### Pandas fo Data Analysis"
   ]
  },
  {
   "cell_type": "code",
   "execution_count": 2,
   "id": "d1dd731e-4fea-4770-b022-d58391c0f6e1",
   "metadata": {},
   "outputs": [],
   "source": [
    "# First import pandas\n",
    "import pandas as pd"
   ]
  },
  {
   "cell_type": "code",
   "execution_count": 3,
   "id": "d099f8f9-7945-4e07-b4d3-9c0ab81b1785",
   "metadata": {},
   "outputs": [],
   "source": [
    "# Creating a series\n",
    "new_s = pd.Series([10, 20, 30, 40])"
   ]
  },
  {
   "cell_type": "code",
   "execution_count": 4,
   "id": "a1f17537-984d-4b91-9252-b6a3bfa8b8c1",
   "metadata": {},
   "outputs": [
    {
     "data": {
      "text/plain": [
       "0    10\n",
       "1    20\n",
       "2    30\n",
       "3    40\n",
       "dtype: int64"
      ]
     },
     "execution_count": 4,
     "metadata": {},
     "output_type": "execute_result"
    }
   ],
   "source": [
    "new_s"
   ]
  },
  {
   "cell_type": "code",
   "execution_count": 5,
   "id": "297f0e34-ad35-4cb5-8521-541cc86922b4",
   "metadata": {},
   "outputs": [],
   "source": [
    "# Another series with a set index instead of the defaukt\n",
    "put_index = pd.Series([50, 60, 70, 80], index = ['a', 'b', 'c', 'd'])"
   ]
  },
  {
   "cell_type": "code",
   "execution_count": 6,
   "id": "f712abd6-318f-4fb9-bc8b-bea149753a7e",
   "metadata": {},
   "outputs": [
    {
     "data": {
      "text/plain": [
       "a    50\n",
       "b    60\n",
       "c    70\n",
       "d    80\n",
       "dtype: int64"
      ]
     },
     "execution_count": 6,
     "metadata": {},
     "output_type": "execute_result"
    }
   ],
   "source": [
    "put_index"
   ]
  },
  {
   "cell_type": "code",
   "execution_count": 7,
   "id": "eddb1e1f-ff69-4fa7-8a90-cca6b145fdca",
   "metadata": {},
   "outputs": [],
   "source": [
    "# Pandas Data Frame\n",
    "# Data frame has two dimensions that is  it has rows and columns\n",
    "# Example a data frame with three lists\n",
    "\n",
    "colors = [\"red\", \"green\", \"black\", \"yellow\"]\n",
    "degrees = [100, 120, 60, 75]\n",
    "numbers = [24, 26, 28, 30]\n",
    "\n",
    "# Create a dataframe\n",
    "new_df = pd.DataFrame({\"colors\": colors, \"degrees\":degrees, \"numbers\": numbers},\n",
    "                       columns =[\"colors\", \"degrees\", \"numbers\"],\n",
    "                              index = range(1, 5))"
   ]
  },
  {
   "cell_type": "code",
   "execution_count": 8,
   "id": "8900a069-ee02-40ad-9356-cd602b3515bb",
   "metadata": {},
   "outputs": [
    {
     "data": {
      "text/html": [
       "<div>\n",
       "<style scoped>\n",
       "    .dataframe tbody tr th:only-of-type {\n",
       "        vertical-align: middle;\n",
       "    }\n",
       "\n",
       "    .dataframe tbody tr th {\n",
       "        vertical-align: top;\n",
       "    }\n",
       "\n",
       "    .dataframe thead th {\n",
       "        text-align: right;\n",
       "    }\n",
       "</style>\n",
       "<table border=\"1\" class=\"dataframe\">\n",
       "  <thead>\n",
       "    <tr style=\"text-align: right;\">\n",
       "      <th></th>\n",
       "      <th>colors</th>\n",
       "      <th>degrees</th>\n",
       "      <th>numbers</th>\n",
       "    </tr>\n",
       "  </thead>\n",
       "  <tbody>\n",
       "    <tr>\n",
       "      <th>1</th>\n",
       "      <td>red</td>\n",
       "      <td>100</td>\n",
       "      <td>24</td>\n",
       "    </tr>\n",
       "    <tr>\n",
       "      <th>2</th>\n",
       "      <td>green</td>\n",
       "      <td>120</td>\n",
       "      <td>26</td>\n",
       "    </tr>\n",
       "    <tr>\n",
       "      <th>3</th>\n",
       "      <td>black</td>\n",
       "      <td>60</td>\n",
       "      <td>28</td>\n",
       "    </tr>\n",
       "    <tr>\n",
       "      <th>4</th>\n",
       "      <td>yellow</td>\n",
       "      <td>75</td>\n",
       "      <td>30</td>\n",
       "    </tr>\n",
       "  </tbody>\n",
       "</table>\n",
       "</div>"
      ],
      "text/plain": [
       "   colors  degrees  numbers\n",
       "1     red      100       24\n",
       "2   green      120       26\n",
       "3   black       60       28\n",
       "4  yellow       75       30"
      ]
     },
     "execution_count": 8,
     "metadata": {},
     "output_type": "execute_result"
    }
   ],
   "source": [
    "new_df"
   ]
  },
  {
   "cell_type": "code",
   "execution_count": 9,
   "id": "0de74d03-6e74-48ce-973d-51b1c7230656",
   "metadata": {},
   "outputs": [],
   "source": [
    "# Reading the csv files using pandas\n",
    "df_csv = pd.read_csv('sample10.csv', low_memory=False) # Args: fileName, lowMemory"
   ]
  },
  {
   "cell_type": "code",
   "execution_count": 10,
   "id": "5f680620-1e69-480c-91d4-c69b14cb809e",
   "metadata": {},
   "outputs": [
    {
     "data": {
      "text/html": [
       "<div>\n",
       "<style scoped>\n",
       "    .dataframe tbody tr th:only-of-type {\n",
       "        vertical-align: middle;\n",
       "    }\n",
       "\n",
       "    .dataframe tbody tr th {\n",
       "        vertical-align: top;\n",
       "    }\n",
       "\n",
       "    .dataframe thead th {\n",
       "        text-align: right;\n",
       "    }\n",
       "</style>\n",
       "<table border=\"1\" class=\"dataframe\">\n",
       "  <thead>\n",
       "    <tr style=\"text-align: right;\">\n",
       "      <th></th>\n",
       "      <th>No</th>\n",
       "      <th>Cars</th>\n",
       "      <th>numbers</th>\n",
       "      <th>year</th>\n",
       "      <th>price</th>\n",
       "    </tr>\n",
       "  </thead>\n",
       "  <tbody>\n",
       "    <tr>\n",
       "      <th>0</th>\n",
       "      <td>1</td>\n",
       "      <td>Car1</td>\n",
       "      <td>123</td>\n",
       "      <td>2005</td>\n",
       "      <td>5000</td>\n",
       "    </tr>\n",
       "    <tr>\n",
       "      <th>1</th>\n",
       "      <td>2</td>\n",
       "      <td>Car2</td>\n",
       "      <td>456</td>\n",
       "      <td>2006</td>\n",
       "      <td>6000</td>\n",
       "    </tr>\n",
       "    <tr>\n",
       "      <th>2</th>\n",
       "      <td>3</td>\n",
       "      <td>Car3</td>\n",
       "      <td>789</td>\n",
       "      <td>2007</td>\n",
       "      <td>7000</td>\n",
       "    </tr>\n",
       "    <tr>\n",
       "      <th>3</th>\n",
       "      <td>4</td>\n",
       "      <td>Car4</td>\n",
       "      <td>1011</td>\n",
       "      <td>2008</td>\n",
       "      <td>8000</td>\n",
       "    </tr>\n",
       "    <tr>\n",
       "      <th>4</th>\n",
       "      <td>5</td>\n",
       "      <td>Car5</td>\n",
       "      <td>1213</td>\n",
       "      <td>2009</td>\n",
       "      <td>9000</td>\n",
       "    </tr>\n",
       "    <tr>\n",
       "      <th>5</th>\n",
       "      <td>6</td>\n",
       "      <td>Car6</td>\n",
       "      <td>1415</td>\n",
       "      <td>2010</td>\n",
       "      <td>10000</td>\n",
       "    </tr>\n",
       "    <tr>\n",
       "      <th>6</th>\n",
       "      <td>7</td>\n",
       "      <td>Car7</td>\n",
       "      <td>1617</td>\n",
       "      <td>2011</td>\n",
       "      <td>11000</td>\n",
       "    </tr>\n",
       "    <tr>\n",
       "      <th>7</th>\n",
       "      <td>8</td>\n",
       "      <td>Car8</td>\n",
       "      <td>1819</td>\n",
       "      <td>2012</td>\n",
       "      <td>12000</td>\n",
       "    </tr>\n",
       "    <tr>\n",
       "      <th>8</th>\n",
       "      <td>9</td>\n",
       "      <td>Car9</td>\n",
       "      <td>2011</td>\n",
       "      <td>2013</td>\n",
       "      <td>13000</td>\n",
       "    </tr>\n",
       "    <tr>\n",
       "      <th>9</th>\n",
       "      <td>10</td>\n",
       "      <td>Car10</td>\n",
       "      <td>2356</td>\n",
       "      <td>2014</td>\n",
       "      <td>14000</td>\n",
       "    </tr>\n",
       "  </tbody>\n",
       "</table>\n",
       "</div>"
      ],
      "text/plain": [
       "   No   Cars  numbers  year  price\n",
       "0   1   Car1      123  2005   5000\n",
       "1   2   Car2      456  2006   6000\n",
       "2   3   Car3      789  2007   7000\n",
       "3   4   Car4     1011  2008   8000\n",
       "4   5   Car5     1213  2009   9000\n",
       "5   6   Car6     1415  2010  10000\n",
       "6   7   Car7     1617  2011  11000\n",
       "7   8   Car8     1819  2012  12000\n",
       "8   9   Car9     2011  2013  13000\n",
       "9  10  Car10     2356  2014  14000"
      ]
     },
     "execution_count": 10,
     "metadata": {},
     "output_type": "execute_result"
    }
   ],
   "source": [
    "df_csv"
   ]
  },
  {
   "cell_type": "code",
   "execution_count": 11,
   "id": "792cf82f-4a01-4f46-917e-8f340c55f3d5",
   "metadata": {},
   "outputs": [
    {
     "data": {
      "text/html": [
       "<div>\n",
       "<style scoped>\n",
       "    .dataframe tbody tr th:only-of-type {\n",
       "        vertical-align: middle;\n",
       "    }\n",
       "\n",
       "    .dataframe tbody tr th {\n",
       "        vertical-align: top;\n",
       "    }\n",
       "\n",
       "    .dataframe thead th {\n",
       "        text-align: right;\n",
       "    }\n",
       "</style>\n",
       "<table border=\"1\" class=\"dataframe\">\n",
       "  <thead>\n",
       "    <tr style=\"text-align: right;\">\n",
       "      <th></th>\n",
       "      <th>No</th>\n",
       "      <th>Cars</th>\n",
       "      <th>numbers</th>\n",
       "      <th>year</th>\n",
       "      <th>price</th>\n",
       "    </tr>\n",
       "  </thead>\n",
       "  <tbody>\n",
       "    <tr>\n",
       "      <th>0</th>\n",
       "      <td>1</td>\n",
       "      <td>Car1</td>\n",
       "      <td>123</td>\n",
       "      <td>2005</td>\n",
       "      <td>5000</td>\n",
       "    </tr>\n",
       "    <tr>\n",
       "      <th>1</th>\n",
       "      <td>2</td>\n",
       "      <td>Car2</td>\n",
       "      <td>456</td>\n",
       "      <td>2006</td>\n",
       "      <td>6000</td>\n",
       "    </tr>\n",
       "    <tr>\n",
       "      <th>2</th>\n",
       "      <td>3</td>\n",
       "      <td>Car3</td>\n",
       "      <td>789</td>\n",
       "      <td>2007</td>\n",
       "      <td>7000</td>\n",
       "    </tr>\n",
       "    <tr>\n",
       "      <th>3</th>\n",
       "      <td>4</td>\n",
       "      <td>Car4</td>\n",
       "      <td>1011</td>\n",
       "      <td>2008</td>\n",
       "      <td>8000</td>\n",
       "    </tr>\n",
       "    <tr>\n",
       "      <th>4</th>\n",
       "      <td>5</td>\n",
       "      <td>Car5</td>\n",
       "      <td>1213</td>\n",
       "      <td>2009</td>\n",
       "      <td>9000</td>\n",
       "    </tr>\n",
       "    <tr>\n",
       "      <th>5</th>\n",
       "      <td>6</td>\n",
       "      <td>Car6</td>\n",
       "      <td>1415</td>\n",
       "      <td>2010</td>\n",
       "      <td>10000</td>\n",
       "    </tr>\n",
       "  </tbody>\n",
       "</table>\n",
       "</div>"
      ],
      "text/plain": [
       "   No  Cars  numbers  year  price\n",
       "0   1  Car1      123  2005   5000\n",
       "1   2  Car2      456  2006   6000\n",
       "2   3  Car3      789  2007   7000\n",
       "3   4  Car4     1011  2008   8000\n",
       "4   5  Car5     1213  2009   9000\n",
       "5   6  Car6     1415  2010  10000"
      ]
     },
     "execution_count": 11,
     "metadata": {},
     "output_type": "execute_result"
    }
   ],
   "source": [
    "# To display a given number of rows we can use the head funtion\n",
    "df_csv.head(6)"
   ]
  },
  {
   "cell_type": "code",
   "execution_count": 12,
   "id": "0fd1967e-90c0-490d-9af6-ec9199995966",
   "metadata": {},
   "outputs": [
    {
     "data": {
      "text/html": [
       "<div>\n",
       "<style scoped>\n",
       "    .dataframe tbody tr th:only-of-type {\n",
       "        vertical-align: middle;\n",
       "    }\n",
       "\n",
       "    .dataframe tbody tr th {\n",
       "        vertical-align: top;\n",
       "    }\n",
       "\n",
       "    .dataframe thead th {\n",
       "        text-align: right;\n",
       "    }\n",
       "</style>\n",
       "<table border=\"1\" class=\"dataframe\">\n",
       "  <thead>\n",
       "    <tr style=\"text-align: right;\">\n",
       "      <th></th>\n",
       "      <th>No</th>\n",
       "      <th>Cars</th>\n",
       "      <th>numbers</th>\n",
       "      <th>year</th>\n",
       "      <th>price</th>\n",
       "    </tr>\n",
       "  </thead>\n",
       "  <tbody>\n",
       "    <tr>\n",
       "      <th>0</th>\n",
       "      <td>1</td>\n",
       "      <td>Car1</td>\n",
       "      <td>123</td>\n",
       "      <td>2005</td>\n",
       "      <td>5000</td>\n",
       "    </tr>\n",
       "    <tr>\n",
       "      <th>1</th>\n",
       "      <td>2</td>\n",
       "      <td>Car2</td>\n",
       "      <td>456</td>\n",
       "      <td>2006</td>\n",
       "      <td>6000</td>\n",
       "    </tr>\n",
       "    <tr>\n",
       "      <th>2</th>\n",
       "      <td>3</td>\n",
       "      <td>Car3</td>\n",
       "      <td>789</td>\n",
       "      <td>2007</td>\n",
       "      <td>7000</td>\n",
       "    </tr>\n",
       "    <tr>\n",
       "      <th>3</th>\n",
       "      <td>4</td>\n",
       "      <td>Car4</td>\n",
       "      <td>1011</td>\n",
       "      <td>2008</td>\n",
       "      <td>8000</td>\n",
       "    </tr>\n",
       "    <tr>\n",
       "      <th>4</th>\n",
       "      <td>5</td>\n",
       "      <td>Car5</td>\n",
       "      <td>1213</td>\n",
       "      <td>2009</td>\n",
       "      <td>9000</td>\n",
       "    </tr>\n",
       "  </tbody>\n",
       "</table>\n",
       "</div>"
      ],
      "text/plain": [
       "   No  Cars  numbers  year  price\n",
       "0   1  Car1      123  2005   5000\n",
       "1   2  Car2      456  2006   6000\n",
       "2   3  Car3      789  2007   7000\n",
       "3   4  Car4     1011  2008   8000\n",
       "4   5  Car5     1213  2009   9000"
      ]
     },
     "execution_count": 12,
     "metadata": {},
     "output_type": "execute_result"
    }
   ],
   "source": [
    "# By default the head function displays the first 5 rows\n",
    "df_csv.head()"
   ]
  },
  {
   "cell_type": "code",
   "execution_count": 13,
   "id": "fa579ad6-7abf-4da9-8e82-afe486086d30",
   "metadata": {},
   "outputs": [],
   "source": [
    "# Displaying contents from an html file\n",
    "new_url =  \"https://en.wikipedia.org/wiki/Academy_Awards\""
   ]
  },
  {
   "cell_type": "code",
   "execution_count": 14,
   "id": "1ddf715c-017b-4bb0-b3c7-e908db2d7223",
   "metadata": {},
   "outputs": [],
   "source": [
    "new_html = pd.read_html(new_url, header=0, index_col=0)[3]"
   ]
  },
  {
   "cell_type": "code",
   "execution_count": 15,
   "id": "0665bcf6-f8bf-49f1-a914-69620c1b0281",
   "metadata": {},
   "outputs": [
    {
     "data": {
      "text/html": [
       "<div>\n",
       "<style scoped>\n",
       "    .dataframe tbody tr th:only-of-type {\n",
       "        vertical-align: middle;\n",
       "    }\n",
       "\n",
       "    .dataframe tbody tr th {\n",
       "        vertical-align: top;\n",
       "    }\n",
       "\n",
       "    .dataframe thead th {\n",
       "        text-align: right;\n",
       "    }\n",
       "</style>\n",
       "<table border=\"1\" class=\"dataframe\">\n",
       "  <thead>\n",
       "    <tr style=\"text-align: right;\">\n",
       "      <th></th>\n",
       "      <th>Unnamed: 1</th>\n",
       "      <th>Unnamed: 2</th>\n",
       "    </tr>\n",
       "  </thead>\n",
       "  <tbody>\n",
       "    <tr>\n",
       "      <th>Award</th>\n",
       "      <td>Best Actor</td>\n",
       "      <td>Best Actress</td>\n",
       "    </tr>\n",
       "    <tr>\n",
       "      <th>Winner</th>\n",
       "      <td>Cillian Murphy (Oppenheimer)</td>\n",
       "      <td>Emma Stone (Poor Things)</td>\n",
       "    </tr>\n",
       "    <tr>\n",
       "      <th>NaN</th>\n",
       "      <td>NaN</td>\n",
       "      <td>NaN</td>\n",
       "    </tr>\n",
       "    <tr>\n",
       "      <th>Award</th>\n",
       "      <td>Best Supporting Actor</td>\n",
       "      <td>Best Supporting Actress</td>\n",
       "    </tr>\n",
       "    <tr>\n",
       "      <th>Winner</th>\n",
       "      <td>Robert Downey Jr. (Oppenheimer)</td>\n",
       "      <td>Da'Vine Joy Randolph (The Holdovers)</td>\n",
       "    </tr>\n",
       "    <tr>\n",
       "      <th>NaN</th>\n",
       "      <td>NaN</td>\n",
       "      <td>NaN</td>\n",
       "    </tr>\n",
       "    <tr>\n",
       "      <th>Award</th>\n",
       "      <td>Best Director</td>\n",
       "      <td>Best Original Screenplay</td>\n",
       "    </tr>\n",
       "    <tr>\n",
       "      <th>Winner</th>\n",
       "      <td>Christopher Nolan (Oppenheimer)</td>\n",
       "      <td>Justine Triet and Arthur Harari (Anatomy of a ...</td>\n",
       "    </tr>\n",
       "  </tbody>\n",
       "</table>\n",
       "</div>"
      ],
      "text/plain": [
       "                             Unnamed: 1  \\\n",
       "Award                        Best Actor   \n",
       "Winner     Cillian Murphy (Oppenheimer)   \n",
       "NaN                                 NaN   \n",
       "Award             Best Supporting Actor   \n",
       "Winner  Robert Downey Jr. (Oppenheimer)   \n",
       "NaN                                 NaN   \n",
       "Award                     Best Director   \n",
       "Winner  Christopher Nolan (Oppenheimer)   \n",
       "\n",
       "                                               Unnamed: 2  \n",
       "Award                                        Best Actress  \n",
       "Winner                           Emma Stone (Poor Things)  \n",
       "NaN                                                   NaN  \n",
       "Award                             Best Supporting Actress  \n",
       "Winner               Da'Vine Joy Randolph (The Holdovers)  \n",
       "NaN                                                   NaN  \n",
       "Award                            Best Original Screenplay  \n",
       "Winner  Justine Triet and Arthur Harari (Anatomy of a ...  "
      ]
     },
     "execution_count": 15,
     "metadata": {},
     "output_type": "execute_result"
    }
   ],
   "source": [
    "new_html"
   ]
  },
  {
   "cell_type": "code",
   "execution_count": 17,
   "id": "983cb233-f1b5-4718-ae9c-571b05453a77",
   "metadata": {},
   "outputs": [
    {
     "data": {
      "text/plain": [
       "(10, 5)"
      ]
     },
     "execution_count": 17,
     "metadata": {},
     "output_type": "execute_result"
    }
   ],
   "source": [
    "# Some operations available for the pandas library\n",
    "df_csv.shape"
   ]
  },
  {
   "cell_type": "code",
   "execution_count": 18,
   "id": "d17985bc-d7cc-44b2-9805-e9e21934ce39",
   "metadata": {},
   "outputs": [
    {
     "name": "stdout",
     "output_type": "stream",
     "text": [
      "<class 'pandas.core.frame.DataFrame'>\n",
      "RangeIndex: 10 entries, 0 to 9\n",
      "Data columns (total 5 columns):\n",
      " #   Column   Non-Null Count  Dtype \n",
      "---  ------   --------------  ----- \n",
      " 0   No       10 non-null     int64 \n",
      " 1   Cars     10 non-null     object\n",
      " 2   numbers  10 non-null     int64 \n",
      " 3   year     10 non-null     int64 \n",
      " 4   price    10 non-null     int64 \n",
      "dtypes: int64(4), object(1)\n",
      "memory usage: 532.0+ bytes\n"
     ]
    }
   ],
   "source": [
    "df_csv.info() # Shows col information"
   ]
  },
  {
   "cell_type": "code",
   "execution_count": 19,
   "id": "dbc3a2e1-e499-4549-86f8-43adef7399b5",
   "metadata": {},
   "outputs": [
    {
     "data": {
      "text/html": [
       "<div>\n",
       "<style scoped>\n",
       "    .dataframe tbody tr th:only-of-type {\n",
       "        vertical-align: middle;\n",
       "    }\n",
       "\n",
       "    .dataframe tbody tr th {\n",
       "        vertical-align: top;\n",
       "    }\n",
       "\n",
       "    .dataframe thead th {\n",
       "        text-align: right;\n",
       "    }\n",
       "</style>\n",
       "<table border=\"1\" class=\"dataframe\">\n",
       "  <thead>\n",
       "    <tr style=\"text-align: right;\">\n",
       "      <th></th>\n",
       "      <th>No</th>\n",
       "      <th>numbers</th>\n",
       "      <th>year</th>\n",
       "      <th>price</th>\n",
       "    </tr>\n",
       "  </thead>\n",
       "  <tbody>\n",
       "    <tr>\n",
       "      <th>count</th>\n",
       "      <td>10.00000</td>\n",
       "      <td>10.000000</td>\n",
       "      <td>10.00000</td>\n",
       "      <td>10.000000</td>\n",
       "    </tr>\n",
       "    <tr>\n",
       "      <th>mean</th>\n",
       "      <td>5.50000</td>\n",
       "      <td>1281.000000</td>\n",
       "      <td>2009.50000</td>\n",
       "      <td>9500.000000</td>\n",
       "    </tr>\n",
       "    <tr>\n",
       "      <th>std</th>\n",
       "      <td>3.02765</td>\n",
       "      <td>703.167279</td>\n",
       "      <td>3.02765</td>\n",
       "      <td>3027.650354</td>\n",
       "    </tr>\n",
       "    <tr>\n",
       "      <th>min</th>\n",
       "      <td>1.00000</td>\n",
       "      <td>123.000000</td>\n",
       "      <td>2005.00000</td>\n",
       "      <td>5000.000000</td>\n",
       "    </tr>\n",
       "    <tr>\n",
       "      <th>25%</th>\n",
       "      <td>3.25000</td>\n",
       "      <td>844.500000</td>\n",
       "      <td>2007.25000</td>\n",
       "      <td>7250.000000</td>\n",
       "    </tr>\n",
       "    <tr>\n",
       "      <th>50%</th>\n",
       "      <td>5.50000</td>\n",
       "      <td>1314.000000</td>\n",
       "      <td>2009.50000</td>\n",
       "      <td>9500.000000</td>\n",
       "    </tr>\n",
       "    <tr>\n",
       "      <th>75%</th>\n",
       "      <td>7.75000</td>\n",
       "      <td>1768.500000</td>\n",
       "      <td>2011.75000</td>\n",
       "      <td>11750.000000</td>\n",
       "    </tr>\n",
       "    <tr>\n",
       "      <th>max</th>\n",
       "      <td>10.00000</td>\n",
       "      <td>2356.000000</td>\n",
       "      <td>2014.00000</td>\n",
       "      <td>14000.000000</td>\n",
       "    </tr>\n",
       "  </tbody>\n",
       "</table>\n",
       "</div>"
      ],
      "text/plain": [
       "             No      numbers        year         price\n",
       "count  10.00000    10.000000    10.00000     10.000000\n",
       "mean    5.50000  1281.000000  2009.50000   9500.000000\n",
       "std     3.02765   703.167279     3.02765   3027.650354\n",
       "min     1.00000   123.000000  2005.00000   5000.000000\n",
       "25%     3.25000   844.500000  2007.25000   7250.000000\n",
       "50%     5.50000  1314.000000  2009.50000   9500.000000\n",
       "75%     7.75000  1768.500000  2011.75000  11750.000000\n",
       "max    10.00000  2356.000000  2014.00000  14000.000000"
      ]
     },
     "execution_count": 19,
     "metadata": {},
     "output_type": "execute_result"
    }
   ],
   "source": [
    "df_csv.describe() # Shows descriptive statistics"
   ]
  },
  {
   "cell_type": "code",
   "execution_count": 22,
   "id": "718da75c-3c65-42b0-ab66-1d23caf681c5",
   "metadata": {},
   "outputs": [
    {
     "data": {
      "text/plain": [
       "Cars     Car10\n",
       "price    14000\n",
       "Name: 9, dtype: object"
      ]
     },
     "execution_count": 22,
     "metadata": {},
     "output_type": "execute_result"
    }
   ],
   "source": [
    " # Displaying the max values in a column\n",
    "df_csv.loc[df_csv[\"price\"].argmax()][[\"Cars\", \"price\"]]"
   ]
  },
  {
   "cell_type": "code",
   "execution_count": 23,
   "id": "926e9597-7fc6-457a-a617-d65e57a6a12d",
   "metadata": {},
   "outputs": [
    {
     "data": {
      "text/plain": [
       "Cars     Car1\n",
       "price    5000\n",
       "Name: 0, dtype: object"
      ]
     },
     "execution_count": 23,
     "metadata": {},
     "output_type": "execute_result"
    }
   ],
   "source": [
    "# displaying the minimum values in a column\n",
    "df_csv.loc[df_csv[\"price\"].argmin()][[\"Cars\", \"price\"]]"
   ]
  },
  {
   "cell_type": "code",
   "execution_count": null,
   "id": "813515fc-cff0-4282-a420-d6e7d3ab73bf",
   "metadata": {},
   "outputs": [],
   "source": [
    "# Reading and analysing"
   ]
  }
 ],
 "metadata": {
  "kernelspec": {
   "display_name": "Python 3 (ipykernel)",
   "language": "python",
   "name": "python3"
  },
  "language_info": {
   "codemirror_mode": {
    "name": "ipython",
    "version": 3
   },
   "file_extension": ".py",
   "mimetype": "text/x-python",
   "name": "python",
   "nbconvert_exporter": "python",
   "pygments_lexer": "ipython3",
   "version": "3.12.3"
  }
 },
 "nbformat": 4,
 "nbformat_minor": 5
}
