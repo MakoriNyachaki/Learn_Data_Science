{
 "cells": [
  {
   "cell_type": "markdown",
   "id": "102fc881-95ac-4511-8f6d-783ed134c54a",
   "metadata": {},
   "source": [
    "## Numpy\n",
    "\n",
    "### Numpy Library"
   ]
  },
  {
   "cell_type": "code",
   "execution_count": 1,
   "id": "d10a0973-429b-476e-990b-c97ea7f2173c",
   "metadata": {},
   "outputs": [],
   "source": [
    "# Import numpy before using it\n",
    "import numpy as np"
   ]
  },
  {
   "cell_type": "code",
   "execution_count": 2,
   "id": "54593afb-fbbc-4793-bff4-c4be7c5a736a",
   "metadata": {},
   "outputs": [],
   "source": [
    "# array metho from numpy\n",
    "x = np.array([1, 2, 3, 4])"
   ]
  },
  {
   "cell_type": "code",
   "execution_count": 3,
   "id": "37032d0b-af4e-457a-9450-c0c05c56a1c5",
   "metadata": {},
   "outputs": [
    {
     "data": {
      "text/plain": [
       "array([1, 2, 3, 4])"
      ]
     },
     "execution_count": 3,
     "metadata": {},
     "output_type": "execute_result"
    }
   ],
   "source": [
    "x"
   ]
  },
  {
   "cell_type": "code",
   "execution_count": 5,
   "id": "f04cbe6b-bd0c-4dc3-b0b4-74b7396ecf11",
   "metadata": {},
   "outputs": [
    {
     "data": {
      "text/plain": [
       "array([1., 1., 1., 1., 1., 1., 1., 1., 1., 1.])"
      ]
     },
     "execution_count": 5,
     "metadata": {},
     "output_type": "execute_result"
    }
   ],
   "source": [
    "# To create an array of 5 zeros\n",
    "np.zeros(5)\n",
    "\n",
    "# Array of ones\n",
    "np.ones(10)"
   ]
  },
  {
   "cell_type": "code",
   "execution_count": 6,
   "id": "66981634-85b0-46b6-a316-ecfc690139b3",
   "metadata": {},
   "outputs": [
    {
     "data": {
      "text/plain": [
       "array([0.39766754, 0.08247479, 0.55519452, 0.11357467, 0.51074649])"
      ]
     },
     "execution_count": 6,
     "metadata": {},
     "output_type": "execute_result"
    }
   ],
   "source": [
    "# random floating point numbers between 0 - 1\n",
    "np.random.random(5)"
   ]
  },
  {
   "cell_type": "code",
   "execution_count": null,
   "id": "637f3e76-d3fd-475b-844b-668ed029e2b4",
   "metadata": {},
   "outputs": [],
   "source": []
  }
 ],
 "metadata": {
  "kernelspec": {
   "display_name": "Python 3 (ipykernel)",
   "language": "python",
   "name": "python3"
  },
  "language_info": {
   "codemirror_mode": {
    "name": "ipython",
    "version": 3
   },
   "file_extension": ".py",
   "mimetype": "text/x-python",
   "name": "python",
   "nbconvert_exporter": "python",
   "pygments_lexer": "ipython3",
   "version": "3.12.3"
  }
 },
 "nbformat": 4,
 "nbformat_minor": 5
}
