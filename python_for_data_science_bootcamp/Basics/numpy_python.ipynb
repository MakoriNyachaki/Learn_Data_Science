{
 "cells": [
  {
   "cell_type": "markdown",
   "id": "102fc881-95ac-4511-8f6d-783ed134c54a",
   "metadata": {},
   "source": [
    "## Numpy\n",
    "\n",
    "### Numpy Library"
   ]
  },
  {
   "cell_type": "code",
   "execution_count": 1,
   "id": "d10a0973-429b-476e-990b-c97ea7f2173c",
   "metadata": {},
   "outputs": [],
   "source": [
    "# Import numpy before using it\n",
    "import numpy as np"
   ]
  },
  {
   "cell_type": "code",
   "execution_count": 2,
   "id": "54593afb-fbbc-4793-bff4-c4be7c5a736a",
   "metadata": {},
   "outputs": [],
   "source": [
    "# array metho from numpy\n",
    "x = np.array([1, 2, 3, 4])"
   ]
  },
  {
   "cell_type": "code",
   "execution_count": 3,
   "id": "37032d0b-af4e-457a-9450-c0c05c56a1c5",
   "metadata": {},
   "outputs": [
    {
     "data": {
      "text/plain": [
       "array([1, 2, 3, 4])"
      ]
     },
     "execution_count": 3,
     "metadata": {},
     "output_type": "execute_result"
    }
   ],
   "source": [
    "x"
   ]
  },
  {
   "cell_type": "code",
   "execution_count": 5,
   "id": "f04cbe6b-bd0c-4dc3-b0b4-74b7396ecf11",
   "metadata": {},
   "outputs": [
    {
     "data": {
      "text/plain": [
       "array([1., 1., 1., 1., 1., 1., 1., 1., 1., 1.])"
      ]
     },
     "execution_count": 5,
     "metadata": {},
     "output_type": "execute_result"
    }
   ],
   "source": [
    "# To create an array of 5 zeros\n",
    "np.zeros(5)\n",
    "\n",
    "# Array of ones\n",
    "np.ones(10)"
   ]
  },
  {
   "cell_type": "code",
   "execution_count": 6,
   "id": "66981634-85b0-46b6-a316-ecfc690139b3",
   "metadata": {},
   "outputs": [
    {
     "data": {
      "text/plain": [
       "array([0.39766754, 0.08247479, 0.55519452, 0.11357467, 0.51074649])"
      ]
     },
     "execution_count": 6,
     "metadata": {},
     "output_type": "execute_result"
    }
   ],
   "source": [
    "# random floating point numbers between 0 - 1\n",
    "np.random.random(5)"
   ]
  },
  {
   "cell_type": "markdown",
   "id": "3a5cd890-6008-4195-830a-6670587c96c4",
   "metadata": {},
   "source": [
    "### 1-D Operations"
   ]
  },
  {
   "cell_type": "code",
   "execution_count": 7,
   "id": "fc2063e2-9813-47f7-b886-ae30d5486a79",
   "metadata": {},
   "outputs": [
    {
     "data": {
      "text/plain": [
       "array([2., 3., 4.])"
      ]
     },
     "execution_count": 7,
     "metadata": {},
     "output_type": "execute_result"
    }
   ],
   "source": [
    "# Create two arrays\n",
    "new_math = np.array([1, 2, 3])\n",
    "new_one = np.ones(3)\n",
    "\n",
    "new_math + new_one"
   ]
  },
  {
   "cell_type": "code",
   "execution_count": 10,
   "id": "7cbb7425-39fe-4111-8047-3ca991f9f873",
   "metadata": {},
   "outputs": [
    {
     "data": {
      "text/plain": [
       "array([ 4,  8, 12])"
      ]
     },
     "execution_count": 10,
     "metadata": {},
     "output_type": "execute_result"
    }
   ],
   "source": [
    "# Multiply the first array by 4 and the second one by 10\n",
    "new_math * 4"
   ]
  },
  {
   "cell_type": "code",
   "execution_count": 11,
   "id": "4417eae7-f677-4a0f-857a-d70ad88c9998",
   "metadata": {},
   "outputs": [
    {
     "data": {
      "text/plain": [
       "array([10., 10., 10.])"
      ]
     },
     "execution_count": 11,
     "metadata": {},
     "output_type": "execute_result"
    }
   ],
   "source": [
    "new_one * 10"
   ]
  },
  {
   "cell_type": "code",
   "execution_count": 12,
   "id": "0ecc6194-8617-48e7-bbe8-3f456c2659ad",
   "metadata": {},
   "outputs": [
    {
     "data": {
      "text/plain": [
       "1"
      ]
     },
     "execution_count": 12,
     "metadata": {},
     "output_type": "execute_result"
    }
   ],
   "source": [
    "# Python arrays are zero indexed\n",
    "new_math[0]"
   ]
  },
  {
   "cell_type": "code",
   "execution_count": 13,
   "id": "83f21aa8-9873-4e0c-ba7c-cc5f1e61ba0b",
   "metadata": {},
   "outputs": [
    {
     "data": {
      "text/plain": [
       "3"
      ]
     },
     "execution_count": 13,
     "metadata": {},
     "output_type": "execute_result"
    }
   ],
   "source": [
    "new_math[-1]"
   ]
  },
  {
   "cell_type": "code",
   "execution_count": 14,
   "id": "1d490eac-e2cb-4e4d-8873-516f891d8911",
   "metadata": {},
   "outputs": [
    {
     "data": {
      "text/plain": [
       "3"
      ]
     },
     "execution_count": 14,
     "metadata": {},
     "output_type": "execute_result"
    }
   ],
   "source": [
    "# math 1-D functions\n",
    "new_math.max()"
   ]
  },
  {
   "cell_type": "code",
   "execution_count": 15,
   "id": "b5004279-26ea-4bdb-825a-144b28c840b6",
   "metadata": {},
   "outputs": [
    {
     "data": {
      "text/plain": [
       "6"
      ]
     },
     "execution_count": 15,
     "metadata": {},
     "output_type": "execute_result"
    }
   ],
   "source": [
    "new_math.sum()"
   ]
  },
  {
   "cell_type": "markdown",
   "id": "c2c1df03-bdb0-4f24-b4e1-5444858e46c8",
   "metadata": {},
   "source": [
    "#### N-D Arrays or Matrices"
   ]
  },
  {
   "cell_type": "code",
   "execution_count": 17,
   "id": "6b7d8aaf-ff23-4f68-bfb6-a02e9e4bcf20",
   "metadata": {},
   "outputs": [],
   "source": [
    "x = np.array([[10, 20], [30, 40]])"
   ]
  },
  {
   "cell_type": "code",
   "execution_count": 18,
   "id": "7f8f078c-069b-49fa-b333-92096de8e736",
   "metadata": {},
   "outputs": [
    {
     "data": {
      "text/plain": [
       "array([[10, 20],\n",
       "       [30, 40]])"
      ]
     },
     "execution_count": 18,
     "metadata": {},
     "output_type": "execute_result"
    }
   ],
   "source": [
    "x"
   ]
  },
  {
   "cell_type": "code",
   "execution_count": 19,
   "id": "8d5a1b6a-ecce-427f-8078-97a5906693d9",
   "metadata": {},
   "outputs": [
    {
     "data": {
      "text/plain": [
       "array([[1., 1., 1., 1.],\n",
       "       [1., 1., 1., 1.],\n",
       "       [1., 1., 1., 1.]])"
      ]
     },
     "execution_count": 19,
     "metadata": {},
     "output_type": "execute_result"
    }
   ],
   "source": [
    "np.ones((3, 4)) # first attribute rows and second is columns"
   ]
  },
  {
   "cell_type": "code",
   "execution_count": 20,
   "id": "0ab38b41-0c08-4d6d-89d9-a6e8b75ae81f",
   "metadata": {},
   "outputs": [
    {
     "data": {
      "text/plain": [
       "array([[0., 0., 0., 0.],\n",
       "       [0., 0., 0., 0.],\n",
       "       [0., 0., 0., 0.]])"
      ]
     },
     "execution_count": 20,
     "metadata": {},
     "output_type": "execute_result"
    }
   ],
   "source": [
    "np.zeros((3,4))"
   ]
  },
  {
   "cell_type": "code",
   "execution_count": 21,
   "id": "900fc35f-4ec3-460a-8de4-d539ea9f2acf",
   "metadata": {},
   "outputs": [
    {
     "data": {
      "text/plain": [
       "array([[0.3165324 , 0.04022002, 0.85844362, 0.08417195],\n",
       "       [0.67745488, 0.60351726, 0.31797274, 0.9050313 ],\n",
       "       [0.94528629, 0.54160956, 0.43717413, 0.79959488]])"
      ]
     },
     "execution_count": 21,
     "metadata": {},
     "output_type": "execute_result"
    }
   ],
   "source": [
    "np.random.random((3, 4))"
   ]
  },
  {
   "cell_type": "code",
   "execution_count": 22,
   "id": "566a5007-8209-4f8b-8495-aaf5d76a0ed3",
   "metadata": {},
   "outputs": [],
   "source": [
    "y = np.array([[2,4],[5,6]])"
   ]
  },
  {
   "cell_type": "code",
   "execution_count": 23,
   "id": "53841782-decc-4f68-8c73-d85d8a061755",
   "metadata": {},
   "outputs": [
    {
     "data": {
      "text/plain": [
       "array([[12, 24],\n",
       "       [35, 46]])"
      ]
     },
     "execution_count": 23,
     "metadata": {},
     "output_type": "execute_result"
    }
   ],
   "source": [
    "x + y"
   ]
  },
  {
   "cell_type": "code",
   "execution_count": 24,
   "id": "6497bc67-6dc9-40b7-bebc-6cb50dea0b30",
   "metadata": {},
   "outputs": [
    {
     "data": {
      "text/plain": [
       "array([[120, 160],\n",
       "       [260, 360]])"
      ]
     },
     "execution_count": 24,
     "metadata": {},
     "output_type": "execute_result"
    }
   ],
   "source": [
    "# Multipling arrays\n",
    "x.dot(y)"
   ]
  },
  {
   "cell_type": "code",
   "execution_count": 27,
   "id": "10db2ef5-e279-49a3-9ecd-d7d2094b09a8",
   "metadata": {},
   "outputs": [
    {
     "data": {
      "text/plain": [
       "4"
      ]
     },
     "execution_count": 27,
     "metadata": {},
     "output_type": "execute_result"
    }
   ],
   "source": [
    "# Indexing: arrayName[row, columen]\n",
    "y[0, 1]"
   ]
  },
  {
   "cell_type": "code",
   "execution_count": 28,
   "id": "37128c6d-e777-423b-9add-32d76893fcde",
   "metadata": {},
   "outputs": [
    {
     "data": {
      "text/plain": [
       "40"
      ]
     },
     "execution_count": 28,
     "metadata": {},
     "output_type": "execute_result"
    }
   ],
   "source": [
    "x[1, 1]"
   ]
  },
  {
   "cell_type": "code",
   "execution_count": 29,
   "id": "07ed2795-a8da-4cea-bbf7-02a3ed2c2ad4",
   "metadata": {},
   "outputs": [
    {
     "data": {
      "text/plain": [
       "array([4, 6])"
      ]
     },
     "execution_count": 29,
     "metadata": {},
     "output_type": "execute_result"
    }
   ],
   "source": [
    "# Accessing many items \n",
    "y[0:2, 1]"
   ]
  },
  {
   "cell_type": "markdown",
   "id": "99f8cf5a-8763-48f4-867a-3b9be89c5d4e",
   "metadata": {},
   "source": [
    " ### Reshaping Arrays"
   ]
  },
  {
   "cell_type": "code",
   "execution_count": 30,
   "id": "cf813923-4c10-4d90-82c2-e42d5efbf6b1",
   "metadata": {},
   "outputs": [
    {
     "data": {
      "text/plain": [
       "array([[1, 2, 3],\n",
       "       [4, 5, 6]])"
      ]
     },
     "execution_count": 30,
     "metadata": {},
     "output_type": "execute_result"
    }
   ],
   "source": [
    "new_data = np.array([1, 2, 3, 4, 5, 6])\n",
    "new_data.reshape(2, 3) #Args: row, col"
   ]
  },
  {
   "cell_type": "code",
   "execution_count": 33,
   "id": "91360b8f-82b5-4e33-890f-25239d7bdd0c",
   "metadata": {},
   "outputs": [
    {
     "data": {
      "text/plain": [
       "array([[1, 2],\n",
       "       [3, 4],\n",
       "       [5, 6]])"
      ]
     },
     "execution_count": 33,
     "metadata": {},
     "output_type": "execute_result"
    }
   ],
   "source": [
    "new_data.reshape(3, 2)"
   ]
  },
  {
   "cell_type": "code",
   "execution_count": 36,
   "id": "74080a76-87c2-4752-a486-63f222f5286a",
   "metadata": {},
   "outputs": [],
   "source": [
    "# Creating multi-dimensional array\n",
    "x = np.array([[[10, 20]], [[3, 40]],[[30, 70]], [[60, 50]]])"
   ]
  },
  {
   "cell_type": "code",
   "execution_count": 37,
   "id": "1a7e7dc2-2f76-48df-833c-899e035256b7",
   "metadata": {},
   "outputs": [
    {
     "data": {
      "text/plain": [
       "array([[[10, 20]],\n",
       "\n",
       "       [[ 3, 40]],\n",
       "\n",
       "       [[30, 70]],\n",
       "\n",
       "       [[60, 50]]])"
      ]
     },
     "execution_count": 37,
     "metadata": {},
     "output_type": "execute_result"
    }
   ],
   "source": [
    "x"
   ]
  },
  {
   "cell_type": "code",
   "execution_count": 38,
   "id": "b5a8c496-f85d-4bac-9a76-397c43f2bca3",
   "metadata": {},
   "outputs": [
    {
     "data": {
      "text/plain": [
       "array([[[0., 0., 0.],\n",
       "        [0., 0., 0.],\n",
       "        [0., 0., 0.]],\n",
       "\n",
       "       [[0., 0., 0.],\n",
       "        [0., 0., 0.],\n",
       "        [0., 0., 0.]],\n",
       "\n",
       "       [[0., 0., 0.],\n",
       "        [0., 0., 0.],\n",
       "        [0., 0., 0.]],\n",
       "\n",
       "       [[0., 0., 0.],\n",
       "        [0., 0., 0.],\n",
       "        [0., 0., 0.]],\n",
       "\n",
       "       [[0., 0., 0.],\n",
       "        [0., 0., 0.],\n",
       "        [0., 0., 0.]]])"
      ]
     },
     "execution_count": 38,
     "metadata": {},
     "output_type": "execute_result"
    }
   ],
   "source": [
    "# Creating a multi-dimensional array of ones\n",
    "np.zeros((5, 3, 3))"
   ]
  },
  {
   "cell_type": "code",
   "execution_count": null,
   "id": "b7b26143-3717-420d-bfb6-d91017968d20",
   "metadata": {},
   "outputs": [],
   "source": []
  }
 ],
 "metadata": {
  "kernelspec": {
   "display_name": "Python 3 (ipykernel)",
   "language": "python",
   "name": "python3"
  },
  "language_info": {
   "codemirror_mode": {
    "name": "ipython",
    "version": 3
   },
   "file_extension": ".py",
   "mimetype": "text/x-python",
   "name": "python",
   "nbconvert_exporter": "python",
   "pygments_lexer": "ipython3",
   "version": "3.12.3"
  }
 },
 "nbformat": 4,
 "nbformat_minor": 5
}
