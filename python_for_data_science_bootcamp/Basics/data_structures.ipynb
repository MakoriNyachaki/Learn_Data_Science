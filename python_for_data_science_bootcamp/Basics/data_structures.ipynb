{
 "cells": [
  {
   "cell_type": "markdown",
   "id": "6a458849-d3fd-4518-8594-e844d855e750",
   "metadata": {},
   "source": [
    "## Data Structures"
   ]
  },
  {
   "cell_type": "markdown",
   "id": "c6ab3518-5124-466b-b27a-d2866b0ce161",
   "metadata": {},
   "source": [
    "### List"
   ]
  },
  {
   "cell_type": "code",
   "execution_count": 1,
   "id": "16abf461-f3f1-4114-89c5-d7c2bdb81735",
   "metadata": {},
   "outputs": [
    {
     "name": "stdout",
     "output_type": "stream",
     "text": [
      "[]\n",
      "[]\n"
     ]
    }
   ],
   "source": [
    "# List creation\n",
    "new_list = []\n",
    "new_list1 = list()\n",
    "print(new_list)\n",
    "print(new_list1)"
   ]
  },
  {
   "cell_type": "code",
   "execution_count": 3,
   "id": "25886441-50ad-481f-806d-f0dcec9a6955",
   "metadata": {},
   "outputs": [
    {
     "data": {
      "text/plain": [
       "list"
      ]
     },
     "execution_count": 3,
     "metadata": {},
     "output_type": "execute_result"
    }
   ],
   "source": [
    "# Type of list\n",
    "type(new_list)\n",
    "type(new_list1)"
   ]
  },
  {
   "cell_type": "code",
   "execution_count": 4,
   "id": "fc1400fe-b01d-4e45-9c21-d6d6983bbec1",
   "metadata": {},
   "outputs": [
    {
     "name": "stdout",
     "output_type": "stream",
     "text": [
      "<class 'list'>\n",
      "<class 'list'>\n"
     ]
    }
   ],
   "source": [
    "# List of numbers\n",
    "nums = [1, 2, 3, 4, 5]\n",
    "nums1 = list((10, 20, 30, 40))\n",
    "print(type(nums))\n",
    "print(type(nums1))"
   ]
  },
  {
   "cell_type": "code",
   "execution_count": 6,
   "id": "e3966ada-b041-4ded-8a80-6bb6a2f30399",
   "metadata": {},
   "outputs": [
    {
     "name": "stdout",
     "output_type": "stream",
     "text": [
      "['red', 'yellow', 'black', 'green']\n"
     ]
    }
   ],
   "source": [
    "# List of strings\n",
    "# Colors\n",
    "colors = ['red', 'yellow', 'black', 'green']\n",
    "print(colors)"
   ]
  },
  {
   "cell_type": "code",
   "execution_count": 7,
   "id": "22810528-59ad-492c-bac9-771eeaf2db79",
   "metadata": {},
   "outputs": [
    {
     "name": "stdout",
     "output_type": "stream",
     "text": [
      "Mixed list:  [1, 'Blue', 'Andrew', 3.5]\n"
     ]
    }
   ],
   "source": [
    "# Multiple types in a list\n",
    "mixed_lst = [1, 'Blue', 'Andrew', 3.5]\n",
    "print(\"Mixed list: \", mixed_lst)"
   ]
  },
  {
   "cell_type": "code",
   "execution_count": 9,
   "id": "d8a8bbc6-1bc4-490f-8b35-b88c3bea358d",
   "metadata": {},
   "outputs": [
    {
     "name": "stdout",
     "output_type": "stream",
     "text": [
      "[1, [2, 3, 4], 5, 6, [8.4, 9.8]]\n"
     ]
    }
   ],
   "source": [
    "# List in a list\n",
    "nums = [1, [2, 3, 4], 5, 6, [8.4, 9.8]]\n",
    "print(nums)"
   ]
  },
  {
   "cell_type": "code",
   "execution_count": 16,
   "id": "e6220887-c167-4c1d-ac21-631a0277f7df",
   "metadata": {},
   "outputs": [
    {
     "name": "stdout",
     "output_type": "stream",
     "text": [
      "5\n"
     ]
    }
   ],
   "source": [
    "# Accessing list items with index number\n",
    "print(nums[2])"
   ]
  },
  {
   "cell_type": "code",
   "execution_count": 17,
   "id": "e008c079-3b0d-4b84-99c2-6ef8da1b0c5c",
   "metadata": {},
   "outputs": [
    {
     "name": "stdout",
     "output_type": "stream",
     "text": [
      "1\n",
      "[2, 3, 4]\n",
      "5\n",
      "6\n",
      "[8.4, 9.8]\n"
     ]
    }
   ],
   "source": [
    "# Accessing each list element\n",
    "for i in nums:\n",
    "    print(i)"
   ]
  },
  {
   "cell_type": "code",
   "execution_count": 18,
   "id": "3f2ecb4d-8fcc-437d-9474-2902c4d08e12",
   "metadata": {},
   "outputs": [
    {
     "data": {
      "text/plain": [
       "5"
      ]
     },
     "execution_count": 18,
     "metadata": {},
     "output_type": "execute_result"
    }
   ],
   "source": [
    "# We use the len() function to determine the length of a list\n",
    "len(nums)"
   ]
  },
  {
   "cell_type": "code",
   "execution_count": 19,
   "id": "ef590ed4-30a4-46f6-8a70-0db682744f30",
   "metadata": {},
   "outputs": [
    {
     "data": {
      "text/plain": [
       "[1, [2, 3, 4], 5]"
      ]
     },
     "execution_count": 19,
     "metadata": {},
     "output_type": "execute_result"
    }
   ],
   "source": [
    "# Obtaining the first 3 elements\n",
    "nums[0:3] # The upper bound is excluded from the output"
   ]
  },
  {
   "cell_type": "code",
   "execution_count": 39,
   "id": "a53fead7-042f-4162-bc02-bb7a8d41ea29",
   "metadata": {},
   "outputs": [
    {
     "data": {
      "text/plain": [
       "[1, [2, 3, 4], 5]"
      ]
     },
     "execution_count": 39,
     "metadata": {},
     "output_type": "execute_result"
    }
   ],
   "source": [
    "# You can also use the following to obtain a range of list elements\n",
    "nums[:3]"
   ]
  },
  {
   "cell_type": "code",
   "execution_count": 38,
   "id": "1c5d2501-0d04-4fbb-8b93-b355c99fc028",
   "metadata": {},
   "outputs": [
    {
     "data": {
      "text/plain": [
       "[6, [8.4, 9.8]]"
      ]
     },
     "execution_count": 38,
     "metadata": {},
     "output_type": "execute_result"
    }
   ],
   "source": [
    "# You can also use the following to obtain a range of list elements\n",
    "nums[3:] # Lower bound included in the output"
   ]
  },
  {
   "cell_type": "code",
   "execution_count": 25,
   "id": "5badff73-4837-4181-871f-c6a6ea0395c7",
   "metadata": {},
   "outputs": [
    {
     "data": {
      "text/plain": [
       "[8.4, 9.8]"
      ]
     },
     "execution_count": 25,
     "metadata": {},
     "output_type": "execute_result"
    }
   ],
   "source": [
    "# We use negative indexing to obtain the elements from the last element in the list. Beginning -1\n",
    "nums[-1] # Output: [8.4, 9.8]"
   ]
  },
  {
   "cell_type": "code",
   "execution_count": 28,
   "id": "b8fb7033-6dd1-431b-89ce-a9058fb44602",
   "metadata": {},
   "outputs": [
    {
     "data": {
      "text/plain": [
       "[8.4, 9.8]"
      ]
     },
     "execution_count": 28,
     "metadata": {},
     "output_type": "execute_result"
    }
   ],
   "source": [
    "nums[-1]"
   ]
  },
  {
   "cell_type": "code",
   "execution_count": 30,
   "id": "6b1a7a54-866a-4d5a-8226-bbaed76d87d1",
   "metadata": {},
   "outputs": [
    {
     "name": "stdout",
     "output_type": "stream",
     "text": [
      "['red', 'yellow', 'black', 'green']\n"
     ]
    },
    {
     "data": {
      "text/plain": [
       "False"
      ]
     },
     "execution_count": 30,
     "metadata": {},
     "output_type": "execute_result"
    }
   ],
   "source": [
    "print(colors)\n",
    "# Test whether a given element is in the list\n",
    "'white' in colors # Prints False, white is not in colors"
   ]
  },
  {
   "cell_type": "code",
   "execution_count": 31,
   "id": "936db0a6-5a8f-48db-8516-1f36f0a9c2ed",
   "metadata": {},
   "outputs": [],
   "source": [
    "# Add an element into the list we use\n",
    "# Use either the append() method or the insert() method\n",
    "# append: Add white color into colors\n",
    "colors.append('White') # Adds the white color as the last element of the list colors\n",
    "# insert(): Adds an element into a list at a specified index\n",
    "colors.insert(0, \"violet\") # Adds violet to the first index in the list pushing red to the 2nd  index\n"
   ]
  },
  {
   "cell_type": "code",
   "execution_count": 32,
   "id": "4a01f6da-3db8-4f68-b622-8d85f2447cdd",
   "metadata": {},
   "outputs": [
    {
     "name": "stdout",
     "output_type": "stream",
     "text": [
      "['violet', 'red', 'yellow', 'black', 'green', 'White']\n"
     ]
    }
   ],
   "source": [
    "print(colors) # Print a list of colors  together with the added elements(white & violet)"
   ]
  },
  {
   "cell_type": "code",
   "execution_count": 33,
   "id": "375b2b72-52ca-49aa-b902-62f399d063d2",
   "metadata": {},
   "outputs": [
    {
     "name": "stdout",
     "output_type": "stream",
     "text": [
      "['violet', 'red', 'yellow', 'black', 'green']\n",
      "['violet', 'red', 'yellow', 'green']\n"
     ]
    }
   ],
   "source": [
    "# Removing items from a list we use the pop() method. Removes  the last element of the list\n",
    "# Or specifying the index to remove the specific element\n",
    "colors.pop() # removes white color that is the last element\n",
    "print(colors)\n",
    "colors.pop(3) # removes the element at index 3, that is black\n",
    "print(colors)\n"
   ]
  },
  {
   "cell_type": "code",
   "execution_count": 35,
   "id": "81f93949-0ae4-462f-9192-7c3c2c081768",
   "metadata": {},
   "outputs": [
    {
     "name": "stdout",
     "output_type": "stream",
     "text": [
      "['violet', 'red', 'yellow', 'green', 'orange', 'indigo', 'purple']\n"
     ]
    }
   ],
   "source": [
    "# Adding more than one element into a list\n",
    "# We use the extend() method.\n",
    "# Elements added are added to the last index on\n",
    "# Add colors: orange, indigo and purple to the colors list\n",
    "colors.extend([\"orange\", \"indigo\", \"purple\"])\n",
    "print(colors)"
   ]
  },
  {
   "cell_type": "code",
   "execution_count": 36,
   "id": "520a622a-f6e3-47a4-9e95-ec985a1891e6",
   "metadata": {},
   "outputs": [
    {
     "name": "stdout",
     "output_type": "stream",
     "text": [
      "['violet', 'red', 'yellow', 'green', 'indigo', 'purple']\n"
     ]
    }
   ],
   "source": [
    "# Deleting an element from the list\n",
    "# we use the del keyword\n",
    "del colors[4] # deletes the color at index 4(orange)\n",
    "print(colors)"
   ]
  },
  {
   "cell_type": "code",
   "execution_count": 37,
   "id": "3b8b0504-82b9-4045-90c9-fc8f9c05c0cb",
   "metadata": {},
   "outputs": [
    {
     "name": "stdout",
     "output_type": "stream",
     "text": [
      "['violet', 'pink', 'yellow', 'green', 'indigo', 'purple']\n"
     ]
    }
   ],
   "source": [
    "# Change the value of an element in a list\n",
    "# We assign an element to a given list index\n",
    "# Example changing color red to pink\n",
    "colors[1] = 'pink'\n",
    "print(colors)"
   ]
  },
  {
   "cell_type": "markdown",
   "id": "e269a4b8-1788-49ae-a818-7dce2356881f",
   "metadata": {},
   "source": [
    "### Tuples"
   ]
  },
  {
   "cell_type": "code",
   "execution_count": 40,
   "id": "e138fe02-5792-4ca2-80e7-1b18c55eb792",
   "metadata": {},
   "outputs": [],
   "source": [
    "# Creating tuples\n",
    "nums = tuple((1,2,3,4))\n",
    "nums1 = (1, 2, 3, 4, 5, 6, 7)"
   ]
  },
  {
   "cell_type": "code",
   "execution_count": 44,
   "id": "d97f0d83-0c9f-4393-ac02-cabe15b194d7",
   "metadata": {},
   "outputs": [
    {
     "name": "stdout",
     "output_type": "stream",
     "text": [
      "<class 'tuple'>\n",
      "<class 'tuple'>\n"
     ]
    }
   ],
   "source": [
    "print(type(nums))\n",
    "print(type(nums1))"
   ]
  },
  {
   "cell_type": "code",
   "execution_count": 45,
   "id": "9eec8d4a-230e-40e4-974b-25701d6b5dce",
   "metadata": {},
   "outputs": [
    {
     "data": {
      "text/plain": [
       "tuple"
      ]
     },
     "execution_count": 45,
     "metadata": {},
     "output_type": "execute_result"
    }
   ],
   "source": [
    "type(nums)"
   ]
  },
  {
   "cell_type": "code",
   "execution_count": 46,
   "id": "bfa70375-54bf-403b-92e0-a1b1051d9702",
   "metadata": {},
   "outputs": [
    {
     "data": {
      "text/plain": [
       "4"
      ]
     },
     "execution_count": 46,
     "metadata": {},
     "output_type": "execute_result"
    }
   ],
   "source": [
    "# Length of a tuple\n",
    "len(nums)"
   ]
  },
  {
   "cell_type": "code",
   "execution_count": 47,
   "id": "034628e0-c74b-4d18-939a-1e4729a3bfda",
   "metadata": {},
   "outputs": [
    {
     "data": {
      "text/plain": [
       "(1, 2, 3)"
      ]
     },
     "execution_count": 47,
     "metadata": {},
     "output_type": "execute_result"
    }
   ],
   "source": [
    "# Accessing items from a tuple using indexes\n",
    "nums1[0:3] # Upper bound not included in the output"
   ]
  },
  {
   "cell_type": "code",
   "execution_count": 48,
   "id": "1f55acd3-08ad-406e-96d1-1f021160cc01",
   "metadata": {},
   "outputs": [
    {
     "ename": "TypeError",
     "evalue": "'tuple' object does not support item assignment",
     "output_type": "error",
     "traceback": [
      "\u001b[0;31m---------------------------------------------------------------------------\u001b[0m",
      "\u001b[0;31mTypeError\u001b[0m                                 Traceback (most recent call last)",
      "Cell \u001b[0;32mIn[48], line 2\u001b[0m\n\u001b[1;32m      1\u001b[0m \u001b[38;5;66;03m# Tuples are immutable, you can not change the value of the element in the tuple\u001b[39;00m\n\u001b[0;32m----> 2\u001b[0m \u001b[43mnums\u001b[49m\u001b[43m[\u001b[49m\u001b[38;5;241;43m0\u001b[39;49m\u001b[43m]\u001b[49m \u001b[38;5;241m=\u001b[39m \u001b[38;5;241m3\u001b[39m\n",
      "\u001b[0;31mTypeError\u001b[0m: 'tuple' object does not support item assignment"
     ]
    }
   ],
   "source": [
    "# Tuples are immutable, you can not change the value of the element in the tuple\n",
    "nums[0] = 3"
   ]
  },
  {
   "cell_type": "code",
   "execution_count": 49,
   "id": "c348aa16-03fd-4803-b7da-e860b4d88ac4",
   "metadata": {},
   "outputs": [
    {
     "data": {
      "text/plain": [
       "True"
      ]
     },
     "execution_count": 49,
     "metadata": {},
     "output_type": "execute_result"
    }
   ],
   "source": [
    "# check if an item exists in a tuple\n",
    "fruits = (\"melon\", \"mango\", \"kiwi\")\n",
    "\"kiwi\" in fruits # Prints True, since kiwi exists in fruits"
   ]
  },
  {
   "cell_type": "code",
   "execution_count": 50,
   "id": "d3ac466f-2702-42fb-89ec-249ee9b140b2",
   "metadata": {},
   "outputs": [
    {
     "data": {
      "text/plain": [
       "False"
      ]
     },
     "execution_count": 50,
     "metadata": {},
     "output_type": "execute_result"
    }
   ],
   "source": [
    "# using 'not in'\n",
    "'kiwi' not in fruits # False"
   ]
  },
  {
   "cell_type": "code",
   "execution_count": 52,
   "id": "0dce6638-1a92-4b0a-b40c-099d5d579c27",
   "metadata": {},
   "outputs": [],
   "source": [
    "# deleting the tuple since tuples do not support item deletion\n",
    "del fruits"
   ]
  },
  {
   "cell_type": "code",
   "execution_count": 53,
   "id": "a777ba1e-aae5-49a2-9232-e778a89384ee",
   "metadata": {},
   "outputs": [
    {
     "ename": "NameError",
     "evalue": "name 'fruits' is not defined",
     "output_type": "error",
     "traceback": [
      "\u001b[0;31m---------------------------------------------------------------------------\u001b[0m",
      "\u001b[0;31mNameError\u001b[0m                                 Traceback (most recent call last)",
      "Cell \u001b[0;32mIn[53], line 1\u001b[0m\n\u001b[0;32m----> 1\u001b[0m \u001b[43mfruits\u001b[49m\n",
      "\u001b[0;31mNameError\u001b[0m: name 'fruits' is not defined"
     ]
    }
   ],
   "source": [
    "fruits"
   ]
  },
  {
   "cell_type": "markdown",
   "id": "8949ae05-86cf-407c-9597-1f7e4d4df34a",
   "metadata": {},
   "source": [
    "### Dictionaries"
   ]
  },
  {
   "cell_type": "code",
   "execution_count": 54,
   "id": "c129cb20-5a4c-410b-a1c4-cc631f785b16",
   "metadata": {},
   "outputs": [],
   "source": [
    "# Create a dictionary\n",
    "new_dic = {\"Ronaldo\": 36, \"Messi\":34, \"Salah\":27}\n",
    "new_dic1 = dict({'Danny':33,'Sane':24, 'Sam':30})"
   ]
  },
  {
   "cell_type": "code",
   "execution_count": 55,
   "id": "a3a76a89-deb3-450b-b085-7d979ed78148",
   "metadata": {},
   "outputs": [
    {
     "name": "stdout",
     "output_type": "stream",
     "text": [
      "<class 'dict'>\n",
      "<class 'dict'>\n"
     ]
    }
   ],
   "source": [
    "# Testing for type\n",
    "print(type(new_dic))\n",
    "print(type(new_dic1))"
   ]
  },
  {
   "cell_type": "code",
   "execution_count": 56,
   "id": "76009e2d-66f2-4ffe-b484-b4275d2e506b",
   "metadata": {},
   "outputs": [
    {
     "data": {
      "text/plain": [
       "dict"
      ]
     },
     "execution_count": 56,
     "metadata": {},
     "output_type": "execute_result"
    }
   ],
   "source": [
    "type(new_dic)"
   ]
  },
  {
   "cell_type": "code",
   "execution_count": 59,
   "id": "e812c4da-f8a5-44a1-9175-aae0790c8625",
   "metadata": {},
   "outputs": [],
   "source": [
    "# Sequence of tuples\n",
    "children = dict({\n",
    "    ('child1','5'),\n",
    "    ('child2', '6'),\n",
    "    ('child3', '7')\n",
    "})"
   ]
  },
  {
   "cell_type": "code",
   "execution_count": 60,
   "id": "07eb95d8-f195-449e-bc41-4fa205a383ac",
   "metadata": {},
   "outputs": [
    {
     "data": {
      "text/plain": [
       "dict"
      ]
     },
     "execution_count": 60,
     "metadata": {},
     "output_type": "execute_result"
    }
   ],
   "source": [
    "type(children)"
   ]
  },
  {
   "cell_type": "code",
   "execution_count": 61,
   "id": "2e5a79c0-b227-41aa-85c5-cab00f462465",
   "metadata": {},
   "outputs": [
    {
     "data": {
      "text/plain": [
       "36"
      ]
     },
     "execution_count": 61,
     "metadata": {},
     "output_type": "execute_result"
    }
   ],
   "source": [
    "# Accessing dictionary values, we use the key\n",
    "new_dic['Ronaldo']"
   ]
  },
  {
   "cell_type": "code",
   "execution_count": 62,
   "id": "cf647d16-7996-4788-914e-9bdba5da1701",
   "metadata": {},
   "outputs": [],
   "source": [
    "# Assigning a new value to a dictionary value using key\n",
    "new_dic['Messi'] = 23"
   ]
  },
  {
   "cell_type": "code",
   "execution_count": 63,
   "id": "53365189-289c-429f-afb2-e815deb3c738",
   "metadata": {},
   "outputs": [
    {
     "data": {
      "text/plain": [
       "23"
      ]
     },
     "execution_count": 63,
     "metadata": {},
     "output_type": "execute_result"
    }
   ],
   "source": [
    "new_dic['Messi']"
   ]
  },
  {
   "cell_type": "code",
   "execution_count": 64,
   "id": "7f7efdb9-2583-42cb-bd09-e37d31f71e46",
   "metadata": {},
   "outputs": [
    {
     "data": {
      "text/plain": [
       "{'Ronaldo': 36, 'Salah': 27}"
      ]
     },
     "execution_count": 64,
     "metadata": {},
     "output_type": "execute_result"
    }
   ],
   "source": [
    "# Remove a dictionary element we use the 'del' keyword\n",
    "del new_dic['Messi'] # deletes Messi\n",
    "new_dic"
   ]
  },
  {
   "cell_type": "code",
   "execution_count": 65,
   "id": "3966a1d8-1b64-4351-8390-508286b9056e",
   "metadata": {},
   "outputs": [
    {
     "data": {
      "text/plain": [
       "False"
      ]
     },
     "execution_count": 65,
     "metadata": {},
     "output_type": "execute_result"
    }
   ],
   "source": [
    "# Check for an item in dictionary\n",
    "'Messi' in new_dic # False"
   ]
  },
  {
   "cell_type": "markdown",
   "id": "e7d6340a-3193-48e3-977b-258804e73e42",
   "metadata": {},
   "source": [
    "### Sets"
   ]
  },
  {
   "cell_type": "code",
   "execution_count": 67,
   "id": "0a4721fd-7dfe-4f2d-9990-b344bb1cbaf7",
   "metadata": {},
   "outputs": [],
   "source": [
    "# Creating a set\n",
    "new_set = {2, 4, 10, 20, 30}\n",
    "new_set1 = set((23,27,29,31,33))"
   ]
  },
  {
   "cell_type": "code",
   "execution_count": 68,
   "id": "e3d2f827-6c63-451d-8301-f8a0ce0bc60b",
   "metadata": {},
   "outputs": [
    {
     "name": "stdout",
     "output_type": "stream",
     "text": [
      "<class 'set'>\n",
      "<class 'set'>\n"
     ]
    }
   ],
   "source": [
    "print(type(new_set))\n",
    "print(type(new_set1))"
   ]
  },
  {
   "cell_type": "code",
   "execution_count": 70,
   "id": "30ead086-e8a9-4aa5-a2a0-94c3c4ee925e",
   "metadata": {},
   "outputs": [
    {
     "name": "stdout",
     "output_type": "stream",
     "text": [
      "{2, 4, 20, 10, 30}\n",
      "{33, 23, 27, 29, 31}\n"
     ]
    }
   ],
   "source": [
    "# Printing sets\n",
    "print(new_set)\n",
    "print(new_set1)"
   ]
  },
  {
   "cell_type": "code",
   "execution_count": 71,
   "id": "937ac17a-702b-4f1a-a805-24784451b696",
   "metadata": {},
   "outputs": [
    {
     "data": {
      "text/plain": [
       "{'L', 'i', 'm', 't'}"
      ]
     },
     "execution_count": 71,
     "metadata": {},
     "output_type": "execute_result"
    }
   ],
   "source": [
    "# Converting a string type into a set\n",
    "set('Limit')"
   ]
  },
  {
   "cell_type": "code",
   "execution_count": 72,
   "id": "534e08f5-fb09-405d-9851-b38f31598bdb",
   "metadata": {},
   "outputs": [],
   "source": [
    "# using a dictionary to store set elements\n",
    "m = set({1: 'name', 2: 'age'})"
   ]
  },
  {
   "cell_type": "code",
   "execution_count": 73,
   "id": "3156c9de-c17e-46c8-a7f5-c6ab5ed96fd8",
   "metadata": {},
   "outputs": [
    {
     "data": {
      "text/plain": [
       "set"
      ]
     },
     "execution_count": 73,
     "metadata": {},
     "output_type": "execute_result"
    }
   ],
   "source": [
    "type(m)"
   ]
  },
  {
   "cell_type": "code",
   "execution_count": 74,
   "id": "d37ce024-644d-4183-8eb6-2522042eb47b",
   "metadata": {},
   "outputs": [],
   "source": [
    "# Deleting a whole set we use the del keyword\n",
    "del new_set"
   ]
  },
  {
   "cell_type": "code",
   "execution_count": 75,
   "id": "63598b0f-8631-4359-8e80-d36848fac3d4",
   "metadata": {},
   "outputs": [
    {
     "ename": "NameError",
     "evalue": "name 'new_set' is not defined",
     "output_type": "error",
     "traceback": [
      "\u001b[0;31m---------------------------------------------------------------------------\u001b[0m",
      "\u001b[0;31mNameError\u001b[0m                                 Traceback (most recent call last)",
      "Cell \u001b[0;32mIn[75], line 1\u001b[0m\n\u001b[0;32m----> 1\u001b[0m \u001b[43mnew_set\u001b[49m\n",
      "\u001b[0;31mNameError\u001b[0m: name 'new_set' is not defined"
     ]
    }
   ],
   "source": [
    "new_set"
   ]
  },
  {
   "cell_type": "code",
   "execution_count": null,
   "id": "23f67d35-2d79-4be5-b55f-c0c713f761d4",
   "metadata": {},
   "outputs": [],
   "source": []
  }
 ],
 "metadata": {
  "kernelspec": {
   "display_name": "Python 3 (ipykernel)",
   "language": "python",
   "name": "python3"
  },
  "language_info": {
   "codemirror_mode": {
    "name": "ipython",
    "version": 3
   },
   "file_extension": ".py",
   "mimetype": "text/x-python",
   "name": "python",
   "nbconvert_exporter": "python",
   "pygments_lexer": "ipython3",
   "version": "3.12.3"
  }
 },
 "nbformat": 4,
 "nbformat_minor": 5
}
