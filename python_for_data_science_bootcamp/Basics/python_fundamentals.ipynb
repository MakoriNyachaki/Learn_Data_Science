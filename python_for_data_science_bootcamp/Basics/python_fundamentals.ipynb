{
 "cells": [
  {
   "cell_type": "markdown",
   "id": "ee90206d-0742-487f-9d8d-4223c4139ffb",
   "metadata": {},
   "source": [
    "## Python Fundamentals\n",
    "\n",
    "### Comparing Values"
   ]
  },
  {
   "cell_type": "code",
   "execution_count": 1,
   "id": "c01d8d52-75bb-45ab-9296-d26a83783e76",
   "metadata": {},
   "outputs": [],
   "source": [
    "# Comparing two variables\n",
    "x = 10\n",
    "y = 20"
   ]
  },
  {
   "cell_type": "code",
   "execution_count": 2,
   "id": "a4d624df-63a7-482f-b0f5-66de454e0ae8",
   "metadata": {},
   "outputs": [
    {
     "data": {
      "text/plain": [
       "False"
      ]
     },
     "execution_count": 2,
     "metadata": {},
     "output_type": "execute_result"
    }
   ],
   "source": [
    "x > y # False"
   ]
  },
  {
   "cell_type": "code",
   "execution_count": 3,
   "id": "36c7933a-9dc1-4bd3-9434-5426063f9e92",
   "metadata": {},
   "outputs": [
    {
     "data": {
      "text/plain": [
       "True"
      ]
     },
     "execution_count": 3,
     "metadata": {},
     "output_type": "execute_result"
    }
   ],
   "source": [
    "x < y # True"
   ]
  },
  {
   "cell_type": "code",
   "execution_count": 4,
   "id": "9f4883d0-a07c-411e-b563-8f30e1fe2c75",
   "metadata": {},
   "outputs": [
    {
     "data": {
      "text/plain": [
       "False"
      ]
     },
     "execution_count": 4,
     "metadata": {},
     "output_type": "execute_result"
    }
   ],
   "source": [
    "x >= y # False"
   ]
  },
  {
   "cell_type": "code",
   "execution_count": 5,
   "id": "ed82ae13-32d2-481c-8bc9-cf6087324f5f",
   "metadata": {},
   "outputs": [
    {
     "data": {
      "text/plain": [
       "True"
      ]
     },
     "execution_count": 5,
     "metadata": {},
     "output_type": "execute_result"
    }
   ],
   "source": [
    "x <= y # True"
   ]
  },
  {
   "cell_type": "code",
   "execution_count": 6,
   "id": "826940d2-9f13-4de9-9a9f-d4047317cf80",
   "metadata": {},
   "outputs": [
    {
     "data": {
      "text/plain": [
       "True"
      ]
     },
     "execution_count": 6,
     "metadata": {},
     "output_type": "execute_result"
    }
   ],
   "source": [
    "x != y # True"
   ]
  },
  {
   "cell_type": "code",
   "execution_count": 7,
   "id": "1f2b1cbf-a2f4-49c1-b531-4c062e33a013",
   "metadata": {},
   "outputs": [
    {
     "data": {
      "text/plain": [
       "False"
      ]
     },
     "execution_count": 7,
     "metadata": {},
     "output_type": "execute_result"
    }
   ],
   "source": [
    "x == y # False"
   ]
  },
  {
   "cell_type": "code",
   "execution_count": 8,
   "id": "4e124159-9df3-4556-b47f-1d24be880296",
   "metadata": {},
   "outputs": [
    {
     "data": {
      "text/plain": [
       "bool"
      ]
     },
     "execution_count": 8,
     "metadata": {},
     "output_type": "execute_result"
    }
   ],
   "source": [
    "# Displaying type of any data in python\n",
    "type(x == y)"
   ]
  },
  {
   "cell_type": "code",
   "execution_count": 10,
   "id": "f3c083b9-f73e-4b46-8192-b1ede0b780a3",
   "metadata": {},
   "outputs": [
    {
     "name": "stdout",
     "output_type": "stream",
     "text": [
      "<class 'bool'>\n"
     ]
    }
   ],
   "source": [
    "print(type(x == y))"
   ]
  },
  {
   "cell_type": "code",
   "execution_count": 11,
   "id": "b672ac20-c9c8-4fb9-b68d-8650289ddc48",
   "metadata": {},
   "outputs": [
    {
     "data": {
      "text/plain": [
       "True"
      ]
     },
     "execution_count": 11,
     "metadata": {},
     "output_type": "execute_result"
    }
   ],
   "source": [
    "'c' == 'c'"
   ]
  },
  {
   "cell_type": "code",
   "execution_count": 12,
   "id": "e3659317-2f58-448c-adbe-4c8ed6c57cdc",
   "metadata": {},
   "outputs": [
    {
     "data": {
      "text/plain": [
       "False"
      ]
     },
     "execution_count": 12,
     "metadata": {},
     "output_type": "execute_result"
    }
   ],
   "source": [
    "'c' == 'd'"
   ]
  },
  {
   "cell_type": "code",
   "execution_count": 13,
   "id": "8068c03d-0fff-41fd-86d8-8532a36e50b7",
   "metadata": {},
   "outputs": [
    {
     "data": {
      "text/plain": [
       "False"
      ]
     },
     "execution_count": 13,
     "metadata": {},
     "output_type": "execute_result"
    }
   ],
   "source": [
    "'c'>'d'"
   ]
  },
  {
   "cell_type": "code",
   "execution_count": null,
   "id": "b48eeadf-dd36-40bd-b63c-8767b05c4b3e",
   "metadata": {},
   "outputs": [],
   "source": [
    "'c' < 'd"
   ]
  }
 ],
 "metadata": {
  "kernelspec": {
   "display_name": "Python 3 (ipykernel)",
   "language": "python",
   "name": "python3"
  },
  "language_info": {
   "codemirror_mode": {
    "name": "ipython",
    "version": 3
   },
   "file_extension": ".py",
   "mimetype": "text/x-python",
   "name": "python",
   "nbconvert_exporter": "python",
   "pygments_lexer": "ipython3",
   "version": "3.12.3"
  }
 },
 "nbformat": 4,
 "nbformat_minor": 5
}
