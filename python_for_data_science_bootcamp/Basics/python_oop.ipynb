{
 "cells": [
  {
   "cell_type": "markdown",
   "id": "ddc04920-9b93-4025-a34c-0d6bb4fb483a",
   "metadata": {},
   "source": [
    "## Python OOP\n",
    "\n",
    "### Class in Pyhthon\n",
    "\n",
    "* We use the 'class' keywprd to create a class\n",
    "* Syntax: class <ClassName>"
   ]
  },
  {
   "cell_type": "code",
   "execution_count": 2,
   "id": "4e34b895-a3e2-415e-8489-4d41f3bbbb4e",
   "metadata": {},
   "outputs": [],
   "source": [
    "# Example\n",
    "class Car:\n",
    "    pass # An emptyu class"
   ]
  },
  {
   "cell_type": "code",
   "execution_count": 3,
   "id": "5b8cf4ba-3c1d-42da-b5d0-f5014e7cc141",
   "metadata": {},
   "outputs": [],
   "source": [
    "# Objects\n",
    "model1 = Car()"
   ]
  },
  {
   "cell_type": "code",
   "execution_count": 6,
   "id": "5f2fb1f8-bdea-49e0-85ac-afe7e4465c89",
   "metadata": {},
   "outputs": [],
   "source": [
    "# Creating an attribute in a class\n",
    "class Car:\n",
    "    color = 'black'"
   ]
  },
  {
   "cell_type": "code",
   "execution_count": 7,
   "id": "a9866530-c6d4-4b95-8ab9-268d29522640",
   "metadata": {},
   "outputs": [
    {
     "name": "stdout",
     "output_type": "stream",
     "text": [
      "black\n"
     ]
    }
   ],
   "source": [
    "model1 = Car()\n",
    "print(model1.color)"
   ]
  },
  {
   "cell_type": "code",
   "execution_count": 8,
   "id": "9f85ca2a-f9b8-4884-82da-36cc0ba56004",
   "metadata": {},
   "outputs": [],
   "source": [
    "# Functions in a class\n",
    "class Car:\n",
    "    def __init__(self, name, color):\n",
    "        self.name = name\n",
    "        self.color = colorUntitled"
   ]
  },
  {
   "cell_type": "code",
   "execution_count": 9,
   "id": "feddb4b0-ce00-46d6-aea7-80d1eb42658b",
   "metadata": {},
   "outputs": [],
   "source": [
    "model1 = Car('A1', 'Black')"
   ]
  },
  {
   "cell_type": "code",
   "execution_count": 10,
   "id": "d789a391-3bdf-4df4-9f4c-f40b74f5708d",
   "metadata": {},
   "outputs": [
    {
     "name": "stdout",
     "output_type": "stream",
     "text": [
      "A1\n",
      "Black\n"
     ]
    }
   ],
   "source": [
    "print(model1.name)\n",
    "print(model1.color)"
   ]
  },
  {
   "cell_type": "code",
   "execution_count": 12,
   "id": "0637db01-a4a0-4657-b752-d8a1e002a92f",
   "metadata": {},
   "outputs": [],
   "source": [
    "class Car:\n",
    "    def __init__(self, name, color):\n",
    "        self.name = name\n",
    "        self.color = color\n",
    "\n",
    "    def msg(self):\n",
    "        print(\"The car name is \" + self.name)\n",
    "              "
   ]
  },
  {
   "cell_type": "code",
   "execution_count": 13,
   "id": "79f0f25d-822e-4c80-a9f8-4bcc98554338",
   "metadata": {},
   "outputs": [],
   "source": [
    "model1 = Car(\"B2\", \"white\")"
   ]
  },
  {
   "cell_type": "code",
   "execution_count": 14,
   "id": "d34467b3-f611-4d3f-9b53-83192fb99e3d",
   "metadata": {},
   "outputs": [
    {
     "name": "stdout",
     "output_type": "stream",
     "text": [
      "The car name is B2\n"
     ]
    }
   ],
   "source": [
    "model1.msg()"
   ]
  },
  {
   "cell_type": "code",
   "execution_count": 15,
   "id": "811e4f06-9552-4fc0-bc59-6f1c0d128cb1",
   "metadata": {},
   "outputs": [
    {
     "name": "stdout",
     "output_type": "stream",
     "text": [
      "white\n"
     ]
    }
   ],
   "source": [
    "print(model1.color)"
   ]
  },
  {
   "cell_type": "code",
   "execution_count": 16,
   "id": "20ae94dd-cb1e-4626-a2e7-14c65a49de2e",
   "metadata": {},
   "outputs": [],
   "source": [
    "# you can use del keyword to delete an attribute"
   ]
  },
  {
   "cell_type": "markdown",
   "id": "ec7af3c2-a94f-41a4-ab6a-f18eabac84b3",
   "metadata": {},
   "source": [
    "### Inheritance"
   ]
  },
  {
   "cell_type": "code",
   "execution_count": 17,
   "id": "fec18f7b-9877-4a09-b2bd-d1d68ae17f44",
   "metadata": {},
   "outputs": [],
   "source": [
    "# Example\n",
    "class Car:\n",
    "    def __init__(self, name, color):\n",
    "        self.name = name\n",
    "        self.color = color\n",
    "\n",
    "    def msg(self):\n",
    "        print(self.name, self.color)"
   ]
  },
  {
   "cell_type": "code",
   "execution_count": 18,
   "id": "bcb963b6-ae35-4fe5-bbc3-2cc2d24e08e7",
   "metadata": {},
   "outputs": [],
   "source": [
    "model2 = Car(\"CX5\", \"Red\")"
   ]
  },
  {
   "cell_type": "code",
   "execution_count": 19,
   "id": "41e79fb7-ded2-4d54-9a08-7b695ba222fd",
   "metadata": {},
   "outputs": [
    {
     "name": "stdout",
     "output_type": "stream",
     "text": [
      "CX5 Red\n"
     ]
    }
   ],
   "source": [
    "model2.msg()"
   ]
  },
  {
   "cell_type": "code",
   "execution_count": 20,
   "id": "0e863360-a4f5-4792-8750-2aa22ac79b14",
   "metadata": {},
   "outputs": [],
   "source": [
    "# Using Inheritance\n",
    "class Car1(Car):\n",
    "    pass\n"
   ]
  },
  {
   "cell_type": "code",
   "execution_count": 21,
   "id": "0c3d3166-1dd9-442c-a63e-03b7de92f5c8",
   "metadata": {},
   "outputs": [],
   "source": [
    "model2 = Car1(\"Mazda\", \"Blue\")"
   ]
  },
  {
   "cell_type": "code",
   "execution_count": 22,
   "id": "9fea6f06-3271-4a72-8720-8505458eb8c9",
   "metadata": {},
   "outputs": [
    {
     "name": "stdout",
     "output_type": "stream",
     "text": [
      "Mazda Blue\n"
     ]
    }
   ],
   "source": [
    "model2.msg()"
   ]
  },
  {
   "cell_type": "code",
   "execution_count": 35,
   "id": "68ee55b4-c705-4f32-9e13-7a0fd857eb85",
   "metadata": {},
   "outputs": [],
   "source": [
    "class Car1(Car):\n",
    "    def __init__(self, name, color):\n",
    "        Car.__init__(self, name, color)"
   ]
  },
  {
   "cell_type": "code",
   "execution_count": 36,
   "id": "8572f49e-51a6-4e56-8b78-553f93be9941",
   "metadata": {},
   "outputs": [],
   "source": [
    "model3 = Car1(\"Harrier\", \"Green\")"
   ]
  },
  {
   "cell_type": "code",
   "execution_count": 28,
   "id": "fc264f3d-6473-4006-a344-7a13c4f7bf09",
   "metadata": {},
   "outputs": [
    {
     "name": "stdout",
     "output_type": "stream",
     "text": [
      "Harrier Green\n"
     ]
    }
   ],
   "source": [
    "model3.msg()"
   ]
  },
  {
   "cell_type": "code",
   "execution_count": 29,
   "id": "e3e9c150-b009-4f87-a2d8-2ae85b0affc9",
   "metadata": {},
   "outputs": [],
   "source": [
    "# You can also use super to declare the Car class in Car1"
   ]
  },
  {
   "cell_type": "code",
   "execution_count": 40,
   "id": "b31347ea-d397-425d-a62b-c8ae1f08fce5",
   "metadata": {},
   "outputs": [],
   "source": [
    "class Car1(Car):\n",
    "    def __init__(self, name, color):\n",
    "        super().__init__(name, color)"
   ]
  },
  {
   "cell_type": "code",
   "execution_count": 43,
   "id": "d672962f-2d87-4aa7-88f2-381364aa7fac",
   "metadata": {},
   "outputs": [],
   "source": [
    "model4 = Car1(\"LX570\", \"Blue\")"
   ]
  },
  {
   "cell_type": "code",
   "execution_count": 44,
   "id": "c2bafa0d-d5e5-4aa4-ab98-591ded815907",
   "metadata": {},
   "outputs": [
    {
     "name": "stdout",
     "output_type": "stream",
     "text": [
      "LX570 Blue\n"
     ]
    }
   ],
   "source": [
    "model4.msg()"
   ]
  },
  {
   "cell_type": "code",
   "execution_count": null,
   "id": "21e78208-e52e-4c89-adc2-5544e5288bf6",
   "metadata": {},
   "outputs": [],
   "source": []
  }
 ],
 "metadata": {
  "kernelspec": {
   "display_name": "Python 3 (ipykernel)",
   "language": "python",
   "name": "python3"
  },
  "language_info": {
   "codemirror_mode": {
    "name": "ipython",
    "version": 3
   },
   "file_extension": ".py",
   "mimetype": "text/x-python",
   "name": "python",
   "nbconvert_exporter": "python",
   "pygments_lexer": "ipython3",
   "version": "3.12.3"
  }
 },
 "nbformat": 4,
 "nbformat_minor": 5
}
