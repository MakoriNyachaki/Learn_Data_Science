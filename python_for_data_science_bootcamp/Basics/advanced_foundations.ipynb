{
 "cells": [
  {
   "cell_type": "markdown",
   "id": "fab8e3e9-ea0a-4788-a416-e21e57970fb6",
   "metadata": {},
   "source": [
    "## Advanced Foundations\n",
    "\n",
    "### List Comprehension"
   ]
  },
  {
   "cell_type": "code",
   "execution_count": 1,
   "id": "4001bd01-8d5f-4254-8f68-53dda6dd7231",
   "metadata": {},
   "outputs": [
    {
     "data": {
      "text/plain": [
       "[0, 2, 4]"
      ]
     },
     "execution_count": 1,
     "metadata": {},
     "output_type": "execute_result"
    }
   ],
   "source": [
    "# Simple example\n",
    "x = range(6)\n",
    "evens = [n for n in x if n % 2 == 0]\n",
    "evens"
   ]
  },
  {
   "cell_type": "code",
   "execution_count": 2,
   "id": "7027a0e3-3683-4b76-9493-4759a27f20cb",
   "metadata": {},
   "outputs": [
    {
     "data": {
      "text/plain": [
       "[0, 1, 4, 9, 16, 25]"
      ]
     },
     "execution_count": 2,
     "metadata": {},
     "output_type": "execute_result"
    }
   ],
   "source": [
    "# Square numbers\n",
    "square_nums = [n * n for n in x]\n",
    "square_nums"
   ]
  },
  {
   "cell_type": "markdown",
   "id": "c56f54d6-ec22-4cc6-b0c8-5e208e4f0e02",
   "metadata": {},
   "source": [
    "### Built-in Modules"
   ]
  },
  {
   "cell_type": "markdown",
   "id": "1c0888ed-07b2-4c5e-accd-b3fdb762c463",
   "metadata": {},
   "source": [
    "#### Random Module"
   ]
  },
  {
   "cell_type": "code",
   "execution_count": 3,
   "id": "c617f1ae-6522-4f9a-8fe2-776505788f7c",
   "metadata": {},
   "outputs": [],
   "source": [
    "import random"
   ]
  },
  {
   "cell_type": "code",
   "execution_count": 4,
   "id": "35d5e836-b1c8-4d6d-8a67-5bda3721dcba",
   "metadata": {},
   "outputs": [
    {
     "name": "stdout",
     "output_type": "stream",
     "text": [
      "17\n"
     ]
    }
   ],
   "source": [
    "new_randint = random.randint\n",
    "print(new_randint(2, 70))"
   ]
  },
  {
   "cell_type": "code",
   "execution_count": 5,
   "id": "fa073b13-e58f-4e91-bbac-2021f62c0df4",
   "metadata": {},
   "outputs": [],
   "source": [
    "from random import randint # Only the randint function is imported from random module"
   ]
  },
  {
   "cell_type": "code",
   "execution_count": 6,
   "id": "c437547f-767d-46b6-a695-4d4ed2d69499",
   "metadata": {},
   "outputs": [
    {
     "name": "stdout",
     "output_type": "stream",
     "text": [
      "55\n"
     ]
    }
   ],
   "source": [
    "print(randint(2, 70))"
   ]
  },
  {
   "cell_type": "code",
   "execution_count": 7,
   "id": "6053d840-c1f6-4018-af18-eaeb1b0f9068",
   "metadata": {},
   "outputs": [],
   "source": [
    "from random import randint, choice"
   ]
  },
  {
   "cell_type": "code",
   "execution_count": 8,
   "id": "85eb2fa4-45ac-4302-9e2f-69fc2f635efe",
   "metadata": {},
   "outputs": [
    {
     "name": "stdout",
     "output_type": "stream",
     "text": [
      "41\n"
     ]
    }
   ],
   "source": [
    "print(randint(2, 80))"
   ]
  },
  {
   "cell_type": "code",
   "execution_count": 9,
   "id": "7265a9c8-3566-401b-8711-4dc46a2c66fa",
   "metadata": {},
   "outputs": [
    {
     "name": "stdout",
     "output_type": "stream",
     "text": [
      "56\n"
     ]
    }
   ],
   "source": [
    "print(choice([23, 45,78, 12, 56, 79]))"
   ]
  },
  {
   "cell_type": "markdown",
   "id": "069ce04d-93c9-4838-97dd-c915e3dc4552",
   "metadata": {},
   "source": [
    "### Math module"
   ]
  },
  {
   "cell_type": "code",
   "execution_count": 10,
   "id": "876dc5fc-86c8-4712-b206-e3255a9ce125",
   "metadata": {},
   "outputs": [],
   "source": [
    "import math"
   ]
  },
  {
   "cell_type": "code",
   "execution_count": 11,
   "id": "778d25fb-cf04-44bc-a283-2844ebb1422c",
   "metadata": {},
   "outputs": [
    {
     "data": {
      "text/plain": [
       "3.0"
      ]
     },
     "execution_count": 11,
     "metadata": {},
     "output_type": "execute_result"
    }
   ],
   "source": [
    "math.sqrt(9)"
   ]
  },
  {
   "cell_type": "code",
   "execution_count": 15,
   "id": "f8938d58-2e6f-4128-b0ff-7d4e8cb4fdc5",
   "metadata": {},
   "outputs": [
    {
     "data": {
      "text/plain": [
       "2.718281828459045"
      ]
     },
     "execution_count": 15,
     "metadata": {},
     "output_type": "execute_result"
    }
   ],
   "source": [
    "# You can find the values of math constants\n",
    "math.e"
   ]
  },
  {
   "cell_type": "code",
   "execution_count": 16,
   "id": "e666fdad-b5b6-473e-9584-7d074c3d5b3f",
   "metadata": {},
   "outputs": [
    {
     "data": {
      "text/plain": [
       "3.141592653589793"
      ]
     },
     "execution_count": 16,
     "metadata": {},
     "output_type": "execute_result"
    }
   ],
   "source": [
    "math.pi"
   ]
  },
  {
   "cell_type": "code",
   "execution_count": 17,
   "id": "b18456e7-08b1-485d-bc51-8523a6c16e8e",
   "metadata": {},
   "outputs": [
    {
     "data": {
      "text/plain": [
       "1.361356816555577"
      ]
     },
     "execution_count": 17,
     "metadata": {},
     "output_type": "execute_result"
    }
   ],
   "source": [
    "# Math conversions\n",
    "math.radians(78)"
   ]
  },
  {
   "cell_type": "code",
   "execution_count": 19,
   "id": "cbd11b74-3323-4f3b-80d7-7a0faf69507f",
   "metadata": {},
   "outputs": [],
   "source": [
    "# import specifice \n",
    "\n",
    "from math import sin"
   ]
  },
  {
   "cell_type": "code",
   "execution_count": 20,
   "id": "03cf0bc3-bf16-4603-af71-f7a85bcd905a",
   "metadata": {},
   "outputs": [
    {
     "data": {
      "text/plain": [
       "0.8939966636005579"
      ]
     },
     "execution_count": 20,
     "metadata": {},
     "output_type": "execute_result"
    }
   ],
   "source": [
    "sin(90)"
   ]
  },
  {
   "cell_type": "markdown",
   "id": "d8d84cd1-50b4-496d-b915-0a0acebf1a3f",
   "metadata": {},
   "source": [
    "### Statistics Module"
   ]
  },
  {
   "cell_type": "code",
   "execution_count": 21,
   "id": "2da35532-7efa-47fb-9abc-b424d86944fe",
   "metadata": {},
   "outputs": [],
   "source": [
    "import statistics"
   ]
  },
  {
   "cell_type": "code",
   "execution_count": 22,
   "id": "6ea50ebe-f7a9-4d09-805f-7f97edbdbf0b",
   "metadata": {},
   "outputs": [
    {
     "data": {
      "text/plain": [
       "60.333333333333336"
      ]
     },
     "execution_count": 22,
     "metadata": {},
     "output_type": "execute_result"
    }
   ],
   "source": [
    "statistics.mean([70, 80, 67, 87, 34,24])"
   ]
  },
  {
   "cell_type": "code",
   "execution_count": 23,
   "id": "6a19764d-ff11-4c9a-8e68-348f52673c50",
   "metadata": {},
   "outputs": [
    {
     "data": {
      "text/plain": [
       "34"
      ]
     },
     "execution_count": 23,
     "metadata": {},
     "output_type": "execute_result"
    }
   ],
   "source": [
    "statistics.median([22, 34, 56, 32, 2, 78, 90])"
   ]
  },
  {
   "cell_type": "code",
   "execution_count": 24,
   "id": "03e64452-3648-452e-bca6-a1268aaeee8c",
   "metadata": {},
   "outputs": [
    {
     "data": {
      "text/plain": [
       "54"
      ]
     },
     "execution_count": 24,
     "metadata": {},
     "output_type": "execute_result"
    }
   ],
   "source": [
    "statistics.mode([54, 54, 67, 34, 78, 90])"
   ]
  },
  {
   "cell_type": "code",
   "execution_count": 25,
   "id": "2cafd63f-7fd9-44bb-b5ad-e35f75e77fec",
   "metadata": {},
   "outputs": [
    {
     "data": {
      "text/plain": [
       "19.9047732968753"
      ]
     },
     "execution_count": 25,
     "metadata": {},
     "output_type": "execute_result"
    }
   ],
   "source": [
    "statistics.stdev([56, 23, 56, 46, 78])"
   ]
  },
  {
   "cell_type": "markdown",
   "id": "d4d2c1ff-89fe-41b6-a738-06167165d0e4",
   "metadata": {},
   "source": [
    "### Errors"
   ]
  },
  {
   "cell_type": "code",
   "execution_count": 26,
   "id": "f29892eb-ab26-41e7-b24e-c7723e295b21",
   "metadata": {},
   "outputs": [
    {
     "ename": "SyntaxError",
     "evalue": "Missing parentheses in call to 'print'. Did you mean print(...)? (2306730185.py, line 1)",
     "output_type": "error",
     "traceback": [
      "\u001b[0;36m  Cell \u001b[0;32mIn[26], line 1\u001b[0;36m\u001b[0m\n\u001b[0;31m    print \"Py\"\u001b[0m\n\u001b[0m    ^\u001b[0m\n\u001b[0;31mSyntaxError\u001b[0m\u001b[0;31m:\u001b[0m Missing parentheses in call to 'print'. Did you mean print(...)?\n"
     ]
    }
   ],
   "source": [
    "print \"Py\""
   ]
  },
  {
   "cell_type": "code",
   "execution_count": 27,
   "id": "27e122c1-c83a-4e7e-83b2-903e058235e5",
   "metadata": {},
   "outputs": [
    {
     "ename": "IndexError",
     "evalue": "list index out of range",
     "output_type": "error",
     "traceback": [
      "\u001b[0;31m---------------------------------------------------------------------------\u001b[0m",
      "\u001b[0;31mIndexError\u001b[0m                                Traceback (most recent call last)",
      "Cell \u001b[0;32mIn[27], line 3\u001b[0m\n\u001b[1;32m      1\u001b[0m x \u001b[38;5;241m=\u001b[39m [\u001b[38;5;241m4\u001b[39m, \u001b[38;5;241m7\u001b[39m, \u001b[38;5;241m8\u001b[39m]\n\u001b[0;32m----> 3\u001b[0m \u001b[43mx\u001b[49m\u001b[43m[\u001b[49m\u001b[38;5;241;43m4\u001b[39;49m\u001b[43m]\u001b[49m\n",
      "\u001b[0;31mIndexError\u001b[0m: list index out of range"
     ]
    }
   ],
   "source": [
    "x = [4, 7, 8]\n",
    "\n",
    "x[4]"
   ]
  },
  {
   "cell_type": "code",
   "execution_count": 30,
   "id": "5bf72796-d1c6-4f91-9c75-34d2e30290bd",
   "metadata": {},
   "outputs": [
    {
     "ename": "ModuleNotFoundError",
     "evalue": "No module named 'stringa'",
     "output_type": "error",
     "traceback": [
      "\u001b[0;31m---------------------------------------------------------------------------\u001b[0m",
      "\u001b[0;31mModuleNotFoundError\u001b[0m                       Traceback (most recent call last)",
      "Cell \u001b[0;32mIn[30], line 1\u001b[0m\n\u001b[0;32m----> 1\u001b[0m \u001b[38;5;28;01mimport\u001b[39;00m \u001b[38;5;21;01mstringa\u001b[39;00m\n",
      "\u001b[0;31mModuleNotFoundError\u001b[0m: No module named 'stringa'"
     ]
    }
   ],
   "source": [
    "import stringa"
   ]
  },
  {
   "cell_type": "code",
   "execution_count": 29,
   "id": "50cc248d-25f4-4d93-9024-93e69b5df3da",
   "metadata": {},
   "outputs": [
    {
     "ename": "TypeError",
     "evalue": "can only concatenate str (not \"int\") to str",
     "output_type": "error",
     "traceback": [
      "\u001b[0;31m---------------------------------------------------------------------------\u001b[0m",
      "\u001b[0;31mTypeError\u001b[0m                                 Traceback (most recent call last)",
      "Cell \u001b[0;32mIn[29], line 1\u001b[0m\n\u001b[0;32m----> 1\u001b[0m \u001b[38;5;124;43m'\u001b[39;49m\u001b[38;5;124;43m3\u001b[39;49m\u001b[38;5;124;43m'\u001b[39;49m\u001b[43m \u001b[49m\u001b[38;5;241;43m+\u001b[39;49m\u001b[43m \u001b[49m\u001b[38;5;241;43m5\u001b[39;49m\n",
      "\u001b[0;31mTypeError\u001b[0m: can only concatenate str (not \"int\") to str"
     ]
    }
   ],
   "source": [
    "'3' + 5"
   ]
  },
  {
   "cell_type": "code",
   "execution_count": 31,
   "id": "c6f2f534-6626-435f-9fbb-93ff8059400d",
   "metadata": {},
   "outputs": [
    {
     "ename": "NameError",
     "evalue": "name 'home' is not defined",
     "output_type": "error",
     "traceback": [
      "\u001b[0;31m---------------------------------------------------------------------------\u001b[0m",
      "\u001b[0;31mNameError\u001b[0m                                 Traceback (most recent call last)",
      "Cell \u001b[0;32mIn[31], line 1\u001b[0m\n\u001b[0;32m----> 1\u001b[0m \u001b[43mhome\u001b[49m\n",
      "\u001b[0;31mNameError\u001b[0m: name 'home' is not defined"
     ]
    }
   ],
   "source": [
    "home"
   ]
  },
  {
   "cell_type": "code",
   "execution_count": 32,
   "id": "188753e7-e987-422b-a68b-45f19df4f03b",
   "metadata": {},
   "outputs": [
    {
     "ename": "ZeroDivisionError",
     "evalue": "division by zero",
     "output_type": "error",
     "traceback": [
      "\u001b[0;31m---------------------------------------------------------------------------\u001b[0m",
      "\u001b[0;31mZeroDivisionError\u001b[0m                         Traceback (most recent call last)",
      "Cell \u001b[0;32mIn[32], line 1\u001b[0m\n\u001b[0;32m----> 1\u001b[0m \u001b[38;5;241;43m34\u001b[39;49m\u001b[43m \u001b[49m\u001b[38;5;241;43m/\u001b[39;49m\u001b[43m \u001b[49m\u001b[38;5;241;43m0\u001b[39;49m\n",
      "\u001b[0;31mZeroDivisionError\u001b[0m: division by zero"
     ]
    }
   ],
   "source": [
    "34 / 0"
   ]
  },
  {
   "cell_type": "markdown",
   "id": "9b73c90e-ff92-4c07-be7d-5f90e5cde483",
   "metadata": {},
   "source": [
    "### Exceptions Handling"
   ]
  },
  {
   "cell_type": "code",
   "execution_count": 34,
   "id": "4b522aed-0259-4db4-9919-24c6aaaa7b92",
   "metadata": {},
   "outputs": [
    {
     "name": "stdout",
     "output_type": "stream",
     "text": [
      "There is an error here!\n",
      "The operation is completed!\n"
     ]
    }
   ],
   "source": [
    "try:\n",
    "    x = 4\n",
    "    y = 0\n",
    "    print(x / y)\n",
    "\n",
    "except:\n",
    "    print(\"There is an error here!\")\n",
    "\n",
    "print(\"The operation is completed!\")"
   ]
  },
  {
   "cell_type": "code",
   "execution_count": 35,
   "id": "4f1d85f1-0e9a-47a7-94a2-b36e484b190d",
   "metadata": {},
   "outputs": [
    {
     "name": "stdout",
     "output_type": "stream",
     "text": [
      "1.3333333333333333\n",
      "The operation is completed!\n"
     ]
    }
   ],
   "source": [
    "try:\n",
    "    x = 4\n",
    "    y = 3\n",
    "    print(x / y)\n",
    "\n",
    "except:\n",
    "    print(\"There is an error here!\")\n",
    "\n",
    "print(\"The operation is completed!\")"
   ]
  },
  {
   "cell_type": "code",
   "execution_count": 36,
   "id": "283c4ef1-5532-400c-814f-e9e61cb55085",
   "metadata": {},
   "outputs": [
    {
     "name": "stdout",
     "output_type": "stream",
     "text": [
      "You can't divide a number with zero\n",
      "The operation is completed!\n"
     ]
    }
   ],
   "source": [
    "try:\n",
    "    x = 4\n",
    "    y = 0\n",
    "    print(x / y)\n",
    "\n",
    "except TypeError:\n",
    "    print(\"There is an error here!\")\n",
    "\n",
    "except ZeroDivisionError:\n",
    "    print(\"You can't divide a number with zero\")\n",
    "\n",
    "print(\"The operation is completed!\")"
   ]
  },
  {
   "cell_type": "code",
   "execution_count": 41,
   "id": "c5dc8e7f-8c57-4f98-bf72-c8a5a2751c2a",
   "metadata": {},
   "outputs": [
    {
     "name": "stdout",
     "output_type": "stream",
     "text": [
      "\n",
      "Please wait a moment while I gather a list of all available modules...\n",
      "\n"
     ]
    },
    {
     "name": "stderr",
     "output_type": "stream",
     "text": [
      "/home/makori/.config/jupyterlab-desktop/jlab_server/lib/python3.12/pkgutil.py:78: UserWarning: The numpy.array_api submodule is still experimental. See NEP 47.\n",
      "  __import__(info.name)\n"
     ]
    },
    {
     "name": "stdout",
     "output_type": "stream",
     "text": [
      "IPython             asyncio             ipympl              resource\n",
      "PIL                 atexit              ipython_genutils    rfc3339_validator\n",
      "__future__          attr                ipywidgets          rfc3986_validator\n",
      "__hello__           attrs               isoduration         rlcompleter\n",
      "__phello__          audioop             itertools           rpds\n",
      "_abc                babel               jedi                runpy\n",
      "_aix_support        base64              jinja2              sched\n",
      "_argon2_cffi_bindings bdb                 json                scipy\n",
      "_ast                binascii            json5               secrets\n",
      "_asyncio            bisect              jsonpatch           select\n",
      "_bisect             bleach              jsonpointer         selectors\n",
      "_blake2             boltons             jsonschema          send2trash\n",
      "_brotli             brotli              jsonschema_specifications setuptools\n",
      "_bz2                bs4                 jupyter             shelve\n",
      "_cffi_backend       builtins            jupyter_client      shlex\n",
      "_codecs             bz2                 jupyter_core        shutil\n",
      "_codecs_cn          cProfile            jupyter_events      signal\n",
      "_codecs_hk          cached_property     jupyter_lsp         site\n",
      "_codecs_iso2022     calendar            jupyter_server      six\n",
      "_codecs_jp          certifi             jupyter_server_terminals smtplib\n",
      "_codecs_kr          cffi                jupyterlab          sndhdr\n",
      "_codecs_tw          cgi                 jupyterlab_pygments sniffio\n",
      "_collections        cgitb               jupyterlab_server   socket\n",
      "_collections_abc    charset_normalizer  jupyterlab_widgets  socketserver\n",
      "_compat_pickle      chunk               keyword             socks\n",
      "_compression        cmath               kiwisolver          sockshandler\n",
      "_contextvars        cmd                 lib2to3             soupsieve\n",
      "_crypt              code                libmambapy          spwd\n",
      "_csv                codecs              linecache           sqlite3\n",
      "_ctypes             codeop              locale              sre_compile\n",
      "_ctypes_test        collections         logging             sre_constants\n",
      "_curses             colorama            lzma                sre_parse\n",
      "_curses_panel       colorsys            mailbox             ssl\n",
      "_datetime           comm                mailcap             stack_data\n",
      "_decimal            compileall          markupsafe          stat\n",
      "_distutils_hack     concurrent          marshal             statistics\n",
      "_elementtree        conda               math                string\n",
      "_functools          conda_env           matplotlib          stringprep\n",
      "_hashlib            conda_libmamba_solver matplotlib_inline   struct\n",
      "_heapq              conda_package_handling menuinst            subprocess\n",
      "_imp                conda_package_streaming mimetypes           sunau\n",
      "_io                 configparser        mistune             symtable\n",
      "_json               contextlib          mmap                sys\n",
      "_locale             contextvars         modulefinder        sysconfig\n",
      "_lsprof             contourpy           multiprocessing     syslog\n",
      "_lzma               copy                munkres             tabnanny\n",
      "_markupbase         copyreg             nbclient            tarfile\n",
      "_md5                crypt               nbconvert           telnetlib\n",
      "_multibytecodec     csv                 nbformat            tempfile\n",
      "_multiprocessing    ctypes              nest_asyncio        terminado\n",
      "_opcode             curses              netrc               termios\n",
      "_operator           cycler              nis                 test\n",
      "_osx_support        dataclasses         nntplib             test_pycosat\n",
      "_pickle             datetime            notebook_shim       textwrap\n",
      "_posixshmem         dateutil            ntpath              this\n",
      "_posixsubprocess    dbm                 nturl2path          threading\n",
      "_py_abc             debugpy             numbers             time\n",
      "_pydatetime         decimal             numpy               timeit\n",
      "_pydecimal          decorator           opcode              tinycss2\n",
      "_pyio               defusedxml          operator            tkinter\n",
      "_pylong             difflib             optparse            token\n",
      "_queue              dis                 os                  tokenize\n",
      "_random             distro              ossaudiodev         tomli\n",
      "_ruamel_yaml        doctest             overrides           tomllib\n",
      "_sha1               email               packaging           tornado\n",
      "_sha2               encodings           pandas              tqdm\n",
      "_sha3               ensurepip           pandocfilters       trace\n",
      "_signal             entrypoints         parso               traceback\n",
      "_sitebuiltins       enum                pathlib             tracemalloc\n",
      "_socket             errno               pdb                 traitlets\n",
      "_sqlite3            exceptiongroup      pexpect             truststore\n",
      "_sre                executing           pickle              tty\n",
      "_ssl                fastjsonschema      pickleshare         turtle\n",
      "_stat               faulthandler        pickletools         turtledemo\n",
      "_statistics         fcntl               pip                 types\n",
      "_string             filecmp             pipes               typing\n",
      "_strptime           fileinput           pkg_resources       typing_extensions\n",
      "_struct             fnmatch             pkgutil             typing_utils\n",
      "_symtable           fontTools           pkgutil_resolve_name tzdata\n",
      "_sysconfigdata__linux_x86_64-linux-gnu fqdn                platform            unicodedata\n",
      "_sysconfigdata_x86_64_conda_cos6_linux_gnu fractions           platformdirs        unittest\n",
      "_sysconfigdata_x86_64_conda_linux_gnu frozendict          plistlib            uri_template\n",
      "_testbuffer         ftplib              pluggy              urllib\n",
      "_testcapi           functools           poplib              urllib3\n",
      "_testclinic         gc                  posix               uu\n",
      "_testimportmultiple genericpath         posixpath           uuid\n",
      "_testinternalcapi   getopt              pprint              venv\n",
      "_testmultiphase     getpass             profile             warnings\n",
      "_testsinglephase    gettext             prometheus_client   wave\n",
      "_thread             glob                prompt_toolkit      wcwidth\n",
      "_threading_local    graphlib            pstats              weakref\n",
      "_tkinter            grp                 psutil              webbrowser\n",
      "_tokenize           gzip                pty                 webcolors\n",
      "_tracemalloc        h11                 ptyprocess          webencodings\n",
      "_typing             h2                  pure_eval           websocket\n",
      "_uuid               hashlib             pwd                 wheel\n",
      "_warnings           heapq               py_compile          widgetsnbextension\n",
      "_weakref            hmac                pyclbr              wsgiref\n",
      "_weakrefset         hpack               pycosat             xdrlib\n",
      "_xxinterpchannels   html                pycparser           xml\n",
      "_xxsubinterpreters  http                pydoc               xmlrpc\n",
      "_xxtestfuzz         httpcore            pydoc_data          xxlimited\n",
      "_yaml               httpx               pyexpat             xxlimited_35\n",
      "_zoneinfo           hyperframe          pygments            xxsubtype\n",
      "abc                 idlelib             pylab               yaml\n",
      "aifc                idna                pyparsing           zipapp\n",
      "antigravity         imaplib             pythonjsonlogger    zipfile\n",
      "anyio               imghdr              pytz                zipimport\n",
      "archspec            importlib           queue               zipp\n",
      "argon2              importlib_metadata  quopri              zlib\n",
      "argparse            importlib_resources random              zmq\n",
      "array               inspect             re                  zoneinfo\n",
      "arrow               io                  readline            zstandard\n",
      "ast                 ipaddress           referencing         \n",
      "asttokens           ipykernel           reprlib             \n",
      "async_lru           ipykernel_launcher  requests            \n",
      "\n",
      "Enter any module name to get more help.  Or, type \"modules spam\" to search\n",
      "for modules whose name or summary contain the string \"spam\".\n",
      "\n"
     ]
    }
   ],
   "source": [
    "help('modules')"
   ]
  },
  {
   "cell_type": "code",
   "execution_count": null,
   "id": "ab0d9a19-478b-4683-9217-9dc614f8f036",
   "metadata": {},
   "outputs": [],
   "source": []
  }
 ],
 "metadata": {
  "kernelspec": {
   "display_name": "Python 3 (ipykernel)",
   "language": "python",
   "name": "python3"
  },
  "language_info": {
   "codemirror_mode": {
    "name": "ipython",
    "version": 3
   },
   "file_extension": ".py",
   "mimetype": "text/x-python",
   "name": "python",
   "nbconvert_exporter": "python",
   "pygments_lexer": "ipython3",
   "version": "3.12.3"
  }
 },
 "nbformat": 4,
 "nbformat_minor": 5
}
