{
 "cells": [
  {
   "cell_type": "markdown",
   "id": "fab8e3e9-ea0a-4788-a416-e21e57970fb6",
   "metadata": {},
   "source": [
    "## Advanced Foundations\n",
    "\n",
    "### List Comprehension"
   ]
  },
  {
   "cell_type": "code",
   "execution_count": 1,
   "id": "4001bd01-8d5f-4254-8f68-53dda6dd7231",
   "metadata": {},
   "outputs": [
    {
     "data": {
      "text/plain": [
       "[0, 2, 4]"
      ]
     },
     "execution_count": 1,
     "metadata": {},
     "output_type": "execute_result"
    }
   ],
   "source": [
    "# Simple example\n",
    "x = range(6)\n",
    "evens = [n for n in x if n % 2 == 0]\n",
    "evens"
   ]
  },
  {
   "cell_type": "code",
   "execution_count": 2,
   "id": "7027a0e3-3683-4b76-9493-4759a27f20cb",
   "metadata": {},
   "outputs": [
    {
     "data": {
      "text/plain": [
       "[0, 1, 4, 9, 16, 25]"
      ]
     },
     "execution_count": 2,
     "metadata": {},
     "output_type": "execute_result"
    }
   ],
   "source": [
    "# Square numbers\n",
    "square_nums = [n * n for n in x]\n",
    "square_nums"
   ]
  },
  {
   "cell_type": "markdown",
   "id": "c56f54d6-ec22-4cc6-b0c8-5e208e4f0e02",
   "metadata": {},
   "source": [
    "### Built-in Modules"
   ]
  },
  {
   "cell_type": "markdown",
   "id": "1c0888ed-07b2-4c5e-accd-b3fdb762c463",
   "metadata": {},
   "source": [
    "#### Random Module"
   ]
  },
  {
   "cell_type": "code",
   "execution_count": 3,
   "id": "c617f1ae-6522-4f9a-8fe2-776505788f7c",
   "metadata": {},
   "outputs": [],
   "source": [
    "import random"
   ]
  },
  {
   "cell_type": "code",
   "execution_count": 4,
   "id": "35d5e836-b1c8-4d6d-8a67-5bda3721dcba",
   "metadata": {},
   "outputs": [
    {
     "name": "stdout",
     "output_type": "stream",
     "text": [
      "17\n"
     ]
    }
   ],
   "source": [
    "new_randint = random.randint\n",
    "print(new_randint(2, 70))"
   ]
  },
  {
   "cell_type": "code",
   "execution_count": 5,
   "id": "fa073b13-e58f-4e91-bbac-2021f62c0df4",
   "metadata": {},
   "outputs": [],
   "source": [
    "from random import randint # Only the randint function is imported from random module"
   ]
  },
  {
   "cell_type": "code",
   "execution_count": 6,
   "id": "c437547f-767d-46b6-a695-4d4ed2d69499",
   "metadata": {},
   "outputs": [
    {
     "name": "stdout",
     "output_type": "stream",
     "text": [
      "55\n"
     ]
    }
   ],
   "source": [
    "print(randint(2, 70))"
   ]
  },
  {
   "cell_type": "code",
   "execution_count": 7,
   "id": "6053d840-c1f6-4018-af18-eaeb1b0f9068",
   "metadata": {},
   "outputs": [],
   "source": [
    "from random import randint, choice"
   ]
  },
  {
   "cell_type": "code",
   "execution_count": 8,
   "id": "85eb2fa4-45ac-4302-9e2f-69fc2f635efe",
   "metadata": {},
   "outputs": [
    {
     "name": "stdout",
     "output_type": "stream",
     "text": [
      "41\n"
     ]
    }
   ],
   "source": [
    "print(randint(2, 80))"
   ]
  },
  {
   "cell_type": "code",
   "execution_count": 9,
   "id": "7265a9c8-3566-401b-8711-4dc46a2c66fa",
   "metadata": {},
   "outputs": [
    {
     "name": "stdout",
     "output_type": "stream",
     "text": [
      "56\n"
     ]
    }
   ],
   "source": [
    "print(choice([23, 45,78, 12, 56, 79]))"
   ]
  },
  {
   "cell_type": "code",
   "execution_count": null,
   "id": "e7ed261f-4aa2-42ca-b212-7fa0f3ae3ddf",
   "metadata": {},
   "outputs": [],
   "source": []
  }
 ],
 "metadata": {
  "kernelspec": {
   "display_name": "Python 3 (ipykernel)",
   "language": "python",
   "name": "python3"
  },
  "language_info": {
   "codemirror_mode": {
    "name": "ipython",
    "version": 3
   },
   "file_extension": ".py",
   "mimetype": "text/x-python",
   "name": "python",
   "nbconvert_exporter": "python",
   "pygments_lexer": "ipython3",
   "version": "3.12.3"
  }
 },
 "nbformat": 4,
 "nbformat_minor": 5
}
