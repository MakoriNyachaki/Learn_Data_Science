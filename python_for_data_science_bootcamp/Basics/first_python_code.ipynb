{
 "cells": [
  {
   "cell_type": "markdown",
   "id": "1dbaa89e-60fd-4fcc-af25-0e65205c54a0",
   "metadata": {},
   "source": [
    "# Using print() to display messages"
   ]
  },
  {
   "cell_type": "code",
   "execution_count": 2,
   "id": "40ed26e9-1bc9-4e4a-8d6d-f63fa4f329af",
   "metadata": {},
   "outputs": [
    {
     "name": "stdout",
     "output_type": "stream",
     "text": [
      "Hi, welcome to the Python Data Anaysis and Visualization course.\n"
     ]
    }
   ],
   "source": [
    "print(\"Hi, welcome to the Python Data Anaysis and Visualization course.\")"
   ]
  },
  {
   "cell_type": "code",
   "execution_count": 3,
   "id": "aa68b473-d7fe-443a-9b77-d516c1468819",
   "metadata": {},
   "outputs": [
    {
     "name": "stdout",
     "output_type": "stream",
     "text": [
      "Message1\n",
      "Message2\n",
      "message3\n"
     ]
    }
   ],
   "source": [
    "print(\"Message1\")\n",
    "print(\"Message2\")\n",
    "print(\"message3\")"
   ]
  },
  {
   "cell_type": "code",
   "execution_count": 4,
   "id": "cab44dda-7e32-4c2d-ab79-be394833f76e",
   "metadata": {},
   "outputs": [],
   "source": [
    "x = \"Hi, Makori\""
   ]
  },
  {
   "cell_type": "code",
   "execution_count": 5,
   "id": "721a5bf8-bd4c-4cc6-8680-b18b4e417d6d",
   "metadata": {},
   "outputs": [
    {
     "name": "stdout",
     "output_type": "stream",
     "text": [
      "Hi, Makori\n"
     ]
    }
   ],
   "source": [
    "print(x)"
   ]
  },
  {
   "cell_type": "markdown",
   "id": "b16dd11b-659b-4123-bcca-3fdff01cef43",
   "metadata": {},
   "source": [
    "# Importing Libraries"
   ]
  },
  {
   "cell_type": "code",
   "execution_count": 7,
   "id": "761d56dc-fb3f-4970-a443-3e13fe683ae2",
   "metadata": {},
   "outputs": [],
   "source": [
    "import numpy as np\n",
    "import matplotlib.pyplot as plt\n",
    "import pandas as pd"
   ]
  },
  {
   "cell_type": "markdown",
   "id": "b2a06d88-1a4d-47bd-9e80-0ed10ecb34c9",
   "metadata": {},
   "source": [
    "using imported libraries to create an array"
   ]
  },
  {
   "cell_type": "code",
   "execution_count": 8,
   "id": "d83dfc08-cc14-45d6-89e5-3a52d6a84755",
   "metadata": {},
   "outputs": [
    {
     "data": {
      "text/plain": [
       "array([0, 1, 2, 3, 4, 5, 6])"
      ]
     },
     "execution_count": 8,
     "metadata": {},
     "output_type": "execute_result"
    }
   ],
   "source": [
    "np.arange(7) # An array with seven elements"
   ]
  }
 ],
 "metadata": {
  "kernelspec": {
   "display_name": "Python 3 (ipykernel)",
   "language": "python",
   "name": "python3"
  },
  "language_info": {
   "codemirror_mode": {
    "name": "ipython",
    "version": 3
   },
   "file_extension": ".py",
   "mimetype": "text/x-python",
   "name": "python",
   "nbconvert_exporter": "python",
   "pygments_lexer": "ipython3",
   "version": "3.12.3"
  }
 },
 "nbformat": 4,
 "nbformat_minor": 5
}
