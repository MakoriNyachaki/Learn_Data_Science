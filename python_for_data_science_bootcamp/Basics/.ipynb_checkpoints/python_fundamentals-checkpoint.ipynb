{
 "cells": [
  {
   "cell_type": "markdown",
   "id": "ee90206d-0742-487f-9d8d-4223c4139ffb",
   "metadata": {},
   "source": [
    "## Python Fundamentals\n",
    "\n",
    "### Comparing Values"
   ]
  },
  {
   "cell_type": "code",
   "execution_count": 1,
   "id": "c01d8d52-75bb-45ab-9296-d26a83783e76",
   "metadata": {},
   "outputs": [],
   "source": [
    "# Comparing two variables\n",
    "x = 10\n",
    "y = 20"
   ]
  },
  {
   "cell_type": "code",
   "execution_count": 2,
   "id": "a4d624df-63a7-482f-b0f5-66de454e0ae8",
   "metadata": {},
   "outputs": [
    {
     "data": {
      "text/plain": [
       "False"
      ]
     },
     "execution_count": 2,
     "metadata": {},
     "output_type": "execute_result"
    }
   ],
   "source": [
    "x > y # False"
   ]
  },
  {
   "cell_type": "code",
   "execution_count": 3,
   "id": "36c7933a-9dc1-4bd3-9434-5426063f9e92",
   "metadata": {},
   "outputs": [
    {
     "data": {
      "text/plain": [
       "True"
      ]
     },
     "execution_count": 3,
     "metadata": {},
     "output_type": "execute_result"
    }
   ],
   "source": [
    "x < y # True"
   ]
  },
  {
   "cell_type": "code",
   "execution_count": 4,
   "id": "9f4883d0-a07c-411e-b563-8f30e1fe2c75",
   "metadata": {},
   "outputs": [
    {
     "data": {
      "text/plain": [
       "False"
      ]
     },
     "execution_count": 4,
     "metadata": {},
     "output_type": "execute_result"
    }
   ],
   "source": [
    "x >= y # False"
   ]
  },
  {
   "cell_type": "code",
   "execution_count": 5,
   "id": "ed82ae13-32d2-481c-8bc9-cf6087324f5f",
   "metadata": {},
   "outputs": [
    {
     "data": {
      "text/plain": [
       "True"
      ]
     },
     "execution_count": 5,
     "metadata": {},
     "output_type": "execute_result"
    }
   ],
   "source": [
    "x <= y # True"
   ]
  },
  {
   "cell_type": "code",
   "execution_count": 6,
   "id": "826940d2-9f13-4de9-9a9f-d4047317cf80",
   "metadata": {},
   "outputs": [
    {
     "data": {
      "text/plain": [
       "True"
      ]
     },
     "execution_count": 6,
     "metadata": {},
     "output_type": "execute_result"
    }
   ],
   "source": [
    "x != y # True"
   ]
  },
  {
   "cell_type": "code",
   "execution_count": 7,
   "id": "1f2b1cbf-a2f4-49c1-b531-4c062e33a013",
   "metadata": {},
   "outputs": [
    {
     "data": {
      "text/plain": [
       "False"
      ]
     },
     "execution_count": 7,
     "metadata": {},
     "output_type": "execute_result"
    }
   ],
   "source": [
    "x == y # False"
   ]
  },
  {
   "cell_type": "code",
   "execution_count": 8,
   "id": "4e124159-9df3-4556-b47f-1d24be880296",
   "metadata": {},
   "outputs": [
    {
     "data": {
      "text/plain": [
       "bool"
      ]
     },
     "execution_count": 8,
     "metadata": {},
     "output_type": "execute_result"
    }
   ],
   "source": [
    "# Displaying type of any data in python\n",
    "type(x == y)"
   ]
  },
  {
   "cell_type": "code",
   "execution_count": 10,
   "id": "f3c083b9-f73e-4b46-8192-b1ede0b780a3",
   "metadata": {},
   "outputs": [
    {
     "name": "stdout",
     "output_type": "stream",
     "text": [
      "<class 'bool'>\n"
     ]
    }
   ],
   "source": [
    "print(type(x == y))"
   ]
  },
  {
   "cell_type": "code",
   "execution_count": 11,
   "id": "b672ac20-c9c8-4fb9-b68d-8650289ddc48",
   "metadata": {},
   "outputs": [
    {
     "data": {
      "text/plain": [
       "True"
      ]
     },
     "execution_count": 11,
     "metadata": {},
     "output_type": "execute_result"
    }
   ],
   "source": [
    "'c' == 'c'"
   ]
  },
  {
   "cell_type": "code",
   "execution_count": 12,
   "id": "e3659317-2f58-448c-adbe-4c8ed6c57cdc",
   "metadata": {},
   "outputs": [
    {
     "data": {
      "text/plain": [
       "False"
      ]
     },
     "execution_count": 12,
     "metadata": {},
     "output_type": "execute_result"
    }
   ],
   "source": [
    "'c' == 'd'"
   ]
  },
  {
   "cell_type": "code",
   "execution_count": 13,
   "id": "8068c03d-0fff-41fd-86d8-8532a36e50b7",
   "metadata": {},
   "outputs": [
    {
     "data": {
      "text/plain": [
       "False"
      ]
     },
     "execution_count": 13,
     "metadata": {},
     "output_type": "execute_result"
    }
   ],
   "source": [
    "'c'>'d'"
   ]
  },
  {
   "cell_type": "code",
   "execution_count": 14,
   "id": "b48eeadf-dd36-40bd-b63c-8767b05c4b3e",
   "metadata": {},
   "outputs": [
    {
     "data": {
      "text/plain": [
       "True"
      ]
     },
     "execution_count": 14,
     "metadata": {},
     "output_type": "execute_result"
    }
   ],
   "source": [
    "'c' < 'd'"
   ]
  },
  {
   "cell_type": "code",
   "execution_count": 16,
   "id": "9a0b6308-868f-4e00-82f5-b9055263f6e3",
   "metadata": {},
   "outputs": [
    {
     "data": {
      "text/plain": [
       "bool"
      ]
     },
     "execution_count": 16,
     "metadata": {},
     "output_type": "execute_result"
    }
   ],
   "source": [
    "type('d'<'f')"
   ]
  },
  {
   "cell_type": "markdown",
   "id": "67ee474f-84d3-48e3-a7df-6659665112e9",
   "metadata": {},
   "source": [
    "### Logical Operators"
   ]
  },
  {
   "cell_type": "code",
   "execution_count": 17,
   "id": "893e8ef7-956f-4aa1-b4c6-f53db85fc2f7",
   "metadata": {},
   "outputs": [
    {
     "data": {
      "text/plain": [
       "False"
      ]
     },
     "execution_count": 17,
     "metadata": {},
     "output_type": "execute_result"
    }
   ],
   "source": [
    "3 < 2 and 10 >= 12 # False"
   ]
  },
  {
   "cell_type": "code",
   "execution_count": 18,
   "id": "2d5c9b1a-7c98-43cb-a018-f9955255006d",
   "metadata": {},
   "outputs": [
    {
     "data": {
      "text/plain": [
       "True"
      ]
     },
     "execution_count": 18,
     "metadata": {},
     "output_type": "execute_result"
    }
   ],
   "source": [
    "3>2 and 10 <= 12 # True"
   ]
  },
  {
   "cell_type": "code",
   "execution_count": 19,
   "id": "91a8f174-a1e6-4bce-a72d-be567262f885",
   "metadata": {},
   "outputs": [
    {
     "data": {
      "text/plain": [
       "True"
      ]
     },
     "execution_count": 19,
     "metadata": {},
     "output_type": "execute_result"
    }
   ],
   "source": [
    "True and True"
   ]
  },
  {
   "cell_type": "code",
   "execution_count": 20,
   "id": "6bcd47ac-26f2-4133-be41-d12429290ede",
   "metadata": {},
   "outputs": [
    {
     "data": {
      "text/plain": [
       "False"
      ]
     },
     "execution_count": 20,
     "metadata": {},
     "output_type": "execute_result"
    }
   ],
   "source": [
    "True and False"
   ]
  },
  {
   "cell_type": "code",
   "execution_count": 21,
   "id": "8321b717-9aea-4ca8-afa6-aa339436cba6",
   "metadata": {},
   "outputs": [
    {
     "data": {
      "text/plain": [
       "True"
      ]
     },
     "execution_count": 21,
     "metadata": {},
     "output_type": "execute_result"
    }
   ],
   "source": [
    "3 < 2 or 10 <= 12 # True"
   ]
  },
  {
   "cell_type": "code",
   "execution_count": 22,
   "id": "b1d51c73-907b-4f93-9690-06807b5a06a1",
   "metadata": {},
   "outputs": [
    {
     "data": {
      "text/plain": [
       "False"
      ]
     },
     "execution_count": 22,
     "metadata": {},
     "output_type": "execute_result"
    }
   ],
   "source": [
    "not True"
   ]
  },
  {
   "cell_type": "code",
   "execution_count": 23,
   "id": "f0d37144-ee64-4c37-98d2-bf0b8cbc4885",
   "metadata": {},
   "outputs": [
    {
     "data": {
      "text/plain": [
       "True"
      ]
     },
     "execution_count": 23,
     "metadata": {},
     "output_type": "execute_result"
    }
   ],
   "source": [
    "not False and True"
   ]
  },
  {
   "cell_type": "code",
   "execution_count": 25,
   "id": "e5fbca80-b6dc-46ba-901e-ae4b4766091d",
   "metadata": {},
   "outputs": [
    {
     "data": {
      "text/plain": [
       "False"
      ]
     },
     "execution_count": 25,
     "metadata": {},
     "output_type": "execute_result"
    }
   ],
   "source": [
    "not True or not True"
   ]
  },
  {
   "cell_type": "markdown",
   "id": "6fa4a677-7893-4ea0-a4c0-ee787ad7a3c2",
   "metadata": {},
   "source": [
    "### Conditional Statements"
   ]
  },
  {
   "cell_type": "code",
   "execution_count": 26,
   "id": "86adf577-4259-4ff6-872a-37fbb5e85b38",
   "metadata": {},
   "outputs": [
    {
     "name": "stdout",
     "output_type": "stream",
     "text": [
      "This is True\n"
     ]
    }
   ],
   "source": [
    "# Example of a conditional statement\n",
    "if True:\n",
    "    print(\"This is True\")"
   ]
  },
  {
   "cell_type": "code",
   "execution_count": 29,
   "id": "bf8b4c7a-9861-4b24-b33f-649f9e43d626",
   "metadata": {},
   "outputs": [
    {
     "name": "stdout",
     "output_type": "stream",
     "text": [
      "This statement will be executed!\n",
      "Thanks for finishing the process!\n"
     ]
    }
   ],
   "source": [
    "x = 15\n",
    "if x >= 10:\n",
    "    print(\"This statement will be executed!\")\n",
    "\n",
    "print(\"Thanks for finishing the process!\")"
   ]
  },
  {
   "cell_type": "code",
   "execution_count": 31,
   "id": "0897670d-b21c-4726-8a05-51c6d86e5faa",
   "metadata": {},
   "outputs": [
    {
     "name": "stdout",
     "output_type": "stream",
     "text": [
      "Sorry, you've failed\n",
      "Thanks for joining us!\n"
     ]
    }
   ],
   "source": [
    "x = 20\n",
    "\n",
    "if x >= 30:\n",
    "    print(\"You\\'ve succeeded!\")\n",
    "\n",
    "if x < 30:\n",
    "    print(\"Sorry, you\\'ve failed\")\n",
    "\n",
    "print(\"Thanks for joining us!\")"
   ]
  },
  {
   "cell_type": "code",
   "execution_count": 33,
   "id": "8f171683-abce-4d62-a71f-f1ed0ad21bc4",
   "metadata": {},
   "outputs": [
    {
     "name": "stdout",
     "output_type": "stream",
     "text": [
      "Sorry, you've failed\n",
      "Thanks for joining us!\n"
     ]
    }
   ],
   "source": [
    "x = 20\n",
    "\n",
    "if x >= 30:\n",
    "    print(\"You\\'ve succeeded!\")\n",
    "\n",
    "else:\n",
    "    print(\"Sorry, you\\'ve failed\")\n",
    "\n",
    "print(\"Thanks for joining us!\")"
   ]
  },
  {
   "cell_type": "code",
   "execution_count": 34,
   "id": "2c4b95d3-203e-496d-86bf-eadc70ee77d3",
   "metadata": {},
   "outputs": [
    {
     "name": "stdout",
     "output_type": "stream",
     "text": [
      "Sorry, you've failed\n",
      "Thanks for joining us!\n"
     ]
    }
   ],
   "source": [
    "x = 20\n",
    "\n",
    "if x >= 30:\n",
    "    print(\"You\\'ve succeeded!\")\n",
    "\n",
    "elif x == 30:\n",
    "    print(\"You\\'re in the middle!\")\n",
    "\n",
    "else:\n",
    "    print(\"Sorry, you\\'ve failed\")\n",
    "\n",
    "print(\"Thanks for joining us!\")"
   ]
  },
  {
   "cell_type": "markdown",
   "id": "ea48effc-8839-4285-902f-81d46871ed83",
   "metadata": {},
   "source": [
    "## Loops"
   ]
  },
  {
   "cell_type": "markdown",
   "id": "5751b56c-03f6-4fd7-a8bf-5348ffd92816",
   "metadata": {},
   "source": [
    "### While Loop"
   ]
  },
  {
   "cell_type": "code",
   "execution_count": 36,
   "id": "6903c342-996c-4e4b-bfa6-787059c8e03f",
   "metadata": {},
   "outputs": [
    {
     "name": "stdout",
     "output_type": "stream",
     "text": [
      "1\n",
      "2\n",
      "3\n",
      "4\n",
      "5\n",
      "6\n"
     ]
    }
   ],
   "source": [
    "# Creating the while loop\n",
    "\n",
    "x = 1\n",
    "while x < 7:\n",
    "    print(x)\n",
    "    x += 1"
   ]
  },
  {
   "cell_type": "markdown",
   "id": "827591e8-fa4c-4e56-8736-9f39ff861a66",
   "metadata": {},
   "source": [
    "### for loop"
   ]
  },
  {
   "cell_type": "code",
   "execution_count": 37,
   "id": "39eee553-b135-4ff9-ba79-384483ece97c",
   "metadata": {},
   "outputs": [
    {
     "name": "stdout",
     "output_type": "stream",
     "text": [
      "P\n",
      "r\n",
      "o\n",
      "g\n",
      "r\n",
      "a\n",
      "m\n",
      "m\n",
      "i\n",
      "n\n",
      "g\n"
     ]
    }
   ],
   "source": [
    "# Creating the for loop\n",
    "for chars in \"Programming\":\n",
    "    print(chars)"
   ]
  },
  {
   "cell_type": "code",
   "execution_count": 38,
   "id": "7783e82c-62ba-4ec6-9881-2b1b204bdda3",
   "metadata": {},
   "outputs": [
    {
     "name": "stdout",
     "output_type": "stream",
     "text": [
      "Programming\n",
      "Programming\n",
      "Programming\n",
      "Programming\n",
      "Programming\n"
     ]
    }
   ],
   "source": [
    "# Can print elements in a range\n",
    "for i in range(5):\n",
    "    print(\"Programming\")"
   ]
  },
  {
   "cell_type": "code",
   "execution_count": 42,
   "id": "9ea15cdb-3819-4760-b5d9-d16caa0ba256",
   "metadata": {},
   "outputs": [
    {
     "name": "stdout",
     "output_type": "stream",
     "text": [
      "10\n",
      "12\n",
      "14\n",
      "16\n",
      "18\n",
      "20\n",
      "22\n",
      "24\n",
      "26\n",
      "28\n"
     ]
    }
   ],
   "source": [
    "# range syntax: Can be; range(element) or range(start, stop) or range(start, stop, step)\n",
    "for i in range(5, 15):\n",
    "     print(i + i)"
   ]
  },
  {
   "cell_type": "code",
   "execution_count": 44,
   "id": "b233dd4a-a1b9-49c1-a626-1a59349ef5fe",
   "metadata": {},
   "outputs": [
    {
     "name": "stdout",
     "output_type": "stream",
     "text": [
      "0\n",
      "10\n",
      "20\n",
      "30\n",
      "40\n",
      "50\n",
      "60\n",
      "70\n",
      "80\n",
      "90\n"
     ]
    }
   ],
   "source": [
    "# range(start, stop, step)\n",
    "for i in range(0, 100, 10):\n",
    "    print(i)"
   ]
  },
  {
   "cell_type": "code",
   "execution_count": 45,
   "id": "47b26f64-ea52-401e-9908-abf1632b3aa3",
   "metadata": {},
   "outputs": [
    {
     "name": "stdout",
     "output_type": "stream",
     "text": [
      "10\n",
      "20\n",
      "30\n",
      "40\n",
      "50\n"
     ]
    }
   ],
   "source": [
    "# You can use the for loop to iterate over items in a list or tuple items\n",
    "x = [10, 20, 30, 40, 50]\n",
    "\n",
    "for i in x:\n",
    "    print(i)"
   ]
  },
  {
   "cell_type": "markdown",
   "id": "31d02385-d638-4a86-9fe7-5c2bdbad1699",
   "metadata": {},
   "source": [
    "## Functions\n",
    "\n",
    "### Built-in Functions"
   ]
  },
  {
   "cell_type": "code",
   "execution_count": 46,
   "id": "ec5f0278-29ee-4b33-a802-229cc9210c9d",
   "metadata": {},
   "outputs": [
    {
     "data": {
      "text/plain": [
       "10"
      ]
     },
     "execution_count": 46,
     "metadata": {},
     "output_type": "execute_result"
    }
   ],
   "source": [
    "# They are in built Python functions. For example:\n",
    "abs(10)"
   ]
  },
  {
   "cell_type": "code",
   "execution_count": 47,
   "id": "2612cbba-e8cc-4456-ab82-0bb7006d9ff9",
   "metadata": {},
   "outputs": [
    {
     "data": {
      "text/plain": [
       "12.43"
      ]
     },
     "execution_count": 47,
     "metadata": {},
     "output_type": "execute_result"
    }
   ],
   "source": [
    "abs(-12.43)"
   ]
  },
  {
   "cell_type": "code",
   "execution_count": 48,
   "id": "942d7f25-a49a-4565-b145-09c95a119c1b",
   "metadata": {},
   "outputs": [
    {
     "data": {
      "text/plain": [
       "True"
      ]
     },
     "execution_count": 48,
     "metadata": {},
     "output_type": "execute_result"
    }
   ],
   "source": [
    "bool(1)"
   ]
  },
  {
   "cell_type": "code",
   "execution_count": 49,
   "id": "c75beb06-a0c9-4353-8c0a-0c20f8a1ddb8",
   "metadata": {},
   "outputs": [
    {
     "data": {
      "text/plain": [
       "False"
      ]
     },
     "execution_count": 49,
     "metadata": {},
     "output_type": "execute_result"
    }
   ],
   "source": [
    "bool(0)"
   ]
  },
  {
   "cell_type": "code",
   "execution_count": 50,
   "id": "d5c804e9-3bec-4ad4-8af0-576d0ad806dd",
   "metadata": {},
   "outputs": [
    {
     "data": {
      "text/plain": [
       "(3+4j)"
      ]
     },
     "execution_count": 50,
     "metadata": {},
     "output_type": "execute_result"
    }
   ],
   "source": [
    "complex(3, 4)"
   ]
  },
  {
   "cell_type": "code",
   "execution_count": 51,
   "id": "18d44e6e-ef80-48c7-a6ac-3649a6798873",
   "metadata": {},
   "outputs": [],
   "source": [
    "x = dict(name = \"Andrew\", age = 45)"
   ]
  },
  {
   "cell_type": "code",
   "execution_count": 52,
   "id": "c9d68b9b-7d07-4a66-9ed5-1f98c37b37d9",
   "metadata": {},
   "outputs": [
    {
     "data": {
      "text/plain": [
       "{'name': 'Andrew', 'age': 45}"
      ]
     },
     "execution_count": 52,
     "metadata": {},
     "output_type": "execute_result"
    }
   ],
   "source": [
    "x"
   ]
  },
  {
   "cell_type": "code",
   "execution_count": 53,
   "id": "fdfe3e76-85a5-4c0c-b838-41f3494fb357",
   "metadata": {},
   "outputs": [
    {
     "data": {
      "text/plain": [
       "['__class__',\n",
       " '__class_getitem__',\n",
       " '__contains__',\n",
       " '__delattr__',\n",
       " '__delitem__',\n",
       " '__dir__',\n",
       " '__doc__',\n",
       " '__eq__',\n",
       " '__format__',\n",
       " '__ge__',\n",
       " '__getattribute__',\n",
       " '__getitem__',\n",
       " '__getstate__',\n",
       " '__gt__',\n",
       " '__hash__',\n",
       " '__init__',\n",
       " '__init_subclass__',\n",
       " '__ior__',\n",
       " '__iter__',\n",
       " '__le__',\n",
       " '__len__',\n",
       " '__lt__',\n",
       " '__ne__',\n",
       " '__new__',\n",
       " '__or__',\n",
       " '__reduce__',\n",
       " '__reduce_ex__',\n",
       " '__repr__',\n",
       " '__reversed__',\n",
       " '__ror__',\n",
       " '__setattr__',\n",
       " '__setitem__',\n",
       " '__sizeof__',\n",
       " '__str__',\n",
       " '__subclasshook__',\n",
       " 'clear',\n",
       " 'copy',\n",
       " 'fromkeys',\n",
       " 'get',\n",
       " 'items',\n",
       " 'keys',\n",
       " 'pop',\n",
       " 'popitem',\n",
       " 'setdefault',\n",
       " 'update',\n",
       " 'values']"
      ]
     },
     "execution_count": 53,
     "metadata": {},
     "output_type": "execute_result"
    }
   ],
   "source": [
    "dir(x)"
   ]
  },
  {
   "cell_type": "markdown",
   "id": "e57a5a0c-3daf-4a9a-9e83-bf49b605a174",
   "metadata": {},
   "source": [
    "### User Defined Functions"
   ]
  },
  {
   "cell_type": "code",
   "execution_count": 54,
   "id": "8b89e99c-b8eb-4fad-ab87-a7ffa8c68081",
   "metadata": {},
   "outputs": [],
   "source": [
    "# We are to create a functionto add two numbers\n",
    "def add(x, y):\n",
    "    \"Return the sum of x and y to the call\"\n",
    "    return(x + y)"
   ]
  },
  {
   "cell_type": "code",
   "execution_count": 55,
   "id": "ecf8cd45-a5a1-49fc-a736-236a825559e9",
   "metadata": {},
   "outputs": [
    {
     "data": {
      "text/plain": [
       "44"
      ]
     },
     "execution_count": 55,
     "metadata": {},
     "output_type": "execute_result"
    }
   ],
   "source": [
    "add(20, 24)"
   ]
  },
  {
   "cell_type": "code",
   "execution_count": 56,
   "id": "a80bf963-1db4-4c44-9f80-10c22be72853",
   "metadata": {},
   "outputs": [
    {
     "name": "stdout",
     "output_type": "stream",
     "text": [
      "Help on function add in module __main__:\n",
      "\n",
      "add(x, y)\n",
      "    Return the sum of x and y to the call\n",
      "\n"
     ]
    }
   ],
   "source": [
    "help(add)"
   ]
  },
  {
   "cell_type": "markdown",
   "id": "05d494cd-1a4f-412e-9f78-c1bcc8adbc2d",
   "metadata": {},
   "source": [
    "#### Variable Scope\n",
    "\n",
    "We have local and global variables as illustrated below:"
   ]
  },
  {
   "cell_type": "code",
   "execution_count": 59,
   "id": "adddfb42-9468-4dc1-ac6a-4ecbca66a415",
   "metadata": {},
   "outputs": [],
   "source": [
    "x = 20  # Global variable\n",
    "def new():\n",
    "    x = 5 # Local variable\n",
    "    return(x)"
   ]
  },
  {
   "cell_type": "code",
   "execution_count": 62,
   "id": "bed07fc3-0d4e-4ded-84b3-37a64e597fc8",
   "metadata": {},
   "outputs": [
    {
     "data": {
      "text/plain": [
       "5"
      ]
     },
     "execution_count": 62,
     "metadata": {},
     "output_type": "execute_result"
    }
   ],
   "source": [
    "new() # Prints the local variable"
   ]
  },
  {
   "cell_type": "code",
   "execution_count": 63,
   "id": "44988efb-9091-4548-b48a-9db0f45cb0d0",
   "metadata": {},
   "outputs": [
    {
     "name": "stdout",
     "output_type": "stream",
     "text": [
      "20\n"
     ]
    }
   ],
   "source": [
    "print(x) # Prints the global variable"
   ]
  },
  {
   "cell_type": "code",
   "execution_count": null,
   "id": "d0300a85-3387-4d08-8323-4209e74b5e46",
   "metadata": {},
   "outputs": [],
   "source": []
  }
 ],
 "metadata": {
  "kernelspec": {
   "display_name": "Python 3 (ipykernel)",
   "language": "python",
   "name": "python3"
  },
  "language_info": {
   "codemirror_mode": {
    "name": "ipython",
    "version": 3
   },
   "file_extension": ".py",
   "mimetype": "text/x-python",
   "name": "python",
   "nbconvert_exporter": "python",
   "pygments_lexer": "ipython3",
   "version": "3.12.3"
  }
 },
 "nbformat": 4,
 "nbformat_minor": 5
}
