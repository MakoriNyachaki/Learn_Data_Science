{
 "cells": [
  {
   "cell_type": "markdown",
   "id": "ee90206d-0742-487f-9d8d-4223c4139ffb",
   "metadata": {},
   "source": [
    "## Python Fundamentals\n",
    "\n",
    "### Comparing Values"
   ]
  },
  {
   "cell_type": "code",
   "execution_count": 1,
   "id": "c01d8d52-75bb-45ab-9296-d26a83783e76",
   "metadata": {},
   "outputs": [],
   "source": [
    "# Comparing two variables\n",
    "x = 10\n",
    "y = 20"
   ]
  },
  {
   "cell_type": "code",
   "execution_count": 2,
   "id": "a4d624df-63a7-482f-b0f5-66de454e0ae8",
   "metadata": {},
   "outputs": [
    {
     "data": {
      "text/plain": [
       "False"
      ]
     },
     "execution_count": 2,
     "metadata": {},
     "output_type": "execute_result"
    }
   ],
   "source": [
    "x > y # False"
   ]
  },
  {
   "cell_type": "code",
   "execution_count": 3,
   "id": "36c7933a-9dc1-4bd3-9434-5426063f9e92",
   "metadata": {},
   "outputs": [
    {
     "data": {
      "text/plain": [
       "True"
      ]
     },
     "execution_count": 3,
     "metadata": {},
     "output_type": "execute_result"
    }
   ],
   "source": [
    "x < y # True"
   ]
  },
  {
   "cell_type": "code",
   "execution_count": 4,
   "id": "9f4883d0-a07c-411e-b563-8f30e1fe2c75",
   "metadata": {},
   "outputs": [
    {
     "data": {
      "text/plain": [
       "False"
      ]
     },
     "execution_count": 4,
     "metadata": {},
     "output_type": "execute_result"
    }
   ],
   "source": [
    "x >= y # False"
   ]
  },
  {
   "cell_type": "code",
   "execution_count": 5,
   "id": "ed82ae13-32d2-481c-8bc9-cf6087324f5f",
   "metadata": {},
   "outputs": [
    {
     "data": {
      "text/plain": [
       "True"
      ]
     },
     "execution_count": 5,
     "metadata": {},
     "output_type": "execute_result"
    }
   ],
   "source": [
    "x <= y # True"
   ]
  },
  {
   "cell_type": "code",
   "execution_count": null,
   "id": "826940d2-9f13-4de9-9a9f-d4047317cf80",
   "metadata": {},
   "outputs": [],
   "source": []
  }
 ],
 "metadata": {
  "kernelspec": {
   "display_name": "Python 3 (ipykernel)",
   "language": "python",
   "name": "python3"
  },
  "language_info": {
   "codemirror_mode": {
    "name": "ipython",
    "version": 3
   },
   "file_extension": ".py",
   "mimetype": "text/x-python",
   "name": "python",
   "nbconvert_exporter": "python",
   "pygments_lexer": "ipython3",
   "version": "3.12.3"
  }
 },
 "nbformat": 4,
 "nbformat_minor": 5
}
