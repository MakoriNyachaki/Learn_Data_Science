{
 "cells": [
  {
   "cell_type": "markdown",
   "id": "fab8e3e9-ea0a-4788-a416-e21e57970fb6",
   "metadata": {},
   "source": [
    "## Advanced Foundations\n",
    "\n",
    "### List Comprehension"
   ]
  },
  {
   "cell_type": "code",
   "execution_count": 1,
   "id": "4001bd01-8d5f-4254-8f68-53dda6dd7231",
   "metadata": {},
   "outputs": [
    {
     "data": {
      "text/plain": [
       "[0, 2, 4]"
      ]
     },
     "execution_count": 1,
     "metadata": {},
     "output_type": "execute_result"
    }
   ],
   "source": [
    "# Simple example\n",
    "x = range(6)\n",
    "evens = [n for n in x if n % 2 == 0]\n",
    "evens"
   ]
  },
  {
   "cell_type": "code",
   "execution_count": 2,
   "id": "7027a0e3-3683-4b76-9493-4759a27f20cb",
   "metadata": {},
   "outputs": [
    {
     "data": {
      "text/plain": [
       "[0, 1, 4, 9, 16, 25]"
      ]
     },
     "execution_count": 2,
     "metadata": {},
     "output_type": "execute_result"
    }
   ],
   "source": [
    "# Square numbers\n",
    "square_nums = [n * n for n in x]\n",
    "square_nums"
   ]
  },
  {
   "cell_type": "code",
   "execution_count": null,
   "id": "e10f328c-a475-4aac-b61d-d23db91e204a",
   "metadata": {},
   "outputs": [],
   "source": []
  }
 ],
 "metadata": {
  "kernelspec": {
   "display_name": "Python 3 (ipykernel)",
   "language": "python",
   "name": "python3"
  },
  "language_info": {
   "codemirror_mode": {
    "name": "ipython",
    "version": 3
   },
   "file_extension": ".py",
   "mimetype": "text/x-python",
   "name": "python",
   "nbconvert_exporter": "python",
   "pygments_lexer": "ipython3",
   "version": "3.12.3"
  }
 },
 "nbformat": 4,
 "nbformat_minor": 5
}
