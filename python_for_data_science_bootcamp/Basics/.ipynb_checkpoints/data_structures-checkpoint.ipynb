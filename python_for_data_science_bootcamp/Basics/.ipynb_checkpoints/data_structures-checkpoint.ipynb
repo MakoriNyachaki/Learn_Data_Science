{
 "cells": [
  {
   "cell_type": "markdown",
   "id": "6a458849-d3fd-4518-8594-e844d855e750",
   "metadata": {},
   "source": [
    "## Data Structures"
   ]
  },
  {
   "cell_type": "markdown",
   "id": "c6ab3518-5124-466b-b27a-d2866b0ce161",
   "metadata": {},
   "source": [
    "### List"
   ]
  },
  {
   "cell_type": "code",
   "execution_count": 1,
   "id": "16abf461-f3f1-4114-89c5-d7c2bdb81735",
   "metadata": {},
   "outputs": [
    {
     "name": "stdout",
     "output_type": "stream",
     "text": [
      "[]\n",
      "[]\n"
     ]
    }
   ],
   "source": [
    "# List creation\n",
    "new_list = []\n",
    "new_list1 = list()\n",
    "print(new_list)\n",
    "print(new_list1)"
   ]
  },
  {
   "cell_type": "code",
   "execution_count": 3,
   "id": "25886441-50ad-481f-806d-f0dcec9a6955",
   "metadata": {},
   "outputs": [
    {
     "data": {
      "text/plain": [
       "list"
      ]
     },
     "execution_count": 3,
     "metadata": {},
     "output_type": "execute_result"
    }
   ],
   "source": [
    "# Type of list\n",
    "type(new_list)\n",
    "type(new_list1)"
   ]
  },
  {
   "cell_type": "code",
   "execution_count": 4,
   "id": "fc1400fe-b01d-4e45-9c21-d6d6983bbec1",
   "metadata": {},
   "outputs": [
    {
     "name": "stdout",
     "output_type": "stream",
     "text": [
      "<class 'list'>\n",
      "<class 'list'>\n"
     ]
    }
   ],
   "source": [
    "# List of numbers\n",
    "nums = [1, 2, 3, 4, 5]\n",
    "nums1 = list((10, 20, 30, 40))\n",
    "print(type(nums))\n",
    "print(type(nums1))"
   ]
  },
  {
   "cell_type": "code",
   "execution_count": 6,
   "id": "e3966ada-b041-4ded-8a80-6bb6a2f30399",
   "metadata": {},
   "outputs": [
    {
     "name": "stdout",
     "output_type": "stream",
     "text": [
      "['red', 'yellow', 'black', 'green']\n"
     ]
    }
   ],
   "source": [
    "# List of strings\n",
    "# Colors\n",
    "colors = ['red', 'yellow', 'black', 'green']\n",
    "print(colors)"
   ]
  },
  {
   "cell_type": "code",
   "execution_count": 7,
   "id": "22810528-59ad-492c-bac9-771eeaf2db79",
   "metadata": {},
   "outputs": [
    {
     "name": "stdout",
     "output_type": "stream",
     "text": [
      "Mixed list:  [1, 'Blue', 'Andrew', 3.5]\n"
     ]
    }
   ],
   "source": [
    "# Multiple types in a list\n",
    "mixed_lst = [1, 'Blue', 'Andrew', 3.5]\n",
    "print(\"Mixed list: \", mixed_lst)"
   ]
  },
  {
   "cell_type": "code",
   "execution_count": 9,
   "id": "d8a8bbc6-1bc4-490f-8b35-b88c3bea358d",
   "metadata": {},
   "outputs": [
    {
     "name": "stdout",
     "output_type": "stream",
     "text": [
      "[1, [2, 3, 4], 5, 6, [8.4, 9.8]]\n"
     ]
    }
   ],
   "source": [
    "# List in a list\n",
    "nums = [1, [2, 3, 4], 5, 6, [8.4, 9.8]]\n",
    "print(nums)"
   ]
  },
  {
   "cell_type": "code",
   "execution_count": 16,
   "id": "e6220887-c167-4c1d-ac21-631a0277f7df",
   "metadata": {},
   "outputs": [
    {
     "name": "stdout",
     "output_type": "stream",
     "text": [
      "5\n"
     ]
    }
   ],
   "source": [
    "# Accessing list items with index number\n",
    "print(nums[2])"
   ]
  },
  {
   "cell_type": "code",
   "execution_count": 17,
   "id": "e008c079-3b0d-4b84-99c2-6ef8da1b0c5c",
   "metadata": {},
   "outputs": [
    {
     "name": "stdout",
     "output_type": "stream",
     "text": [
      "1\n",
      "[2, 3, 4]\n",
      "5\n",
      "6\n",
      "[8.4, 9.8]\n"
     ]
    }
   ],
   "source": [
    "# Accessing each list element\n",
    "for i in nums:\n",
    "    print(i)"
   ]
  },
  {
   "cell_type": "code",
   "execution_count": 18,
   "id": "3f2ecb4d-8fcc-437d-9474-2902c4d08e12",
   "metadata": {},
   "outputs": [
    {
     "data": {
      "text/plain": [
       "5"
      ]
     },
     "execution_count": 18,
     "metadata": {},
     "output_type": "execute_result"
    }
   ],
   "source": [
    "# We use the len() function to determine the length of a list\n",
    "len(nums)"
   ]
  },
  {
   "cell_type": "code",
   "execution_count": 19,
   "id": "ef590ed4-30a4-46f6-8a70-0db682744f30",
   "metadata": {},
   "outputs": [
    {
     "data": {
      "text/plain": [
       "[1, [2, 3, 4], 5]"
      ]
     },
     "execution_count": 19,
     "metadata": {},
     "output_type": "execute_result"
    }
   ],
   "source": [
    "# Obtaining the first 3 elements\n",
    "nums[0:3] # The upper bound is excluded from the output"
   ]
  },
  {
   "cell_type": "code",
   "execution_count": 23,
   "id": "a53fead7-042f-4162-bc02-bb7a8d41ea29",
   "metadata": {},
   "outputs": [
    {
     "data": {
      "text/plain": [
       "[1, [2, 3, 4], 5]"
      ]
     },
     "execution_count": 23,
     "metadata": {},
     "output_type": "execute_result"
    }
   ],
   "source": [
    "# You can also use the following to obtain a range of list elemets\n",
    "nums[:3]"
   ]
  },
  {
   "cell_type": "code",
   "execution_count": 24,
   "id": "1c5d2501-0d04-4fbb-8b93-b355c99fc028",
   "metadata": {},
   "outputs": [
    {
     "data": {
      "text/plain": [
       "[6, [8.4, 9.8]]"
      ]
     },
     "execution_count": 24,
     "metadata": {},
     "output_type": "execute_result"
    }
   ],
   "source": [
    "# You can also use the following to obtain a range of list elemets\n",
    "nums[3:] # Lower bound included in the output"
   ]
  },
  {
   "cell_type": "code",
   "execution_count": 25,
   "id": "5badff73-4837-4181-871f-c6a6ea0395c7",
   "metadata": {},
   "outputs": [
    {
     "data": {
      "text/plain": [
       "[8.4, 9.8]"
      ]
     },
     "execution_count": 25,
     "metadata": {},
     "output_type": "execute_result"
    }
   ],
   "source": [
    "# We use negative indexing to obtain the elements from the last element in the list. Beginning -1\n",
    "nums[-1] # Output: [8.4, 9.8]"
   ]
  },
  {
   "cell_type": "code",
   "execution_count": 28,
   "id": "b8fb7033-6dd1-431b-89ce-a9058fb44602",
   "metadata": {},
   "outputs": [
    {
     "data": {
      "text/plain": [
       "[8.4, 9.8]"
      ]
     },
     "execution_count": 28,
     "metadata": {},
     "output_type": "execute_result"
    }
   ],
   "source": [
    "nums[-1]"
   ]
  },
  {
   "cell_type": "code",
   "execution_count": null,
   "id": "6b1a7a54-866a-4d5a-8226-bbaed76d87d1",
   "metadata": {},
   "outputs": [],
   "source": []
  }
 ],
 "metadata": {
  "kernelspec": {
   "display_name": "Python 3 (ipykernel)",
   "language": "python",
   "name": "python3"
  },
  "language_info": {
   "codemirror_mode": {
    "name": "ipython",
    "version": 3
   },
   "file_extension": ".py",
   "mimetype": "text/x-python",
   "name": "python",
   "nbconvert_exporter": "python",
   "pygments_lexer": "ipython3",
   "version": "3.12.3"
  }
 },
 "nbformat": 4,
 "nbformat_minor": 5
}
