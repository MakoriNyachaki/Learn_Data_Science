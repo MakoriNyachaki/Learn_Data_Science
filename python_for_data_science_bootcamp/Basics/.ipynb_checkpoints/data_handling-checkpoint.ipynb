{
 "cells": [
  {
   "cell_type": "markdown",
   "id": "ce852fe6-313d-4e05-bb94-9e9fc5624267",
   "metadata": {},
   "source": [
    "## Data Handling\n",
    "\n",
    "### io Module"
   ]
  },
  {
   "cell_type": "code",
   "execution_count": 1,
   "id": "ff83a2da-8871-4430-95ec-9099fd0b31c6",
   "metadata": {},
   "outputs": [],
   "source": [
    "import io"
   ]
  },
  {
   "cell_type": "code",
   "execution_count": 11,
   "id": "f2b3247e-7c55-4acc-92cf-d1815433780a",
   "metadata": {},
   "outputs": [],
   "source": [
    "new_txt = \"Learning Python and Data Analysis.\""
   ]
  },
  {
   "cell_type": "code",
   "execution_count": 5,
   "id": "1b23f2d1-9cff-4abc-9e01-66af97c3246f",
   "metadata": {},
   "outputs": [],
   "source": [
    "# Store the string like a file in memory\n",
    "file = io.StringIO(new_txt)"
   ]
  },
  {
   "cell_type": "code",
   "execution_count": 6,
   "id": "8d55a6a1-7190-46c9-b5ba-cb35ae0a9b16",
   "metadata": {},
   "outputs": [
    {
     "data": {
      "text/plain": [
       "'Learning Python and Data Analysis'"
      ]
     },
     "execution_count": 6,
     "metadata": {},
     "output_type": "execute_result"
    }
   ],
   "source": [
    "# Read the string like variable in memory\n",
    "file.read()"
   ]
  },
  {
   "cell_type": "code",
   "execution_count": 16,
   "id": "9e4301b8-0fb7-4770-8067-7b35a311a27d",
   "metadata": {},
   "outputs": [
    {
     "data": {
      "text/plain": [
       "34"
      ]
     },
     "execution_count": 16,
     "metadata": {},
     "output_type": "execute_result"
    }
   ],
   "source": [
    "file.write(\" Master the Data Handling concepts\")"
   ]
  },
  {
   "cell_type": "code",
   "execution_count": 17,
   "id": "fc2492c6-a317-4a5e-b054-833b69570e42",
   "metadata": {},
   "outputs": [
    {
     "data": {
      "text/plain": [
       "0"
      ]
     },
     "execution_count": 17,
     "metadata": {},
     "output_type": "execute_result"
    }
   ],
   "source": [
    "file.seek(0)"
   ]
  },
  {
   "cell_type": "code",
   "execution_count": 18,
   "id": "7a6d3a9d-d642-45fd-ad1d-245b4080d74f",
   "metadata": {},
   "outputs": [
    {
     "data": {
      "text/plain": [
       "'Learning Python and Data AnalysisMaster the Data Handling concepts Master the Data Handling concepts Master the Data Handling concepts Master the Data Handling concepts'"
      ]
     },
     "execution_count": 18,
     "metadata": {},
     "output_type": "execute_result"
    }
   ],
   "source": [
    "file.read()"
   ]
  },
  {
   "cell_type": "markdown",
   "id": "d9048c50-cd96-4c1a-9fcf-d6197ad52823",
   "metadata": {},
   "source": [
    "### OS Module"
   ]
  },
  {
   "cell_type": "code",
   "execution_count": 19,
   "id": "06139656-ffc5-4f92-b62c-44860cba8ae5",
   "metadata": {},
   "outputs": [],
   "source": [
    "import os"
   ]
  },
  {
   "cell_type": "code",
   "execution_count": 20,
   "id": "52fde7df-1e49-43d8-96d5-9e6a58c9f55b",
   "metadata": {},
   "outputs": [
    {
     "data": {
      "text/plain": [
       "'/home/makori/Desktop/Learn_Data_Science/python_for_data_science_bootcamp/Basics'"
      ]
     },
     "execution_count": 20,
     "metadata": {},
     "output_type": "execute_result"
    }
   ],
   "source": [
    "os.getcwd() # Get current working directory"
   ]
  },
  {
   "cell_type": "code",
   "execution_count": 21,
   "id": "27550729-9d75-42c8-b452-ce355b8624ec",
   "metadata": {},
   "outputs": [
    {
     "data": {
      "text/plain": [
       "['data_handling.ipynb',\n",
       " 'python_fundamentals.ipynb',\n",
       " 'variable_and_types.ipynb',\n",
       " 'first_python_code.ipynb',\n",
       " 'Readme.MD',\n",
       " 'advanced_foundations.ipynb',\n",
       " 'introduction.ipynb',\n",
       " '.ipynb_checkpoints',\n",
       " 'python_oop.ipynb',\n",
       " 'data_structures.ipynb',\n",
       " '.jupyter']"
      ]
     },
     "execution_count": 21,
     "metadata": {},
     "output_type": "execute_result"
    }
   ],
   "source": [
    "os.listdir() # list of the cwd file"
   ]
  },
  {
   "cell_type": "code",
   "execution_count": null,
   "id": "82c4e45c-00bb-4685-bc69-13803580e46a",
   "metadata": {},
   "outputs": [],
   "source": []
  }
 ],
 "metadata": {
  "kernelspec": {
   "display_name": "Python 3 (ipykernel)",
   "language": "python",
   "name": "python3"
  },
  "language_info": {
   "codemirror_mode": {
    "name": "ipython",
    "version": 3
   },
   "file_extension": ".py",
   "mimetype": "text/x-python",
   "name": "python",
   "nbconvert_exporter": "python",
   "pygments_lexer": "ipython3",
   "version": "3.12.3"
  }
 },
 "nbformat": 4,
 "nbformat_minor": 5
}
