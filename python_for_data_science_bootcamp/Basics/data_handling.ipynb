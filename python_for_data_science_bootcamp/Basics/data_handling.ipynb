{
 "cells": [
  {
   "cell_type": "markdown",
   "id": "ce852fe6-313d-4e05-bb94-9e9fc5624267",
   "metadata": {},
   "source": [
    "## Data Handling\n",
    "\n",
    "### io Module"
   ]
  },
  {
   "cell_type": "code",
   "execution_count": 1,
   "id": "ff83a2da-8871-4430-95ec-9099fd0b31c6",
   "metadata": {},
   "outputs": [],
   "source": [
    "import io"
   ]
  },
  {
   "cell_type": "code",
   "execution_count": 11,
   "id": "f2b3247e-7c55-4acc-92cf-d1815433780a",
   "metadata": {},
   "outputs": [],
   "source": [
    "new_txt = \"Learning Python and Data Analysis.\""
   ]
  },
  {
   "cell_type": "code",
   "execution_count": 5,
   "id": "1b23f2d1-9cff-4abc-9e01-66af97c3246f",
   "metadata": {},
   "outputs": [],
   "source": [
    "# Store the string like a file in memory\n",
    "file = io.StringIO(new_txt)"
   ]
  },
  {
   "cell_type": "code",
   "execution_count": 6,
   "id": "8d55a6a1-7190-46c9-b5ba-cb35ae0a9b16",
   "metadata": {},
   "outputs": [
    {
     "data": {
      "text/plain": [
       "'Learning Python and Data Analysis'"
      ]
     },
     "execution_count": 6,
     "metadata": {},
     "output_type": "execute_result"
    }
   ],
   "source": [
    "# Read the string like variable in memory\n",
    "file.read()"
   ]
  },
  {
   "cell_type": "code",
   "execution_count": 16,
   "id": "9e4301b8-0fb7-4770-8067-7b35a311a27d",
   "metadata": {},
   "outputs": [
    {
     "data": {
      "text/plain": [
       "34"
      ]
     },
     "execution_count": 16,
     "metadata": {},
     "output_type": "execute_result"
    }
   ],
   "source": [
    "file.write(\" Master the Data Handling concepts\")"
   ]
  },
  {
   "cell_type": "code",
   "execution_count": 17,
   "id": "fc2492c6-a317-4a5e-b054-833b69570e42",
   "metadata": {},
   "outputs": [
    {
     "data": {
      "text/plain": [
       "0"
      ]
     },
     "execution_count": 17,
     "metadata": {},
     "output_type": "execute_result"
    }
   ],
   "source": [
    "file.seek(0)"
   ]
  },
  {
   "cell_type": "code",
   "execution_count": null,
   "id": "6f8d6a8f-f379-4ca7-90e3-e56ba1a3af0b",
   "metadata": {},
   "outputs": [],
   "source": [
    "file.read()"
   ]
  },
  {
   "cell_type": "markdown",
   "id": "d9048c50-cd96-4c1a-9fcf-d6197ad52823",
   "metadata": {},
   "source": [
    "### OS Module"
   ]
  },
  {
   "cell_type": "code",
   "execution_count": 19,
   "id": "06139656-ffc5-4f92-b62c-44860cba8ae5",
   "metadata": {},
   "outputs": [],
   "source": [
    "import os"
   ]
  },
  {
   "cell_type": "code",
   "execution_count": 20,
   "id": "52fde7df-1e49-43d8-96d5-9e6a58c9f55b",
   "metadata": {},
   "outputs": [
    {
     "data": {
      "text/plain": [
       "'/home/makori/Desktop/Learn_Data_Science/python_for_data_science_bootcamp/Basics'"
      ]
     },
     "execution_count": 20,
     "metadata": {},
     "output_type": "execute_result"
    }
   ],
   "source": [
    "os.getcwd() # Get current working directory"
   ]
  },
  {
   "cell_type": "code",
   "execution_count": 21,
   "id": "27550729-9d75-42c8-b452-ce355b8624ec",
   "metadata": {},
   "outputs": [
    {
     "data": {
      "text/plain": [
       "['data_handling.ipynb',\n",
       " 'python_fundamentals.ipynb',\n",
       " 'variable_and_types.ipynb',\n",
       " 'first_python_code.ipynb',\n",
       " 'Readme.MD',\n",
       " 'advanced_foundations.ipynb',\n",
       " 'introduction.ipynb',\n",
       " '.ipynb_checkpoints',\n",
       " 'python_oop.ipynb',\n",
       " 'data_structures.ipynb',\n",
       " '.jupyter']"
      ]
     },
     "execution_count": 21,
     "metadata": {},
     "output_type": "execute_result"
    }
   ],
   "source": [
    "os.listdir() # list of the cwd file"
   ]
  },
  {
   "cell_type": "markdown",
   "id": "e7838222-a6cd-460a-bee6-ffed20127051",
   "metadata": {},
   "source": [
    "### shutil module"
   ]
  },
  {
   "cell_type": "code",
   "execution_count": 22,
   "id": "7e293e61-2812-4f6a-89da-38909e4c6a1f",
   "metadata": {},
   "outputs": [],
   "source": [
    "import shutil"
   ]
  },
  {
   "cell_type": "code",
   "execution_count": 35,
   "id": "866a70a4-6a96-4e3a-a918-ad2b1677eeab",
   "metadata": {},
   "outputs": [
    {
     "data": {
      "text/plain": [
       "'main/demo.txt'"
      ]
     },
     "execution_count": 35,
     "metadata": {},
     "output_type": "execute_result"
    }
   ],
   "source": [
    "# Used to easily move files to different locations and directories\n",
    "# Example move the demo.txt file to the main directory\n",
    "shutil.move('demo.txt', 'main')"
   ]
  },
  {
   "cell_type": "code",
   "execution_count": 42,
   "id": "9a8211c4-d204-46b8-b7ab-861575900c96",
   "metadata": {},
   "outputs": [
    {
     "data": {
      "text/plain": [
       "['demo.txt', '.ipynb_checkpoints']"
      ]
     },
     "execution_count": 42,
     "metadata": {},
     "output_type": "execute_result"
    }
   ],
   "source": [
    "# confirm that the demo.txt is moved to the main dir\n",
    "os.listdir('main')"
   ]
  },
  {
   "cell_type": "code",
   "execution_count": 39,
   "id": "3f96071f-8a46-44e3-a416-8ea8aa46b12f",
   "metadata": {},
   "outputs": [
    {
     "data": {
      "text/plain": [
       "'/home/makori/Desktop/Learn_Data_Science/python_for_data_science_bootcamp/Basics/main.txt'"
      ]
     },
     "execution_count": 39,
     "metadata": {},
     "output_type": "execute_result"
    }
   ],
   "source": [
    "# Move main.txt from the main directory to the current working directory\n",
    "shutil.move('main/main.txt', os.getcwd())"
   ]
  },
  {
   "cell_type": "code",
   "execution_count": 41,
   "id": "76ac9852-e728-41d6-9fec-52d72a544570",
   "metadata": {},
   "outputs": [
    {
     "data": {
      "text/plain": [
       "['data_handling.ipynb',\n",
       " 'python_fundamentals.ipynb',\n",
       " 'variable_and_types.ipynb',\n",
       " 'first_python_code.ipynb',\n",
       " 'Readme.MD',\n",
       " '.\\\\main',\n",
       " 'advanced_foundations.ipynb',\n",
       " 'main.txt',\n",
       " 'introduction.ipynb',\n",
       " '.ipynb_checkpoints',\n",
       " 'main',\n",
       " 'python_oop.ipynb',\n",
       " 'data_structures.ipynb',\n",
       " '.jupyter']"
      ]
     },
     "execution_count": 41,
     "metadata": {},
     "output_type": "execute_result"
    }
   ],
   "source": [
    "# Confirm main.txt is moved to the cwd\n",
    "os.listdir()"
   ]
  },
  {
   "cell_type": "code",
   "execution_count": null,
   "id": "b9964302-809c-444c-8dfa-893722c04a17",
   "metadata": {},
   "outputs": [],
   "source": []
  }
 ],
 "metadata": {
  "kernelspec": {
   "display_name": "Python 3 (ipykernel)",
   "language": "python",
   "name": "python3"
  },
  "language_info": {
   "codemirror_mode": {
    "name": "ipython",
    "version": 3
   },
   "file_extension": ".py",
   "mimetype": "text/x-python",
   "name": "python",
   "nbconvert_exporter": "python",
   "pygments_lexer": "ipython3",
   "version": "3.12.3"
  }
 },
 "nbformat": 4,
 "nbformat_minor": 5
}
